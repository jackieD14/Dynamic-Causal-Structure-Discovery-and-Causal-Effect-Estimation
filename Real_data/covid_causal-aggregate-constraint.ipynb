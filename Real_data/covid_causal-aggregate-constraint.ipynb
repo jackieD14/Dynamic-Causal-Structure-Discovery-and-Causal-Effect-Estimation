{
 "cells": [
  {
   "cell_type": "code",
   "execution_count": 251,
   "metadata": {},
   "outputs": [],
   "source": [
    "import numpy as np\n",
    "import torch\n",
    "from torch.utils.data.dataset import TensorDataset\n",
    "from torch.utils.data import DataLoader\n",
    "import torch.nn.functional as F\n",
    "import torch.nn as nn\n",
    "from torch.autograd import Variable\n",
    "import numpy as np\n",
    "import scipy.linalg as slin\n",
    "import scipy.sparse as sp\n",
    "import networkx as nx\n",
    "import pandas as pd\n",
    "from pandas import ExcelWriter\n",
    "from pandas import ExcelFile\n",
    "import glob\n",
    "import re\n",
    "import math\n",
    "from torch.optim.adam import Adam\n",
    "from statistics import mean\n",
    "import random\n",
    "import warnings\n",
    "from typing import Dict, List, Tuple, Union\n",
    "\n",
    "import numpy as np\n",
    "import pandas as pd\n",
    "import scipy.linalg as slin\n",
    "import scipy.optimize as sopt\n",
    "\n",
    "import networkx as nx\n",
    "from scipy.sparse import csr_matrix\n",
    "from utils import *"
   ]
  },
  {
   "cell_type": "code",
   "execution_count": 252,
   "metadata": {},
   "outputs": [],
   "source": [
    "import numpy as np\n",
    "import pandas as pd\n",
    "import os\n",
    "import pickle"
   ]
  },
  {
   "cell_type": "code",
   "execution_count": 253,
   "metadata": {},
   "outputs": [],
   "source": [
    "from __future__ import division\n",
    "from __future__ import print_function\n",
    "\n",
    "import time\n",
    "import argparse\n",
    "import pickle\n",
    "import os\n",
    "import random\n",
    "import torch.optim as optim\n",
    "from torch.optim import lr_scheduler\n",
    "import math\n",
    "from utils import *\n",
    "\n",
    "from multiprocessing import Pool\n",
    "import multiprocessing\n",
    "n_cores = multiprocessing.cpu_count()\n",
    "from numpy.random import randn\n",
    "from random import seed as rseed\n",
    "from numpy.random import seed as npseed\n",
    "import time"
   ]
  },
  {
   "cell_type": "code",
   "execution_count": 254,
   "metadata": {},
   "outputs": [],
   "source": [
    "covid_raw=pd.read_csv(\"C:/Users/Jianian Wang/Desktop/ANOCE-CVAE-master/RealData/Modeldata.csv\") #around Los Angeles\n",
    "#district_12=pd.read_csv(\"./d12_text_meta_2020_12_08.txt\",sep=\"\\t\") "
   ]
  },
  {
   "cell_type": "code",
   "execution_count": 255,
   "metadata": {},
   "outputs": [
    {
     "data": {
      "text/plain": [
       "11    2807\n",
       "2     2807\n",
       "18    2807\n",
       "17    2807\n",
       "16    2807\n",
       "15    2807\n",
       "14    2807\n",
       "13    2807\n",
       "12    2807\n",
       "10    2807\n",
       "20    2807\n",
       "9     2807\n",
       "8     2807\n",
       "7     2807\n",
       "6     2807\n",
       "5     2807\n",
       "4     2807\n",
       "3     2807\n",
       "19    2807\n",
       "1     2406\n",
       "21     401\n",
       "Name: week_count, dtype: int64"
      ]
     },
     "execution_count": 255,
     "metadata": {},
     "output_type": "execute_result"
    }
   ],
   "source": [
    "covid_raw[\"week_count\"]=covid_raw[\"daycount\"]//7\n",
    "covid_raw[\"week_count\"].value_counts()"
   ]
  },
  {
   "cell_type": "code",
   "execution_count": 256,
   "metadata": {},
   "outputs": [],
   "source": [
    "covid_agg=covid_raw.groupby(['id','week_count']).mean()\n",
    "covid_agg.reset_index(inplace=True)"
   ]
  },
  {
   "cell_type": "code",
   "execution_count": 257,
   "metadata": {},
   "outputs": [],
   "source": [
    "#feature_list=[\"Mandatory face masks\",\"Contact restrictions\",\"Mobility (mean)\",\"Weather (temperature)\",\"Reported new cases COVID-19\"]\n",
    "feature_list=[\"Contact restrictions\",\"Mobility (mean)\",\"Searches corona\",\"Reported new cases COVID-19\"]"
   ]
  },
  {
   "cell_type": "code",
   "execution_count": 258,
   "metadata": {},
   "outputs": [],
   "source": [
    "top_list=pd.DataFrame(covid_agg.groupby(['id'])[\"Reported new cases COVID-19\"].mean().sort_values(ascending=False)).reset_index()[\"id\"].to_list()[3:30]"
   ]
  },
  {
   "cell_type": "code",
   "execution_count": 259,
   "metadata": {},
   "outputs": [
    {
     "data": {
      "text/html": [
       "<div>\n",
       "<style scoped>\n",
       "    .dataframe tbody tr th:only-of-type {\n",
       "        vertical-align: middle;\n",
       "    }\n",
       "\n",
       "    .dataframe tbody tr th {\n",
       "        vertical-align: top;\n",
       "    }\n",
       "\n",
       "    .dataframe thead th {\n",
       "        text-align: right;\n",
       "    }\n",
       "</style>\n",
       "<table border=\"1\" class=\"dataframe\">\n",
       "  <thead>\n",
       "    <tr style=\"text-align: right;\">\n",
       "      <th></th>\n",
       "      <th>id</th>\n",
       "      <th>week_count</th>\n",
       "      <th>Holiday (report)</th>\n",
       "      <th>census_fips_code</th>\n",
       "      <th>Mobility (retail and recreation)</th>\n",
       "      <th>Mobility (grocery and pharmacy)</th>\n",
       "      <th>Mobility (parks)</th>\n",
       "      <th>Mobility (transit stations)</th>\n",
       "      <th>Mobility (workplaces)</th>\n",
       "      <th>Mobility (residential)</th>\n",
       "      <th>...</th>\n",
       "      <th>Age (pop. younger 18)</th>\n",
       "      <th>Nursing homes</th>\n",
       "      <th>COVID-19 burden</th>\n",
       "      <th>bl_id</th>\n",
       "      <th>cases</th>\n",
       "      <th>deaths</th>\n",
       "      <th>recovered</th>\n",
       "      <th>Reported new cases COVID-19</th>\n",
       "      <th>Active cases</th>\n",
       "      <th>daycount</th>\n",
       "    </tr>\n",
       "  </thead>\n",
       "  <tbody>\n",
       "    <tr>\n",
       "      <th>525</th>\n",
       "      <td>3159000</td>\n",
       "      <td>1</td>\n",
       "      <td>-0.035714</td>\n",
       "      <td>NaN</td>\n",
       "      <td>29.115568</td>\n",
       "      <td>5.940524</td>\n",
       "      <td>-35.096782</td>\n",
       "      <td>33.080228</td>\n",
       "      <td>22.458639</td>\n",
       "      <td>-7.793172</td>\n",
       "      <td>...</td>\n",
       "      <td>-1.072569</td>\n",
       "      <td>50.890274</td>\n",
       "      <td>-3.497203</td>\n",
       "      <td>3.0</td>\n",
       "      <td>0.000000</td>\n",
       "      <td>0.0</td>\n",
       "      <td>0.0</td>\n",
       "      <td>0.000000</td>\n",
       "      <td>0.000000</td>\n",
       "      <td>10.5</td>\n",
       "    </tr>\n",
       "    <tr>\n",
       "      <th>546</th>\n",
       "      <td>3241000</td>\n",
       "      <td>1</td>\n",
       "      <td>-0.035714</td>\n",
       "      <td>NaN</td>\n",
       "      <td>29.115568</td>\n",
       "      <td>5.940524</td>\n",
       "      <td>-35.096782</td>\n",
       "      <td>33.080228</td>\n",
       "      <td>22.458639</td>\n",
       "      <td>-7.793172</td>\n",
       "      <td>...</td>\n",
       "      <td>0.327431</td>\n",
       "      <td>181.890274</td>\n",
       "      <td>-3.497203</td>\n",
       "      <td>3.0</td>\n",
       "      <td>0.000000</td>\n",
       "      <td>0.0</td>\n",
       "      <td>0.0</td>\n",
       "      <td>0.000000</td>\n",
       "      <td>0.000000</td>\n",
       "      <td>10.5</td>\n",
       "    </tr>\n",
       "    <tr>\n",
       "      <th>1197</th>\n",
       "      <td>3459000</td>\n",
       "      <td>1</td>\n",
       "      <td>-0.035714</td>\n",
       "      <td>NaN</td>\n",
       "      <td>29.115568</td>\n",
       "      <td>5.940524</td>\n",
       "      <td>-35.096782</td>\n",
       "      <td>33.080228</td>\n",
       "      <td>22.458639</td>\n",
       "      <td>-7.793172</td>\n",
       "      <td>...</td>\n",
       "      <td>1.727431</td>\n",
       "      <td>53.890274</td>\n",
       "      <td>-3.497203</td>\n",
       "      <td>3.0</td>\n",
       "      <td>0.000000</td>\n",
       "      <td>0.0</td>\n",
       "      <td>0.0</td>\n",
       "      <td>0.000000</td>\n",
       "      <td>0.000000</td>\n",
       "      <td>10.5</td>\n",
       "    </tr>\n",
       "    <tr>\n",
       "      <th>1281</th>\n",
       "      <td>4011000</td>\n",
       "      <td>1</td>\n",
       "      <td>-0.035714</td>\n",
       "      <td>NaN</td>\n",
       "      <td>26.448902</td>\n",
       "      <td>0.773857</td>\n",
       "      <td>-27.763449</td>\n",
       "      <td>30.746895</td>\n",
       "      <td>21.791972</td>\n",
       "      <td>-7.793172</td>\n",
       "      <td>...</td>\n",
       "      <td>-0.372569</td>\n",
       "      <td>95.890274</td>\n",
       "      <td>-3.497203</td>\n",
       "      <td>4.0</td>\n",
       "      <td>0.000000</td>\n",
       "      <td>0.0</td>\n",
       "      <td>0.0</td>\n",
       "      <td>0.000000</td>\n",
       "      <td>0.000000</td>\n",
       "      <td>10.5</td>\n",
       "    </tr>\n",
       "    <tr>\n",
       "      <th>1323</th>\n",
       "      <td>5111000</td>\n",
       "      <td>1</td>\n",
       "      <td>-0.035714</td>\n",
       "      <td>NaN</td>\n",
       "      <td>30.282235</td>\n",
       "      <td>6.107190</td>\n",
       "      <td>-30.930115</td>\n",
       "      <td>34.913561</td>\n",
       "      <td>22.291972</td>\n",
       "      <td>-7.959838</td>\n",
       "      <td>...</td>\n",
       "      <td>-0.172569</td>\n",
       "      <td>28.890274</td>\n",
       "      <td>-3.497203</td>\n",
       "      <td>5.0</td>\n",
       "      <td>0.000000</td>\n",
       "      <td>0.0</td>\n",
       "      <td>0.0</td>\n",
       "      <td>0.000000</td>\n",
       "      <td>0.000000</td>\n",
       "      <td>10.5</td>\n",
       "    </tr>\n",
       "    <tr>\n",
       "      <th>...</th>\n",
       "      <td>...</td>\n",
       "      <td>...</td>\n",
       "      <td>...</td>\n",
       "      <td>...</td>\n",
       "      <td>...</td>\n",
       "      <td>...</td>\n",
       "      <td>...</td>\n",
       "      <td>...</td>\n",
       "      <td>...</td>\n",
       "      <td>...</td>\n",
       "      <td>...</td>\n",
       "      <td>...</td>\n",
       "      <td>...</td>\n",
       "      <td>...</td>\n",
       "      <td>...</td>\n",
       "      <td>...</td>\n",
       "      <td>...</td>\n",
       "      <td>...</td>\n",
       "      <td>...</td>\n",
       "      <td>...</td>\n",
       "      <td>...</td>\n",
       "    </tr>\n",
       "    <tr>\n",
       "      <th>4534</th>\n",
       "      <td>8417000</td>\n",
       "      <td>20</td>\n",
       "      <td>-0.035714</td>\n",
       "      <td>NaN</td>\n",
       "      <td>17.044140</td>\n",
       "      <td>5.797667</td>\n",
       "      <td>36.593694</td>\n",
       "      <td>11.437371</td>\n",
       "      <td>8.387211</td>\n",
       "      <td>-3.697934</td>\n",
       "      <td>...</td>\n",
       "      <td>0.227431</td>\n",
       "      <td>2.890274</td>\n",
       "      <td>-2.354346</td>\n",
       "      <td>8.0</td>\n",
       "      <td>1224.142857</td>\n",
       "      <td>77.0</td>\n",
       "      <td>1144.0</td>\n",
       "      <td>0.285714</td>\n",
       "      <td>13.142857</td>\n",
       "      <td>143.0</td>\n",
       "    </tr>\n",
       "    <tr>\n",
       "      <th>5017</th>\n",
       "      <td>9184000</td>\n",
       "      <td>20</td>\n",
       "      <td>-0.035714</td>\n",
       "      <td>NaN</td>\n",
       "      <td>17.758425</td>\n",
       "      <td>4.369095</td>\n",
       "      <td>40.736551</td>\n",
       "      <td>7.723085</td>\n",
       "      <td>8.244353</td>\n",
       "      <td>-4.269362</td>\n",
       "      <td>...</td>\n",
       "      <td>2.027431</td>\n",
       "      <td>4.890274</td>\n",
       "      <td>-1.497203</td>\n",
       "      <td>9.0</td>\n",
       "      <td>1468.285714</td>\n",
       "      <td>91.0</td>\n",
       "      <td>1356.0</td>\n",
       "      <td>2.000000</td>\n",
       "      <td>29.000000</td>\n",
       "      <td>143.0</td>\n",
       "    </tr>\n",
       "    <tr>\n",
       "      <th>5080</th>\n",
       "      <td>9187000</td>\n",
       "      <td>20</td>\n",
       "      <td>-0.035714</td>\n",
       "      <td>NaN</td>\n",
       "      <td>17.758425</td>\n",
       "      <td>4.369095</td>\n",
       "      <td>40.736551</td>\n",
       "      <td>7.723085</td>\n",
       "      <td>8.244353</td>\n",
       "      <td>-4.269362</td>\n",
       "      <td>...</td>\n",
       "      <td>1.027431</td>\n",
       "      <td>22.890274</td>\n",
       "      <td>-3.068632</td>\n",
       "      <td>9.0</td>\n",
       "      <td>2303.285714</td>\n",
       "      <td>199.0</td>\n",
       "      <td>2088.0</td>\n",
       "      <td>1.428571</td>\n",
       "      <td>16.285714</td>\n",
       "      <td>143.0</td>\n",
       "    </tr>\n",
       "    <tr>\n",
       "      <th>5122</th>\n",
       "      <td>9189000</td>\n",
       "      <td>20</td>\n",
       "      <td>-0.035714</td>\n",
       "      <td>NaN</td>\n",
       "      <td>17.758425</td>\n",
       "      <td>4.369095</td>\n",
       "      <td>40.736551</td>\n",
       "      <td>7.723085</td>\n",
       "      <td>8.244353</td>\n",
       "      <td>-4.269362</td>\n",
       "      <td>...</td>\n",
       "      <td>0.127431</td>\n",
       "      <td>-9.109726</td>\n",
       "      <td>-3.354346</td>\n",
       "      <td>9.0</td>\n",
       "      <td>1306.000000</td>\n",
       "      <td>88.0</td>\n",
       "      <td>1218.0</td>\n",
       "      <td>0.000000</td>\n",
       "      <td>1.428571</td>\n",
       "      <td>143.0</td>\n",
       "    </tr>\n",
       "    <tr>\n",
       "      <th>6697</th>\n",
       "      <td>10041000</td>\n",
       "      <td>20</td>\n",
       "      <td>-0.035714</td>\n",
       "      <td>NaN</td>\n",
       "      <td>18.615568</td>\n",
       "      <td>0.511952</td>\n",
       "      <td>0.307980</td>\n",
       "      <td>2.151657</td>\n",
       "      <td>7.815782</td>\n",
       "      <td>-3.269362</td>\n",
       "      <td>...</td>\n",
       "      <td>-1.472569</td>\n",
       "      <td>18.890274</td>\n",
       "      <td>-3.354346</td>\n",
       "      <td>10.0</td>\n",
       "      <td>1261.571429</td>\n",
       "      <td>114.0</td>\n",
       "      <td>1146.0</td>\n",
       "      <td>0.285714</td>\n",
       "      <td>2.571429</td>\n",
       "      <td>143.0</td>\n",
       "    </tr>\n",
       "  </tbody>\n",
       "</table>\n",
       "<p>540 rows × 39 columns</p>\n",
       "</div>"
      ],
      "text/plain": [
       "            id  week_count  Holiday (report)  census_fips_code  \\\n",
       "525    3159000           1         -0.035714               NaN   \n",
       "546    3241000           1         -0.035714               NaN   \n",
       "1197   3459000           1         -0.035714               NaN   \n",
       "1281   4011000           1         -0.035714               NaN   \n",
       "1323   5111000           1         -0.035714               NaN   \n",
       "...        ...         ...               ...               ...   \n",
       "4534   8417000          20         -0.035714               NaN   \n",
       "5017   9184000          20         -0.035714               NaN   \n",
       "5080   9187000          20         -0.035714               NaN   \n",
       "5122   9189000          20         -0.035714               NaN   \n",
       "6697  10041000          20         -0.035714               NaN   \n",
       "\n",
       "      Mobility (retail and recreation)  Mobility (grocery and pharmacy)  \\\n",
       "525                          29.115568                         5.940524   \n",
       "546                          29.115568                         5.940524   \n",
       "1197                         29.115568                         5.940524   \n",
       "1281                         26.448902                         0.773857   \n",
       "1323                         30.282235                         6.107190   \n",
       "...                                ...                              ...   \n",
       "4534                         17.044140                         5.797667   \n",
       "5017                         17.758425                         4.369095   \n",
       "5080                         17.758425                         4.369095   \n",
       "5122                         17.758425                         4.369095   \n",
       "6697                         18.615568                         0.511952   \n",
       "\n",
       "      Mobility (parks)  Mobility (transit stations)  Mobility (workplaces)  \\\n",
       "525         -35.096782                    33.080228              22.458639   \n",
       "546         -35.096782                    33.080228              22.458639   \n",
       "1197        -35.096782                    33.080228              22.458639   \n",
       "1281        -27.763449                    30.746895              21.791972   \n",
       "1323        -30.930115                    34.913561              22.291972   \n",
       "...                ...                          ...                    ...   \n",
       "4534         36.593694                    11.437371               8.387211   \n",
       "5017         40.736551                     7.723085               8.244353   \n",
       "5080         40.736551                     7.723085               8.244353   \n",
       "5122         40.736551                     7.723085               8.244353   \n",
       "6697          0.307980                     2.151657               7.815782   \n",
       "\n",
       "      Mobility (residential)  ...  Age (pop. younger 18)  Nursing homes  \\\n",
       "525                -7.793172  ...              -1.072569      50.890274   \n",
       "546                -7.793172  ...               0.327431     181.890274   \n",
       "1197               -7.793172  ...               1.727431      53.890274   \n",
       "1281               -7.793172  ...              -0.372569      95.890274   \n",
       "1323               -7.959838  ...              -0.172569      28.890274   \n",
       "...                      ...  ...                    ...            ...   \n",
       "4534               -3.697934  ...               0.227431       2.890274   \n",
       "5017               -4.269362  ...               2.027431       4.890274   \n",
       "5080               -4.269362  ...               1.027431      22.890274   \n",
       "5122               -4.269362  ...               0.127431      -9.109726   \n",
       "6697               -3.269362  ...              -1.472569      18.890274   \n",
       "\n",
       "      COVID-19 burden  bl_id        cases  deaths  recovered  \\\n",
       "525         -3.497203    3.0     0.000000     0.0        0.0   \n",
       "546         -3.497203    3.0     0.000000     0.0        0.0   \n",
       "1197        -3.497203    3.0     0.000000     0.0        0.0   \n",
       "1281        -3.497203    4.0     0.000000     0.0        0.0   \n",
       "1323        -3.497203    5.0     0.000000     0.0        0.0   \n",
       "...               ...    ...          ...     ...        ...   \n",
       "4534        -2.354346    8.0  1224.142857    77.0     1144.0   \n",
       "5017        -1.497203    9.0  1468.285714    91.0     1356.0   \n",
       "5080        -3.068632    9.0  2303.285714   199.0     2088.0   \n",
       "5122        -3.354346    9.0  1306.000000    88.0     1218.0   \n",
       "6697        -3.354346   10.0  1261.571429   114.0     1146.0   \n",
       "\n",
       "      Reported new cases COVID-19  Active cases  daycount  \n",
       "525                      0.000000      0.000000      10.5  \n",
       "546                      0.000000      0.000000      10.5  \n",
       "1197                     0.000000      0.000000      10.5  \n",
       "1281                     0.000000      0.000000      10.5  \n",
       "1323                     0.000000      0.000000      10.5  \n",
       "...                           ...           ...       ...  \n",
       "4534                     0.285714     13.142857     143.0  \n",
       "5017                     2.000000     29.000000     143.0  \n",
       "5080                     1.428571     16.285714     143.0  \n",
       "5122                     0.000000      1.428571     143.0  \n",
       "6697                     0.285714      2.571429     143.0  \n",
       "\n",
       "[540 rows x 39 columns]"
      ]
     },
     "execution_count": 259,
     "metadata": {},
     "output_type": "execute_result"
    }
   ],
   "source": [
    "#df_select=covid_agg[covid_agg[\"id\"].isin(covid_agg['id'].unique()[:30])].sort_values([\"week_count\",\"id\"])\n",
    "df_select=covid_agg[covid_agg[\"id\"].isin(top_list)].sort_values([\"week_count\",\"id\"])\n",
    "df_select=df_select[df_select[\"week_count\"]<21]\n",
    "#df_select[\"prop\"]=df_select[\"Reported new cases COVID-19\"]/df_select[\"Population density\"]\n",
    "df_select"
   ]
  },
  {
   "cell_type": "code",
   "execution_count": 272,
   "metadata": {},
   "outputs": [
    {
     "data": {
      "text/plain": [
       "array([ 6,  7,  8,  9, 10, 11, 12, 13, 14, 15, 16, 17, 18, 19, 20, 21],\n",
       "      dtype=int64)"
      ]
     },
     "execution_count": 272,
     "metadata": {},
     "output_type": "execute_result"
    }
   ],
   "source": [
    "covid_raw[covid_raw[\"Contact restrictions\"]>0][\"week_count\"].unique()"
   ]
  },
  {
   "cell_type": "markdown",
   "metadata": {},
   "source": [
    "## create basis & function demo"
   ]
  },
  {
   "cell_type": "code",
   "execution_count": 12,
   "metadata": {},
   "outputs": [
    {
     "name": "stderr",
     "output_type": "stream",
     "text": [
      "\n",
      "Bad key \"text.kerning_factor\" on line 4 in\n",
      "D:\\Anaconda\\lib\\site-packages\\matplotlib\\mpl-data\\stylelib\\_classic_test_patch.mplstyle.\n",
      "You probably need to get an updated matplotlibrc file from\n",
      "https://github.com/matplotlib/matplotlib/blob/v3.1.3/matplotlibrc.template\n",
      "or from the matplotlib source distribution\n"
     ]
    },
    {
     "data": {
      "image/png": "[encoded data removed]",
      "text/plain": [
       "<Figure size 432x288 with 1 Axes>"
      ]
     },
     "metadata": {
      "needs_background": "light"
     },
     "output_type": "display_data"
    }
   ],
   "source": [
    "from scipy.interpolate import BSpline\n",
    "k =2\n",
    "time_stamp=len(df_select[\"week_count\"].unique())\n",
    "x = np.array(range(0, time_stamp))\n",
    "m = 2\n",
    "step = (x[-1] - x[0]) / (m + 1)\n",
    "t = [0,0,0]+list(np.linspace(step, m * step, m))+[time_stamp,time_stamp,time_stamp]##create knots\n",
    "c1 = [1,0,0,0,0]\n",
    "c2 = [0,1,0,0,0]\n",
    "c3 = [0,0,1,0,0]\n",
    "c4 = [0,0,0,1,0]\n",
    "c5 = [0,0,0,0,1]\n",
    "spl1 = BSpline(t, c1, k)\n",
    "spl2 = BSpline(t, c2, k)\n",
    "spl3 = BSpline(t, c3, k)\n",
    "spl4 = BSpline(t, c4, k)\n",
    "spl5 = BSpline(t, c5, k)\n",
    "\n",
    "import matplotlib.pyplot as plt\n",
    "fig, ax = plt.subplots()\n",
    "xx = np.linspace(0, time_stamp,  50)\n",
    "ax.plot(xx, spl1(xx), lw=3, label='Bspline1')\n",
    "ax.plot(xx, spl2(xx), lw=4, alpha=0.7, label='Bspline2')\n",
    "ax.plot(xx, spl3(xx), lw=4, alpha=0.7, label='Bspline3')\n",
    "ax.plot(xx, spl4(xx), lw=4, alpha=0.7, label='Bspline4')\n",
    "ax.plot(xx, spl5(xx), lw=4, alpha=0.7, label='Bspline5')\n",
    "ax.grid(True)\n",
    "ax.legend(loc='best')\n",
    "plt.show()"
   ]
  },
  {
   "cell_type": "code",
   "execution_count": 13,
   "metadata": {
    "scrolled": true
   },
   "outputs": [
    {
     "data": {
      "text/plain": [
       "['Contact restrictions',\n",
       " 'Mobility (mean)',\n",
       " 'Searches corona',\n",
       " 'Reported new cases COVID-19']"
      ]
     },
     "execution_count": 13,
     "metadata": {},
     "output_type": "execute_result"
    }
   ],
   "source": [
    "feature_list"
   ]
  },
  {
   "cell_type": "code",
   "execution_count": 14,
   "metadata": {},
   "outputs": [],
   "source": [
    "# ----------- Configurations:\n",
    "#time_stamp=10\n",
    "n_timestamp=time_stamp\n",
    "#sample__time=30\n",
    "n =data.shape[0]\n",
    "d=data.shape[1]\n",
    "sample__time=int(n/n_timestamp)\n",
    "n_var = data.shape[1] # The number of variables in data.\n",
    "x_dims = 1 # The number of input dimensions: default 1.\n",
    "z_dims = d # The number of latent variable dimensions: default the same as variable size.\n"
   ]
  },
  {
   "cell_type": "code",
   "execution_count": 15,
   "metadata": {},
   "outputs": [
    {
     "data": {
      "text/plain": [
       "27"
      ]
     },
     "execution_count": 15,
     "metadata": {},
     "output_type": "execute_result"
    }
   ],
   "source": [
    "sample__time"
   ]
  },
  {
   "cell_type": "code",
   "execution_count": 16,
   "metadata": {},
   "outputs": [
    {
     "data": {
      "text/plain": [
       "20"
      ]
     },
     "execution_count": 16,
     "metadata": {},
     "output_type": "execute_result"
    }
   ],
   "source": [
    "n_timestamp"
   ]
  },
  {
   "cell_type": "code",
   "execution_count": 17,
   "metadata": {
    "scrolled": true
   },
   "outputs": [
    {
     "data": {
      "text/plain": [
       "4"
      ]
     },
     "execution_count": 17,
     "metadata": {},
     "output_type": "execute_result"
    }
   ],
   "source": [
    "d"
   ]
  },
  {
   "cell_type": "code",
   "execution_count": 18,
   "metadata": {},
   "outputs": [
    {
     "data": {
      "text/plain": [
       "540"
      ]
     },
     "execution_count": 18,
     "metadata": {},
     "output_type": "execute_result"
    }
   ],
   "source": [
    "n"
   ]
  },
  {
   "cell_type": "code",
   "execution_count": 19,
   "metadata": {},
   "outputs": [
    {
     "data": {
      "text/plain": [
       "4"
      ]
     },
     "execution_count": 19,
     "metadata": {},
     "output_type": "execute_result"
    }
   ],
   "source": [
    "n_var"
   ]
  },
  {
   "cell_type": "code",
   "execution_count": 20,
   "metadata": {},
   "outputs": [],
   "source": [
    "def create_D(X,spline_list):\n",
    "    D_all=np.zeros((sample__time*time_stamp, n_var*len(spline_list),1))\n",
    "    for j in range(len(spline_list)):\n",
    "        D_column=np.zeros((sample__time*time_stamp, n_var,1))#for each spline\n",
    "        for i in range(0,n_timestamp):\n",
    "            D_column[(sample__time*i):(sample__time*(i+1)),:,:]=X[(sample__time*i):(sample__time*(i+1)),:]*spline_list[j](i)#X_i *f(i), stack horizontally\n",
    "        ##horizontally append\n",
    "        D_all[:,n_var*j:n_var*(j+1),:]=D_column\n",
    "        #print((n_features*j,n_features*(j+1)))\n",
    "    return(D_all)"
   ]
  },
  {
   "cell_type": "code",
   "execution_count": 21,
   "metadata": {},
   "outputs": [],
   "source": [
    "#spline_list=[spl_const]\n",
    "spline_list=[spl1,spl2,spl3,spl4,spl5]"
   ]
  },
  {
   "cell_type": "code",
   "execution_count": 22,
   "metadata": {},
   "outputs": [],
   "source": [
    "def spl_consraint(spline_list,t,p):\n",
    "    k=len(spline_list)\n",
    "    output=torch.zeros(((p*k), p))\n",
    "    identity=torch.zeros((p, p*k))\n",
    "    for i in range(k):\n",
    "        output[(i*p):(i*p+p),:]=torch.ones((p,p))*spline_list[i](t).item() #gamma times basis\n",
    "        identity[:,(i*p):(i*p+p)]=torch.eye(p) #stacked identity matrix\n",
    "    #final=torch.matmul(identity,output)\n",
    "    return output, identity"
   ]
  },
  {
   "cell_type": "code",
   "execution_count": 28,
   "metadata": {},
   "outputs": [],
   "source": [
    "###edited to remove the first column in the lagged weigttsv\n",
    "def fun_h2_B_new(B):\n",
    "    '''compute constraint h2(B) value'''\n",
    "    d = B.shape[0]\n",
    "    gamma=B[p:(p+p*k),:p]\n",
    "    Tau=B[(p+p*k):,:]\n",
    "    h3_B = sum(sum(abs(B[:p, :])))+sum(abs(gamma[:, 0]))+sum(sum(abs(B[p:, p:])))+ sum(abs(Tau[:, 0]))# uppper 0 and 0 column and every p-1,2p-1 row\n",
    "    for i in range(k):\n",
    "        h3_B=h3_B+sum(abs(gamma[((i+1)*p-1), 1:]))\n",
    "    return h3_B"
   ]
  },
  {
   "cell_type": "code",
   "execution_count": 29,
   "metadata": {},
   "outputs": [],
   "source": [
    "def fun_h1_B(B):\n",
    "    '''compute constraint h1(B) value'''\n",
    "    d = B.shape[0]\n",
    "    expm_B = matrix_poly(B * B, d)\n",
    "    h1_B = torch.trace(expm_B) - d\n",
    "    return h1_B.float()"
   ]
  },
  {
   "cell_type": "code",
   "execution_count": 30,
   "metadata": {},
   "outputs": [],
   "source": [
    "def train_new(epoch, lambda1, c_B, lambda2, d_B, optimizer, old_lr,p,k):\n",
    "        \n",
    "        nll_train = []\n",
    "        kl_train = []\n",
    "        mse_train = []\n",
    "        encoder.train()\n",
    "        decoder.train()\n",
    "        scheduler.step()\n",
    "\n",
    "        # Update optimizer\n",
    "        optimizer, lr = update_optimizer(optimizer, old_lr, c_B, d_B)\n",
    "\n",
    "        for batch_idx, (data, relations) in enumerate(train_loader):\n",
    "\n",
    "            data, relations = Variable(data).double(), Variable(relations).double()\n",
    "            relations = relations.unsqueeze(2) # Reshape data\n",
    "\n",
    "            optimizer.zero_grad()\n",
    "\n",
    "            enc_x, logits, origin_B, adj_A_tilt_encoder, z_gap, z_positive, myA, Wa = encoder(data, rel_rec, rel_send) \n",
    "            edges = logits # Logits is of size: [num_sims, z_dims]\n",
    "\n",
    "            dec_x, output, adj_A_tilt_decoder = decoder(data, edges, d * x_dims, rel_rec, rel_send, origin_B, adj_A_tilt_encoder, Wa)\n",
    "\n",
    "            if torch.sum(output != output):\n",
    "                print('nan error\\n')\n",
    "\n",
    "            target = data\n",
    "            preds = output\n",
    "            variance = 0.\n",
    "            \n",
    "            # Compute constraint functions h1(B) and h2(B)\n",
    "            #h1_B = fun_h1_B(origin_B[p:,p:]) #acyclity on G\n",
    "            h1_B =0\n",
    "            for i in range(n_timestamp):\n",
    "                #aa=torch.matmul(spl_consraint(spline_list,i,p).type(torch.FloatTensor),origin_B[p:,:p].type(torch.FloatTensor))#acyclity on Gamma\n",
    "                #print(fun_h1_B(aa))\n",
    "                output, identity=spl_consraint(spline_list,i,p)\n",
    "                h1_B=h1_B+fun_h1_B(torch.matmul(identity.type(torch.FloatTensor),(output.type(torch.FloatTensor)*origin_B[p:(p+p*k),:p].type(torch.FloatTensor))))#acyclity on Gamma\n",
    "            h2_B = fun_h2_B_new(origin_B) ##handle the zero on gamma and top\n",
    "            # Reconstruction accuracy loss:\n",
    "            loss_nll = nll_gaussian(preds, target, variance)\n",
    "            # KL loss:\n",
    "            loss_kl = kl_gaussian(logits)\n",
    "            # ELBO loss:\n",
    "            loss = loss_kl + loss_nll\n",
    "            # Loss function:\n",
    "            loss += lambda1 * h1_B + 0.5 * c_B * h1_B * h1_B + lambda2 * h2_B + 0.5 * d_B * h2_B * h2_B + 100. * torch.trace(origin_B * origin_B)\n",
    "\n",
    "            loss.backward()\n",
    "            loss = optimizer.step()\n",
    "\n",
    "            myA.data = stau(myA.data, tau_B * lr)\n",
    "\n",
    "            if torch.sum(origin_B != origin_B):\n",
    "                print('nan error\\n')\n",
    "\n",
    "            mse_train.append(F.mse_loss(preds, target).item())\n",
    "            nll_train.append(loss_nll.item())\n",
    "            kl_train.append(loss_kl.item())\n",
    "\n",
    "        return np.mean(np.mean(kl_train) + np.mean(nll_train)), np.mean(nll_train), np.mean(mse_train), origin_B, optimizer, lr\n"
   ]
  },
  {
   "cell_type": "code",
   "execution_count": 31,
   "metadata": {},
   "outputs": [
    {
     "data": {
      "text/plain": [
       "20"
      ]
     },
     "execution_count": 31,
     "metadata": {},
     "output_type": "execute_result"
    }
   ],
   "source": [
    "time_stamp"
   ]
  },
  {
   "cell_type": "code",
   "execution_count": 32,
   "metadata": {},
   "outputs": [
    {
     "data": {
      "text/plain": [
       "27"
      ]
     },
     "execution_count": 32,
     "metadata": {},
     "output_type": "execute_result"
    }
   ],
   "source": [
    "sample__time"
   ]
  },
  {
   "cell_type": "code",
   "execution_count": 33,
   "metadata": {},
   "outputs": [
    {
     "name": "stdout",
     "output_type": "stream",
     "text": [
      "(513, 44, 1)\n"
     ]
    },
    {
     "name": "stderr",
     "output_type": "stream",
     "text": [
      "D:\\Anaconda\\lib\\site-packages\\torch\\optim\\lr_scheduler.py:100: UserWarning: Detected call of `lr_scheduler.step()` before `optimizer.step()`. In PyTorch 1.1.0 and later, you should call them in the opposite order: `optimizer.step()` before `lr_scheduler.step()`.  Failure to do this will result in PyTorch skipping the first value of the learning rate schedule.See more details at https://pytorch.org/docs/stable/optim.html#how-to-adjust-learning-rate\n",
      "  \"https://pytorch.org/docs/stable/optim.html#how-to-adjust-learning-rate\", UserWarning)\n"
     ]
    },
    {
     "name": "stdout",
     "output_type": "stream",
     "text": [
      "Best ELBO Loss : 0.02172310133928428\n",
      "Best NLL Loss : 0.00017741547032818327\n",
      "Best MSE Loss : 8.06433956037197e-06\n",
      "0\n"
     ]
    }
   ],
   "source": [
    "import time\n",
    "time_stamp=19 #####edited##############\n",
    "n_times=1 #no. of replicates\n",
    "np.random.seed(1234567) #Random seed\n",
    "seed_list=np.random.randint(1, 1000000, size=n_times)\n",
    "average_coef_list_new=np.zeros((n_times,time_stamp,n_var,n_var))\n",
    "lambda_list=np.zeros((n_times,20,n_var))\n",
    "t_list=np.zeros((n_times,20,n_var))\n",
    "for replicate in range(n_times):\n",
    "  seed=seed_list[replicate]\n",
    "  #X_all=simulate_lsem_dynamic(W_all,Z_graph,30,10, 'Binary',noise_scale=0.1).reshape(330,5,1) #create data\n",
    "  X_all=np.array(data).reshape(data.shape[0],d,1)\n",
    "  X=X_all[sample__time:,:,:]\n",
    "  Y=X_all[:-sample__time,:,:]\n",
    "\n",
    "  D=create_D(X,spline_list)\n",
    "  G=create_D(Y,spline_list)\n",
    "  data_all=np.append(X,D, axis=1)\n",
    "  data_all=np.append(data_all,G, axis=1)\n",
    "  print(np.shape(data_all))\n",
    "  average_list=np.zeros((time_stamp,n_var, n_var))\n",
    "  \n",
    "  ####estimate at each time_stamp####\n",
    "  timestart_new=time.time()\n",
    "    # ----------- Configurations::\n",
    "\n",
    "  n = 1*time_stamp # The number of samples of data.\n",
    "  d = 65 # The number of variables in data after basis.\n",
    "  x_dims = 1 # The number of input dimensions: default 1.\n",
    "  z_dims = d # The number of latent variable dimensions: default the same as variable size.\n",
    "  epochs = 200 # Number of epochs to train.\n",
    "  batch_size = 10 # Number of samples per batch. note: should be divisible by sample size, otherwise throw an error.\n",
    "  k_max_iter = int(1e2) # The max iteration number for searching parameters.\n",
    "  original_lr = 3e-3  # Initial learning rate.\n",
    "  encoder_hidden = d^2 # Number of hidden units, adaptive to dimension of nodes (d^2).\n",
    "  decoder_hidden = d^2 # Number of hidden units, adaptive to dimension of nodes (d^2).\n",
    "  temp = 0.5 # Temperature for Gumbel softmax.\n",
    "  factor = True # Factor graph model.\n",
    "  encoder_dropout = 0.0 # Dropout rate (1 - keep probability).\n",
    "  decoder_dropout = 0.0 # Dropout rate (1 - keep probability).\n",
    "  tau_B = 0. # Coefficient for L-1 norm of matrix B.\n",
    "  lambda1 = 0. # Coefficient for DAG constraint h1(B).\n",
    "  lambda2 = 0. # Coefficient for identification constraint h2(B).\n",
    "  c_B = 1 # Coefficient for absolute value h1(B).\n",
    "  d_B = 1 # Coefficient for absolute value h2(B).\n",
    "  e_B = 1 # Coefficient for absolute value h3(B)\n",
    "  h1_tol = 1e-8 # The tolerance of error of h1(B) to zero.\n",
    "  h2_tol = 1e-8 # The tolerance of error of h2(B) to zero.\n",
    "  h3_tol = 1e-8 # The tolerance of error of h2(B) to zero.\n",
    "  lr_decay = 200 # After how many epochs to decay LR by a factor of gamma. \n",
    "  gamma = 1.0 # LR decay factor.  \n",
    "    ######################\n",
    "  p=4\n",
    "  k=5 #no.of basis\n",
    "  np.random.seed(seed)\n",
    "  random.seed(seed)\n",
    "  torch.manual_seed(seed)\n",
    "  feat_train = torch.FloatTensor(data_all)\n",
    "  feat_valid = torch.FloatTensor(data_all)\n",
    "  feat_test = torch.FloatTensor(data_all)\n",
    "\n",
    "  # Reconstruct itself\n",
    "  train_data = TensorDataset(feat_train, feat_train)\n",
    "  valid_data = TensorDataset(feat_valid, feat_train)\n",
    "  test_data = TensorDataset(feat_test, feat_train)\n",
    "\n",
    "  train_loader = DataLoader(train_data, batch_size = batch_size)\n",
    "  valid_loader = DataLoader(valid_data, batch_size = batch_size)\n",
    "  test_loader = DataLoader(test_data, batch_size = batch_size)\n",
    "\n",
    "  # ----------- Load modules:\n",
    "  d1=p+p*k+p*k\n",
    "  off_diag = np.ones([d1, d1]) - np.eye(d1) # Generate off-diagonal interaction graph\n",
    "  rel_rec = np.array(encode_onehot(np.where(off_diag)[1]), dtype = np.float64)\n",
    "  rel_send = np.array(encode_onehot(np.where(off_diag)[0]), dtype = np.float64)\n",
    "  rel_rec = torch.DoubleTensor(rel_rec)\n",
    "  rel_send = torch.DoubleTensor(rel_send)\n",
    "  adj_A = np.zeros((d1, d1)) # Add adjacency matrix\n",
    "\n",
    "  encoder = MLPEncoder(d1 * x_dims, x_dims, encoder_hidden,\n",
    "                          int(z_dims), adj_A,\n",
    "                          batch_size = batch_size,\n",
    "                          do_prob = encoder_dropout, factor = factor).double()\n",
    "  decoder = MLPDecoder(d1 * x_dims,\n",
    "                          z_dims, x_dims, encoder,\n",
    "                          data_variable_size = d1,\n",
    "                          batch_size = batch_size,\n",
    "                          n_hid=decoder_hidden,\n",
    "                          do_prob=decoder_dropout).double()\n",
    "\n",
    "  # ----------- Set up optimizer:\n",
    "  optimizer = Adam(list(encoder.parameters()) + list(decoder.parameters()), lr = original_lr)\n",
    "  scheduler = lr_scheduler.StepLR(optimizer, step_size = lr_decay,\n",
    "                                  gamma = gamma)\n",
    "\n",
    "  rel_rec = Variable(rel_rec)\n",
    "  rel_send = Variable(rel_send)\n",
    "\n",
    "  # ----------- Main:\n",
    "  best_ELBO_loss = np.inf\n",
    "  best_NLL_loss = np.inf\n",
    "  best_MSE_loss = np.inf\n",
    "  h1_B_new = 1 #torch.tensor(1.)\n",
    "  h2_B_new = 1\n",
    "  h1_B_old = np.inf\n",
    "  h2_B_old = np.inf\n",
    "  lr = original_lr\n",
    "\n",
    "  try:\n",
    "      for step_k in range(k_max_iter):\n",
    "          while c_B * d_B < 1e+20:\n",
    "              for epoch in range(epochs):\n",
    "                  old_lr = lr \n",
    "                  ELBO_loss, NLL_loss, MSE_loss, origin_B, optimizer, lr = train_new(epoch, lambda1, c_B, lambda2, d_B, optimizer, old_lr,p=p,k=k)\n",
    "\n",
    "                  if ELBO_loss < best_ELBO_loss:\n",
    "                      best_ELBO_loss = ELBO_loss\n",
    "\n",
    "                  if NLL_loss < best_NLL_loss:\n",
    "                      best_NLL_loss = NLL_loss\n",
    "\n",
    "                  if MSE_loss < best_MSE_loss:\n",
    "                      best_MSE_loss = MSE_loss\n",
    "\n",
    "              if ELBO_loss > 2 * best_ELBO_loss:\n",
    "                  break\n",
    "\n",
    "              # Update parameters\n",
    "              B_new = origin_B.data.clone()\n",
    "              #h1_B = fun_h1_B(B_new[p:,p:]) #acyclity on G\n",
    "              h1_B=0 \n",
    "              for i in range(n_timestamp):\n",
    "\n",
    "                  output, identity=spl_consraint(spline_list,i,p)\n",
    "                  h1_B=h1_B+fun_h1_B(torch.matmul(identity.type(torch.FloatTensor),(output.type(torch.FloatTensor)*B_new[p:(p+p*k),:p].type(torch.FloatTensor))))\n",
    "                  h2_B = fun_h2_B_new(B_new) ##handle the zero on gamma and top\n",
    "\n",
    "\n",
    "              if h1_B_new > 0.25 * h1_B_old and h2_B_new > 0.25 * h2_B_old:\n",
    "                  c_B *= 10\n",
    "                  d_B *= 10\n",
    "              elif h1_B_new > 0.25 * h1_B_old and h2_B_new < 0.25 * h2_B_old:\n",
    "                  c_B *= 10\n",
    "              elif h1_B_new < 0.25 * h1_B_old and h2_B_new > 0.25 * h2_B_old:\n",
    "                  d_B *= 10\n",
    "              else:\n",
    "                  break\n",
    "\n",
    "          # Update parameters    \n",
    "          h1_B_old = h1_B_new\n",
    "          h2_B_old = h2_B_new\n",
    "          lambda1 += c_B * h1_B_new\n",
    "          lambda2 += d_B * h2_B_new\n",
    "\n",
    "          if h1_B_new <= h1_tol and h2_B_new <= h2_tol:\n",
    "              break\n",
    "\n",
    "  except KeyboardInterrupt:\n",
    "      print('KeyboardInterrupt')\n",
    "\n",
    "  predB = np.matrix(origin_B.data.clone().numpy())\n",
    "  print('Best ELBO Loss :', best_ELBO_loss)\n",
    "  print('Best NLL Loss :', best_NLL_loss)\n",
    "  print('Best MSE Loss :', best_MSE_loss)\n",
    "  #calculate_effect(predB)\n",
    "  pred_gamma=predB[p:(p+p*k),:p]\n",
    "  lambda_list[replicate,::]=pred_gamma\n",
    "  np.save(\"gamma_real_csontraint\",lambda_list)\n",
    "    \n",
    "  pred_t=predB[(p+p*k):(p+p*k+p*k),:p]\n",
    "  t_list[replicate,::]=pred_t\n",
    "  np.save(\"quadra_real_csontraint\",t_list)\n",
    "  \n",
    "  print(replicate)\n"
   ]
  },
  {
   "cell_type": "code",
   "execution_count": 35,
   "metadata": {},
   "outputs": [],
   "source": [
    "n_times=1\n",
    "p=4\n",
    "time_stamp=20\n",
    "gamma=np.load(\"gamma_real_csontraint.npy\")\n",
    "t=np.load(\"quadra_real_csontraint.npy\")\n",
    "def matrix_gen_next(t,pred_gamma):\n",
    "    output,identity=spl_consraint(spline_list,t,p)\n",
    "    return torch.matmul(identity.type(torch.FloatTensor),torch.from_numpy((np.multiply(output.numpy(),pred_gamma))).type(torch.FloatTensor)).T"
   ]
  },
  {
   "cell_type": "code",
   "execution_count": 41,
   "metadata": {},
   "outputs": [],
   "source": [
    "n_times=1\n",
    "p=4\n",
    "time_stamp=20\n",
    "gamma=np.load(\"gamma_real_csontraint.npy\")\n",
    "t=np.load(\"quadra_real_csontraint.npy\")\n",
    "def matrix_gen_next(t,pred_gamma):\n",
    "    output,identity=spl_consraint(spline_list,t,p)\n",
    "    return torch.matmul(identity.type(torch.FloatTensor),torch.from_numpy((np.multiply(output.numpy(),pred_gamma))).type(torch.FloatTensor)).T"
   ]
  },
  {
   "cell_type": "code",
   "execution_count": 42,
   "metadata": {},
   "outputs": [],
   "source": [
    "import networkx as nx\n",
    "import matplotlib.pyplot as plt\n",
    "#feature_list=[\"Mandatory face masks\",\"Contact restrictions\",\"Mobility (mean)\",\"Weather (temperature)\",\"Reported new cases COVID-19\"]\n",
    "feature_list=[\"Contact restrictions\",\"Mobility (mean)\",\"Searches corona\",\"Reported new cases COVID-19\"]\n",
    "feature_list_short=['Contact restrictions',\n",
    " 'Mobility',\n",
    " 'Searches',\n",
    " 'Reported new cases COVID-19']"
   ]
  },
  {
   "cell_type": "code",
   "execution_count": 43,
   "metadata": {},
   "outputs": [],
   "source": [
    "pos = {\n",
    "  0: [2.0,2.0],\n",
    "  1: [3.0,1.0],\n",
    "  2: [1.0,1.0],\n",
    "  3: [2.0,0.0]\n",
    "}"
   ]
  },
  {
   "cell_type": "code",
   "execution_count": 102,
   "metadata": {},
   "outputs": [
    {
     "data": {
      "text/plain": [
       "(0.79, 3.21, -0.21000000000000002, 2.21)"
      ]
     },
     "execution_count": 102,
     "metadata": {},
     "output_type": "execute_result"
    },
    {
     "data": {
      "image/png": "[encoded data removed]",
      "text/plain": [
       "<Figure size 432x288 with 1 Axes>"
      ]
     },
     "metadata": {},
     "output_type": "display_data"
    }
   ],
   "source": [
    "import numpy as np\n",
    "import matplotlib.pyplot as plt\n",
    "from matplotlib.backends.backend_pdf import PdfPages\n",
    "import networkx as nx\n",
    "import matplotlib.pyplot as plt\n",
    "\n",
    "time=2\n",
    "average_B = matrix_gen_next(time,gamma[0]).numpy()\n",
    "average_B[np.abs(average_B) < 0.2] = 0 \n",
    "plotG = nx.DiGraph(average_B.T)\n",
    "edges,weights = zip(*nx.get_edge_attributes(plotG,'weight').items())\n",
    "#pos = nx.spring_layout(plotG,seed=1234567) # positions for all nodes\n",
    "nx.draw_networkx_nodes(plotG, pos,\n",
    "                       nodelist = [0],\n",
    "                       node_color = 'r',\n",
    "                       node_size = 300,\n",
    "                   alpha = 0.5)\n",
    "nx.draw_networkx_nodes(plotG, pos,\n",
    "                       nodelist =[1,2],\n",
    "                       node_color = 'g',\n",
    "                       node_size = 200,\n",
    "                   alpha = 0.5)\n",
    "nx.draw_networkx_nodes(plotG, pos, \n",
    "                       nodelist = [3],\n",
    "                       node_color = 'y',\n",
    "                       node_size = 300,\n",
    "                   alpha = 0.5)\n",
    "\n",
    "# edges with color an weight\n",
    "\n",
    "# some math labels\n",
    "labels={}\n",
    "for i in range(len(feature_list_short)):\n",
    "    labels[i] = (feature_list_short)[i]       \n",
    "def color_edge(x):\n",
    "    if x>0:\n",
    "        return \"r\"\n",
    "    else:\n",
    "        return \"b\"\n",
    "\n",
    "#edge_pos = nx.spring_layout(plotG, k=10)\n",
    "edge_labels = {e: round(plotG.edges[e]['weight'],1) for e in plotG.edges}\n",
    "edge_color = [color_edge(plotG.edges[e]['weight']) for e in plotG.edges]\n",
    "nx.draw_networkx_edges(plotG, pos, width = .5, alpha = 1, edgelist=edges, edge_color=edge_color, edge_vmin=-1, edge_vmax=1)\n",
    "nx.draw_networkx_labels(plotG, pos, labels, font_size = 13)\n",
    "nx.draw_networkx_edge_labels(plotG,pos, edge_labels=edge_labels)\n",
    "plt.axis('off')\n",
    "#plt.show() # display\n",
    "#plt.savefig('figure/first_week.pdf')\n",
    "#plt.savefig('figure/last_week.pdf')"
   ]
  },
  {
   "cell_type": "code",
   "execution_count": 107,
   "metadata": {},
   "outputs": [
    {
     "data": {
      "text/plain": [
       "(0.79, 3.21, -0.21000000000000002, 2.21)"
      ]
     },
     "execution_count": 107,
     "metadata": {},
     "output_type": "execute_result"
    },
    {
     "data": {
      "image/png": "[encoded data removed]",
      "text/plain": [
       "<Figure size 432x288 with 1 Axes>"
      ]
     },
     "metadata": {},
     "output_type": "display_data"
    }
   ],
   "source": [
    "import numpy as np\n",
    "import matplotlib.pyplot as plt\n",
    "from matplotlib.backends.backend_pdf import PdfPages\n",
    "import networkx as nx\n",
    "import matplotlib.pyplot as plt\n",
    "\n",
    "time=3\n",
    "gamma=np.load(\"gamma_real_csontraint.npy\")\n",
    "t=np.load(\"quadra_real_csontraint.npy\")\n",
    "def matrix_gen_next(t,pred_gamma):\n",
    "    output,identity=spl_consraint(spline_list,t,p)\n",
    "    return torch.matmul(identity.type(torch.FloatTensor),torch.from_numpy((np.multiply(output.numpy(),pred_gamma))).type(torch.FloatTensor)).T\n",
    "average_B = matrix_gen_next(time,t[0]).numpy()\n",
    "average_B[np.abs(average_B) < 0.2] = 0 \n",
    "plotG = nx.DiGraph(average_B.T)\n",
    "edges,weights = zip(*nx.get_edge_attributes(plotG,'weight').items())\n",
    "#pos = nx.spring_layout(plotG,seed=1234567) # positions for all nodes\n",
    "nx.draw_networkx_nodes(plotG, pos,\n",
    "                       nodelist = [0],\n",
    "                       node_color = 'r',\n",
    "                       node_size = 300,\n",
    "                   alpha = 0.5)\n",
    "nx.draw_networkx_nodes(plotG, pos,\n",
    "                       nodelist =[1,2],\n",
    "                       node_color = 'g',\n",
    "                       node_size = 200,\n",
    "                   alpha = 0.5)\n",
    "nx.draw_networkx_nodes(plotG, pos, \n",
    "                       nodelist = [3],\n",
    "                       node_color = 'y',\n",
    "                       node_size = 300,\n",
    "                   alpha = 0.5)\n",
    "\n",
    "# edges with color an weight\n",
    "\n",
    "# some math labels\n",
    "labels={}\n",
    "for i in range(len(feature_list_short)):\n",
    "    labels[i] = (feature_list_short)[i]       \n",
    "def color_edge(x):\n",
    "    if x>0:\n",
    "        return \"r\"\n",
    "    else:\n",
    "        return \"b\"\n",
    "\n",
    "#edge_pos = nx.spring_layout(plotG, k=10)\n",
    "edge_labels = {e: round(plotG.edges[e]['weight'],1) for e in plotG.edges}\n",
    "edge_color = [color_edge(plotG.edges[e]['weight']) for e in plotG.edges]\n",
    "nx.draw_networkx_edges(plotG, pos, width = .5, alpha = 1, edgelist=edges, edge_color=edge_color, edge_vmin=-1, edge_vmax=1)\n",
    "nx.draw_networkx_labels(plotG, pos, labels, font_size = 13)\n",
    "nx.draw_networkx_edge_labels(plotG,pos, edge_labels=edge_labels)\n",
    "plt.axis('off')\n",
    "#plt.show() # display\n",
    "#plt.savefig('figure/first_week.pdf')\n",
    "#plt.savefig('figure/last_week.pdf')"
   ]
  },
  {
   "cell_type": "code",
   "execution_count": 289,
   "metadata": {},
   "outputs": [
    {
     "data": {
      "text/plain": [
       "(0.79, 3.21, -0.15046486828450611, 2.154784041346881)"
      ]
     },
     "execution_count": 289,
     "metadata": {},
     "output_type": "execute_result"
    },
    {
     "data": {
      "image/png": "[encoded data removed]",
      "text/plain": [
       "<Figure size 432x288 with 1 Axes>"
      ]
     },
     "metadata": {},
     "output_type": "display_data"
    }
   ],
   "source": [
    "import numpy as np\n",
    "import matplotlib.pyplot as plt\n",
    "from matplotlib.backends.backend_pdf import PdfPages\n",
    "import networkx as nx\n",
    "import matplotlib.pyplot as plt\n",
    "\n",
    "time=18\n",
    "gamma=np.load(\"gamma_real_csontraint.npy\")\n",
    "t=np.load(\"quadra_real_csontraint.npy\")\n",
    "def matrix_gen_next(t,pred_gamma):\n",
    "    output,identity=spl_consraint(spline_list,t,p)\n",
    "    return torch.matmul(identity.type(torch.FloatTensor),torch.from_numpy((np.multiply(output.numpy(),pred_gamma))).type(torch.FloatTensor)).T\n",
    "average_B = matrix_gen_next(time,gamma[0]).numpy()\n",
    "average_B[np.abs(average_B) < 0.2]= 0 \n",
    "plotG = nx.DiGraph(average_B.T)\n",
    "edges,weights = zip(*nx.get_edge_attributes(plotG,'weight').items())\n",
    "#pos = nx.spring_layout(plotG,seed=1234567) # positions for all nodes\n",
    "nx.draw_networkx_nodes(plotG, pos,\n",
    "                       nodelist = [0],\n",
    "                       node_color = 'r',\n",
    "                       node_size = 300,\n",
    "                   alpha = 0.5)\n",
    "nx.draw_networkx_nodes(plotG, pos,\n",
    "                       nodelist =[1,2],\n",
    "                       node_color = 'g',\n",
    "                       node_size = 200,\n",
    "                   alpha = 0.5)\n",
    "nx.draw_networkx_nodes(plotG, pos, \n",
    "                       nodelist = [3],\n",
    "                       node_color = 'y',\n",
    "                       node_size = 300,\n",
    "                   alpha = 0.5)\n",
    "\n",
    "# edges with color an weight\n",
    "\n",
    "# some math labels\n",
    "labels={}\n",
    "for i in range(len(feature_list_short)):\n",
    "    labels[i] = (feature_list_short)[i]       \n",
    "def color_edge(x):\n",
    "    if x>0:\n",
    "        return \"r\"\n",
    "    else:\n",
    "        return \"b\"\n",
    "\n",
    "#edge_pos = nx.spring_layout(plotG, k=10)\n",
    "edge_labels = {e: round(plotG.edges[e]['weight'],1) for e in plotG.edges}\n",
    "edge_color = [color_edge(plotG.edges[e]['weight']) for e in plotG.edges]\n",
    "nx.draw_networkx_edges(plotG, pos, width = .5, alpha = 1, edgelist=edges, edge_color=edge_color, edge_vmin=-1, edge_vmax=1)\n",
    "nx.draw_networkx_labels(plotG, pos, labels, font_size = 13)\n",
    "nx.draw_networkx_edge_labels(plotG,pos, edge_labels=edge_labels)\n",
    "plt.axis('off')\n",
    "#plt.show() # display\n",
    "#plt.savefig('figure/first_week.pdf')\n",
    "#plt.savefig('figure/last_week.pdf')"
   ]
  },
  {
   "cell_type": "code",
   "execution_count": 288,
   "metadata": {},
   "outputs": [
    {
     "data": {
      "text/plain": [
       "(0.79, 3.21, -0.21000000000000002, 2.21)"
      ]
     },
     "execution_count": 288,
     "metadata": {},
     "output_type": "execute_result"
    },
    {
     "data": {
      "image/png": "[encoded data removed]",
      "text/plain": [
       "<Figure size 432x288 with 1 Axes>"
      ]
     },
     "metadata": {},
     "output_type": "display_data"
    }
   ],
   "source": [
    "import numpy as np\n",
    "import matplotlib.pyplot as plt\n",
    "from matplotlib.backends.backend_pdf import PdfPages\n",
    "import networkx as nx\n",
    "import matplotlib.pyplot as plt\n",
    "\n",
    "time=18\n",
    "gamma=np.load(\"gamma_real_csontraint.npy\")\n",
    "t=np.load(\"quadra_real_csontraint.npy\")\n",
    "def matrix_gen_next(t,pred_gamma):\n",
    "    output,identity=spl_consraint(spline_list,t,p)\n",
    "    return torch.matmul(identity.type(torch.FloatTensor),torch.from_numpy((np.multiply(output.numpy(),pred_gamma))).type(torch.FloatTensor)).T\n",
    "average_B = matrix_gen_next(time,t[0]).numpy()\n",
    "average_B[np.abs(average_B) < 0.2] = 0 \n",
    "plotG = nx.DiGraph(average_B.T)\n",
    "edges,weights = zip(*nx.get_edge_attributes(plotG,'weight').items())\n",
    "#pos = nx.spring_layout(plotG,seed=1234567) # positions for all nodes\n",
    "nx.draw_networkx_nodes(plotG, pos,\n",
    "                       nodelist = [0],\n",
    "                       node_color = 'r',\n",
    "                       node_size = 300,\n",
    "                   alpha = 0.5)\n",
    "nx.draw_networkx_nodes(plotG, pos,\n",
    "                       nodelist =[1,2],\n",
    "                       node_color = 'g',\n",
    "                       node_size = 200,\n",
    "                   alpha = 0.5)\n",
    "nx.draw_networkx_nodes(plotG, pos, \n",
    "                       nodelist = [3],\n",
    "                       node_color = 'y',\n",
    "                       node_size = 300,\n",
    "                   alpha = 0.5)\n",
    "\n",
    "# edges with color an weight\n",
    "\n",
    "# some math labels\n",
    "labels={}\n",
    "for i in range(len(feature_list_short)):\n",
    "    labels[i] = (feature_list_short)[i]       \n",
    "def color_edge(x):\n",
    "    if x>0:\n",
    "        return \"r\"\n",
    "    else:\n",
    "        return \"b\"\n",
    "\n",
    "#edge_pos = nx.spring_layout(plotG, k=10)\n",
    "edge_labels = {e: round(plotG.edges[e]['weight'],1) for e in plotG.edges}\n",
    "edge_color = [color_edge(plotG.edges[e]['weight']) for e in plotG.edges]\n",
    "nx.draw_networkx_edges(plotG, pos, width = .5, alpha = 1, edgelist=edges, edge_color=edge_color, edge_vmin=-1, edge_vmax=1)\n",
    "nx.draw_networkx_labels(plotG, pos, labels, font_size = 13)\n",
    "nx.draw_networkx_edge_labels(plotG,pos, edge_labels=edge_labels)\n",
    "plt.axis('off')\n",
    "#plt.show() # display\n",
    "#plt.savefig('figure/first_week.pdf')\n",
    "#plt.savefig('figure/last_week.pdf')"
   ]
  },
  {
   "cell_type": "code",
   "execution_count": 201,
   "metadata": {},
   "outputs": [
    {
     "data": {
      "text/plain": [
       "DatetimeIndex(['2020-02-25', '2020-03-03', '2020-03-10', '2020-03-17',\n",
       "               '2020-03-24', '2020-03-31', '2020-04-07', '2020-04-14',\n",
       "               '2020-04-21', '2020-04-28', '2020-05-05', '2020-05-12',\n",
       "               '2020-05-19', '2020-05-26', '2020-06-02', '2020-06-09',\n",
       "               '2020-06-16', '2020-06-23', '2020-06-30', '2020-07-07'],\n",
       "              dtype='datetime64[ns]', freq=None)"
      ]
     },
     "execution_count": 201,
     "metadata": {},
     "output_type": "execute_result"
    }
   ],
   "source": [
    "x_values"
   ]
  },
  {
   "cell_type": "code",
   "execution_count": 284,
   "metadata": {},
   "outputs": [
    {
     "data": {
      "image/png": "[encoded data removed]",
      "text/plain": [
       "<Figure size 432x288 with 2 Axes>"
      ]
     },
     "metadata": {
      "needs_background": "light"
     },
     "output_type": "display_data"
    }
   ],
   "source": [
    "import matplotlib.dates as mdates\n",
    "from datetime import datetime\n",
    "date_week_df=covid_raw[[\"date\",\"daycount\",\"week_count\"]][covid_raw[\"daycount\"]%7==3].drop_duplicates()\n",
    "fig, ax = plt.subplots()\n",
    "\n",
    "#ax.plot(s)\n",
    "x_values =pd.to_datetime(date_week_df[\"date\"].unique())\n",
    "y_values =df_select.groupby(\"week_count\").mean()[\"Reported new cases COVID-19\"]\n",
    "ax.plot(x_values,y_values,color=\"green\")\n",
    "myFmt = mdates.DateFormatter('%b')\n",
    "ax.xaxis.set_major_locator(mdates.MonthLocator())\n",
    "ax.xaxis.set_major_formatter(myFmt)\n",
    "ax.legend([\"Average reported new cases\"],loc='upper left')\n",
    "ax.set(xlabel='Time', ylabel='Average reported new cases')\n",
    "plt.ylim([0, 50])\n",
    "ax.fill_between([x_values[4],x_values[5],x_values[6]],[50,50,50],alpha=0.5)\n",
    "#ax.grid()\n",
    "ax2=ax.twinx()\n",
    "ax2.set(ylabel='Average mobility')\n",
    "ax2.plot(x_values,df_select.groupby(\"week_count\").mean()[\"Mobility (mean)\"])\n",
    "ax2.legend(['Average mobility'],loc='upper right')\n",
    "ax2.xaxis.set_major_locator(mdates.MonthLocator())\n",
    "ax2.xaxis.set_major_formatter(myFmt)\n",
    "plt.savefig('realdata.pdf')"
   ]
  },
  {
   "cell_type": "code",
   "execution_count": 231,
   "metadata": {},
   "outputs": [],
   "source": [
    "def calculate_treatment(B):\n",
    "    d=B.shape[0]\n",
    "    gamma=B[0,(d-1)]\n",
    "    alpha=B[0,1:(d-1)]\n",
    "    C=B[1:(d-1),1:(d-1)]\n",
    "    beta=B[1:(d-1),(d-1)]\n",
    "    TE=gamma+np.dot((np.dot((beta.T), np.linalg.inv(np.identity(d - 2) - C.T))),alpha.T)\n",
    "    return(TE)\n",
    "    \n",
    "    "
   ]
  },
  {
   "cell_type": "code",
   "execution_count": 232,
   "metadata": {},
   "outputs": [],
   "source": [
    "from utils import *\n",
    "gamma=np.load(\"gamma_real_csontraint.npy\")\n",
    "treatment_effect=[]\n",
    "for i in range(19):\n",
    "    average_B = matrix_gen_next(i,gamma[0]).numpy()\n",
    "    treatment_effect.append(calculate_treatment(average_B.T))"
   ]
  },
  {
   "cell_type": "code",
   "execution_count": 285,
   "metadata": {},
   "outputs": [
    {
     "data": {
      "image/png": "[encoded data removed]",
      "text/plain": [
       "<Figure size 432x288 with 1 Axes>"
      ]
     },
     "metadata": {
      "needs_background": "light"
     },
     "output_type": "display_data"
    }
   ],
   "source": [
    "fig, ax = plt.subplots()\n",
    "ax.plot(x_values[2:],treatment_effect[1:])\n",
    "myFmt = mdates.DateFormatter('%b')\n",
    "ax.xaxis.set_major_locator(mdates.MonthLocator())\n",
    "ax.xaxis.set_major_formatter(myFmt)\n",
    "ax.set(xlabel='Time', ylabel='Treatment effect')\n",
    "ax.fill_between([x_values[4],x_values[6]],[-1.3,-1.3],[0.1,0.1],alpha=0.5)\n",
    "plt.ylim([-1.3, 0.1])\n",
    "#ax.grid()\n",
    "plt.savefig('treatment_effect.pdf')"
   ]
  }
 ],
 "metadata": {
  "kernelspec": {
   "display_name": "Python 3",
   "language": "python",
   "name": "python3"
  },
  "language_info": {
   "codemirror_mode": {
    "name": "ipython",
    "version": 3
   },
   "file_extension": ".py",
   "mimetype": "text/x-python",
   "name": "python",
   "nbconvert_exporter": "python",
   "pygments_lexer": "ipython3",
   "version": "3.7.3"
  }
 },
 "nbformat": 4,
 "nbformat_minor": 2
}
