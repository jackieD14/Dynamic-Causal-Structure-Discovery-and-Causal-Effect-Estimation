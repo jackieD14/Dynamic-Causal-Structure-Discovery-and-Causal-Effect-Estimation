{
 "cells": [
  {
   "cell_type": "code",
   "execution_count": 1,
   "id": "14283b70",
   "metadata": {
    "id": "14283b70",
    "scrolled": true
   },
   "outputs": [
    {
     "name": "stderr",
     "output_type": "stream",
     "text": [
      "\n",
      "Bad key \"text.kerning_factor\" on line 4 in\n",
      "D:\\Anaconda\\lib\\site-packages\\matplotlib\\mpl-data\\stylelib\\_classic_test_patch.mplstyle.\n",
      "You probably need to get an updated matplotlibrc file from\n",
      "https://github.com/matplotlib/matplotlib/blob/v3.1.3/matplotlibrc.template\n",
      "or from the matplotlib source distribution\n"
     ]
    }
   ],
   "source": [
    "from scipy import interpolate\n",
    "import matplotlib.pyplot as plt\n",
    "import numpy as np "
   ]
  },
  {
   "cell_type": "code",
   "execution_count": 2,
   "id": "7c5e29b6",
   "metadata": {},
   "outputs": [],
   "source": [
    "import numpy as np\n",
    "import torch\n",
    "from torch.utils.data.dataset import TensorDataset\n",
    "from torch.utils.data import DataLoader\n",
    "import torch.nn.functional as F\n",
    "import torch.nn as nn\n",
    "from torch.autograd import Variable\n",
    "import numpy as np\n",
    "import scipy.linalg as slin\n",
    "import scipy.sparse as sp\n",
    "import networkx as nx\n",
    "import pandas as pd\n",
    "from pandas import ExcelWriter\n",
    "from pandas import ExcelFile\n",
    "import glob\n",
    "import re\n",
    "import math\n",
    "from torch.optim.adam import Adam\n",
    "from utils import *\n",
    "from statistics import mean\n",
    "import random"
   ]
  },
  {
   "cell_type": "markdown",
   "id": "1c881f2a",
   "metadata": {},
   "source": [
    "## create data for lag-1 scenario"
   ]
  },
  {
   "cell_type": "code",
   "execution_count": 3,
   "id": "92c15b05",
   "metadata": {},
   "outputs": [],
   "source": [
    "def simulate_lsem_dynamic(W_all,Z: nx.DiGraph,\n",
    "                 n: int,n_time:int, treatment_type: str,\n",
    "                 noise_scale: float = 0.5,\n",
    "                 baseline: float = 1.0) -> np.ndarray:\n",
    "    \"\"\"Simulate samples from LSEM.\n",
    "        \n",
    "        Args:\n",
    "        W_all,A: weigthed DAG for instaneous relation and lagged relation\n",
    "        n: number of samples in each time-stamp\n",
    "        lag: degree of AR\n",
    "        n_time: number of time stamp\n",
    "        treatment_type: the type of the exposure {Binary, Gaussian}\n",
    "        noise_scale: noise scale parameter of Gaussian distribution in the lSEM\n",
    "        baseline: the baseline for the outcome\n",
    "        \n",
    "        Returns:\n",
    "        X: [time,n, d] sample matrix\n",
    "        \"\"\"\n",
    "    #W_array = nx.to_numpy_array(W)\n",
    "    Z_array = nx.to_numpy_array(Z)\n",
    "    d = Z_array.shape[0]\n",
    "    #X_all = np.zeros([n_time+1,n, d])\n",
    "    \n",
    "    ## create the initial data\n",
    "    X = np.zeros([n, d])\n",
    "    W_0=W_all[0,:,:]\n",
    "    ordered_vertices = list(nx.topological_sort(nx.from_numpy_matrix(W_0,create_using=nx.DiGraph)))\n",
    "    assert len(ordered_vertices) == d\n",
    "    rank_A = ordered_vertices.index(0)\n",
    "    for j in ordered_vertices:\n",
    "        if ordered_vertices.index(j) > rank_A:\n",
    "            parents = list(nx.from_numpy_matrix(W_0,create_using=nx.DiGraph).predecessors(j))\n",
    "            X[:, j] = X[:, parents].dot(W_0[parents, j]) + np.random.normal(scale=noise_scale, size=n)\n",
    "        elif ordered_vertices.index(j) < rank_A:\n",
    "            X[:, j] = np.random.normal(scale=noise_scale, size=n)\n",
    "        else:\n",
    "            if treatment_type == 'Binary':\n",
    "                X[:, j] = 2 * (np.random.binomial(1, 0.5, n) - 0.5)\n",
    "            elif treatment_type == 'Gaussian':\n",
    "                X[:, j] = np.random.normal(scale=noise_scale, size=n)\n",
    "            else:\n",
    "                raise ValueError('unknown exposure type')\n",
    "    X[:, d-1] += baseline\n",
    "    X_all=X\n",
    "    ## for follow-up time-stamps, X=XW+AZ+E\n",
    "    for time in range(1,n_time+1):\n",
    "        X_temp = np.matmul(X,Z_array)\n",
    "        W_array=W_all[time,:,:] ## different index!\n",
    "        W=nx.from_numpy_matrix(W_array,create_using=nx.DiGraph)\n",
    "        for j in ordered_vertices:\n",
    "            if ordered_vertices.index(j) > rank_A:\n",
    "                parents = list(W.predecessors(j))\n",
    "                X_temp[:, j] += X_temp[:, parents].dot(W_array[parents, j]) + np.random.normal(scale=noise_scale, size=n)\n",
    "            elif ordered_vertices.index(j) < rank_A:\n",
    "                X_temp[:, j] += np.random.normal(scale=noise_scale, size=n)\n",
    "            else:\n",
    "                if treatment_type == 'Binary':\n",
    "                    X_temp[:, j] += 2 * (np.random.binomial(1, 0.5, n) - 0.5)\n",
    "                elif treatment_type == 'Gaussian':\n",
    "                    X_temp[:, j] += np.random.normal(scale=noise_scale, size=n)\n",
    "                else:\n",
    "                    raise ValueError('unknown exposure type')\n",
    "        X_all=np.append(X_all,X_temp,axis=0)\n",
    "        X=X_temp\n",
    "    return X_all"
   ]
  },
  {
   "cell_type": "code",
   "execution_count": 194,
   "id": "9915bd1b",
   "metadata": {},
   "outputs": [],
   "source": [
    "W_all=np.zeros([11,5, 5])\n",
    "import math \n",
    "def cos(x):\n",
    "    return((-15+(5-x)**2)/15)\n",
    "for i in range(11):\n",
    "    W_all[i,0,4]=cos(i)"
   ]
  },
  {
   "cell_type": "code",
   "execution_count": 5,
   "id": "7393801c",
   "metadata": {},
   "outputs": [],
   "source": [
    "## create Z matrix\n",
    "Z=np.identity(5)\n",
    "Z[0,0]=0 # no correlation for treatment\n",
    "Z_graph=nx.from_numpy_matrix(Z,create_using=nx.DiGraph)"
   ]
  },
  {
   "cell_type": "code",
   "execution_count": 6,
   "id": "aed35cd5",
   "metadata": {},
   "outputs": [
    {
     "data": {
      "text/plain": [
       "(330, 5)"
      ]
     },
     "execution_count": 6,
     "metadata": {},
     "output_type": "execute_result"
    }
   ],
   "source": [
    "simulate_lsem_dynamic(W_all,Z_graph,30,10, 'Binary',noise_scale=0.1).shape"
   ]
  },
  {
   "cell_type": "markdown",
   "id": "1d89455d",
   "metadata": {
    "id": "1d89455d"
   },
   "source": [
    "## create basis & function demo"
   ]
  },
  {
   "cell_type": "code",
   "execution_count": 7,
   "id": "7da3d05e",
   "metadata": {
    "id": "7da3d05e"
   },
   "outputs": [],
   "source": [
    "np.random.seed(1234567)"
   ]
  },
  {
   "cell_type": "code",
   "execution_count": 8,
   "id": "2a01f414",
   "metadata": {},
   "outputs": [
    {
     "name": "stdout",
     "output_type": "stream",
     "text": [
      "t: [ 0.   0.   0.   2.5  5.   7.5 10.  10.  10. ]\n",
      "c: [ 0.66666667 -0.16666667 -1.         -1.         -0.16666667  0.66666667\n",
      "  0.          0.          0.        ]\n",
      "k: 2\n",
      "\n"
     ]
    },
    {
     "data": {
      "image/png": "[encoded data removed]",
      "text/plain": [
       "<Figure size 432x288 with 1 Axes>"
      ]
     },
     "metadata": {
      "needs_background": "light"
     },
     "output_type": "display_data"
    }
   ],
   "source": [
    "degree =2\n",
    "x = np.array(range(0, 11))\n",
    "y = np.array([cos(i) for i in x])\n",
    "z= [cos(i/10) for i in np.array(range(0, 110))]\n",
    "m = 3\n",
    "step = (x[-1] - x[0]) / (m + 1)\n",
    "knots = np.linspace(step, m * step, m)\n",
    "\n",
    "t, c, k = interpolate.splrep(x, y, k=degree, s=0, t=knots, per=0)\n",
    "\n",
    "print('''\\\n",
    "t: {}\n",
    "c: {}\n",
    "k: {}\n",
    "'''.format(t, c, k))\n",
    "N = 100\n",
    "xmin, xmax = x.min(), x.max()\n",
    "xx = np.linspace(xmin, xmax, N)\n",
    "spline = interpolate.BSpline(t, c, k, extrapolate=False)\n",
    "\n",
    "plt.plot(x, y, label='data points')\n",
    "plt.plot(xx, spline(xx), label='BSpline')\n",
    "plt.grid()\n",
    "plt.legend(loc='best')\n",
    "plt.show()"
   ]
  },
  {
   "cell_type": "code",
   "execution_count": 9,
   "id": "7ca93bbd",
   "metadata": {
    "id": "7ca93bbd"
   },
   "outputs": [],
   "source": [
    "from scipy.interpolate import BSpline\n",
    "k = 2\n",
    "t = t\n",
    "c1 = [1,0,0,0,0,0]\n",
    "c2 = [0,1,0,0,0,0]\n",
    "c3 = [0,0,1,0,0,0]\n",
    "c4 = [0,0,0,1,0,0]\n",
    "c5 = [0,0,0,0,1,0]\n",
    "c6 = [0,0,0,0,0,1]\n",
    "spl1 = BSpline(t, c1, k)\n",
    "spl2 = BSpline(t, c2, k)\n",
    "spl3 = BSpline(t, c3, k)\n",
    "spl4 = BSpline(t, c4, k)\n",
    "spl5 = BSpline(t, c5, k)\n",
    "spl6 = BSpline(t, c6, k)"
   ]
  },
  {
   "cell_type": "code",
   "execution_count": 10,
   "id": "8e0f471e",
   "metadata": {
    "colab": {
     "base_uri": "https://localhost:8080/",
     "height": 265
    },
    "id": "8e0f471e",
    "outputId": "502f249b-3175-455f-f521-052e4f099891"
   },
   "outputs": [
    {
     "data": {
      "image/png": "[encoded data removed]",
      "text/plain": [
       "<Figure size 432x288 with 1 Axes>"
      ]
     },
     "metadata": {
      "needs_background": "light"
     },
     "output_type": "display_data"
    }
   ],
   "source": [
    "import matplotlib.pyplot as plt\n",
    "fig, ax = plt.subplots()\n",
    "xx = np.linspace(0, 10, 50)\n",
    "ax.plot(xx, spl1(xx), lw=3, label='Bspline1')\n",
    "ax.plot(xx, spl2(xx), lw=4, alpha=0.7, label='Bspline2')\n",
    "ax.plot(xx, spl3(xx), lw=4, alpha=0.7, label='Bspline3')\n",
    "ax.plot(xx, spl4(xx), lw=4, alpha=0.7, label='Bspline4')\n",
    "ax.plot(xx, spl5(xx), lw=4, alpha=0.7, label='Bspline5')\n",
    "ax.plot(xx, spl6(xx), lw=4, alpha=0.7, label='Bspline6')\n",
    "ax.grid(True)\n",
    "ax.legend(loc='best')\n",
    "plt.show()"
   ]
  },
  {
   "cell_type": "markdown",
   "id": "42b6be67",
   "metadata": {
    "id": "42b6be67"
   },
   "source": [
    "# new method"
   ]
  },
  {
   "cell_type": "code",
   "execution_count": 11,
   "id": "f1766d8b",
   "metadata": {
    "id": "f1766d8b"
   },
   "outputs": [],
   "source": [
    "from __future__ import division\n",
    "from __future__ import print_function\n",
    "\n",
    "import time\n",
    "import argparse\n",
    "import pickle\n",
    "import os\n",
    "import random\n",
    "import torch.optim as optim\n",
    "from torch.optim import lr_scheduler\n",
    "import math\n",
    "from utils import *\n",
    "\n",
    "from multiprocessing import Pool\n",
    "import multiprocessing\n",
    "n_cores = multiprocessing.cpu_count()\n",
    "from numpy.random import randn\n",
    "from random import seed as rseed\n",
    "from numpy.random import seed as npseed\n",
    "import time"
   ]
  },
  {
   "cell_type": "code",
   "execution_count": 12,
   "id": "42046e3c",
   "metadata": {
    "id": "42046e3c"
   },
   "outputs": [],
   "source": [
    "# ----------- Configurations:\n",
    "time_stamp=10\n",
    "n_timestamp=time_stamp\n",
    "sample__time=30##sample per timepoint\n",
    "n = time_stamp*sample__time # The number of samples of data.\n",
    "n_var = 5 # The number of variables in data.\n",
    "x_dims = 1 # The number of input dimensions: default 1.\n",
    "z_dims = n_var # The number of latent variable dimensions: default the same as variable size.\n",
    "epochs = 200 # Number of epochs to train.\n"
   ]
  },
  {
   "cell_type": "code",
   "execution_count": 13,
   "id": "7871866b",
   "metadata": {
    "colab": {
     "base_uri": "https://localhost:8080/"
    },
    "id": "7871866b",
    "outputId": "95d27f29-9ad4-41bb-a565-112fc3b458d9"
   },
   "outputs": [
    {
     "data": {
      "text/plain": [
       "10"
      ]
     },
     "execution_count": 13,
     "metadata": {},
     "output_type": "execute_result"
    }
   ],
   "source": [
    "n_timestamp"
   ]
  },
  {
   "cell_type": "code",
   "execution_count": 14,
   "id": "2b4a5750",
   "metadata": {
    "colab": {
     "base_uri": "https://localhost:8080/"
    },
    "id": "2b4a5750",
    "outputId": "c445bb2c-a8f6-47b5-b509-6845875ddd96"
   },
   "outputs": [
    {
     "data": {
      "text/plain": [
       "30"
      ]
     },
     "execution_count": 14,
     "metadata": {},
     "output_type": "execute_result"
    }
   ],
   "source": [
    "sample__time"
   ]
  },
  {
   "cell_type": "code",
   "execution_count": 15,
   "id": "93a046a5",
   "metadata": {
    "id": "93a046a5"
   },
   "outputs": [],
   "source": [
    "def create_D(X,spline_list):\n",
    "    D_all=np.zeros((sample__time*time_stamp, n_var*len(spline_list),1))\n",
    "    for j in range(len(spline_list)):\n",
    "        D_column=np.zeros((sample__time*time_stamp, n_var,1))#for each spline\n",
    "        for i in range(0,n_timestamp):\n",
    "            D_column[(sample__time*i):(sample__time*(i+1)),:,:]=X[(sample__time*i):(sample__time*(i+1)),:]*spline_list[j](i)#X_i *f(i), stack horizontally\n",
    "        ##horizontally append\n",
    "        D_all[:,n_var*j:n_var*(j+1),:]=D_column\n",
    "        #print((n_features*j,n_features*(j+1)))\n",
    "    return(D_all)"
   ]
  },
  {
   "cell_type": "code",
   "execution_count": 16,
   "id": "5880a65f",
   "metadata": {
    "id": "5880a65f"
   },
   "outputs": [],
   "source": [
    "#spline_list=[spl_const]\n",
    "spline_list=[spl1,spl2,spl3,spl4,spl5,spl6]"
   ]
  },
  {
   "cell_type": "code",
   "execution_count": 17,
   "id": "9bdb6397",
   "metadata": {
    "id": "9bdb6397"
   },
   "outputs": [],
   "source": [
    "def spl_consraint(spline_list,t,p):\n",
    "    k=len(spline_list)\n",
    "    output=torch.zeros(((p*k), p))\n",
    "    identity=torch.zeros((p, p*k))\n",
    "    for i in range(k):\n",
    "        output[(i*p):(i*p+p),:]=torch.ones((p,p))*spline_list[i](t).item() #gamma times basis\n",
    "        identity[:,(i*p):(i*p+p)]=torch.eye(p) #stacked identity matrix\n",
    "    #final=torch.matmul(identity,output)\n",
    "    return output, identity"
   ]
  },
  {
   "cell_type": "code",
   "execution_count": 18,
   "id": "985dc159",
   "metadata": {
    "id": "985dc159"
   },
   "outputs": [],
   "source": [
    "# ----------- Configurations:\n",
    "n = 30*time_stamp # The number of samples of data.\n",
    "d = 36 # The number of variables in data after spline.  (p+1*k)\n",
    "x_dims = 1 # The number of input dimensions: default 1.\n",
    "z_dims = d # The number of latent variable dimensions: default the same as variable size.\n",
    "epochs = 200 # Number of epochs to train.\n",
    "batch_size = 10 # Number of samples per batch. note: should be divisible by sample size, otherwise throw an error.\n",
    "k_max_iter = int(1e2) # The max iteration number for searching parameters.\n",
    "original_lr = 3e-3  # Initial learning rate.\n",
    "encoder_hidden = d^2 # Number of hidden units, adaptive to dimension of nodes (d^2).\n",
    "decoder_hidden = d^2 # Number of hidden units, adaptive to dimension of nodes (d^2).\n",
    "temp = 0.5 # Temperature for Gumbel softmax.\n",
    "factor = True # Factor graph model.\n",
    "encoder_dropout = 0.0 # Dropout rate (1 - keep probability).\n",
    "decoder_dropout = 0.0 # Dropout rate (1 - keep probability).\n",
    "tau_B = 0. # Coefficient for L-1 norm of matrix B.\n",
    "lambda1 = 0. # Coefficient for DAG constraint h1(B).\n",
    "lambda2 = 0. # Coefficient for identification constraint h2(B).\n",
    "c_B = 1 # Coefficient for absolute value h1(B).\n",
    "d_B = 1 # Coefficient for absolute value h2(B).\n",
    "e_B = 1 # Coefficient for absolute value h3(B)\n",
    "h1_tol = 1e-8 # The tolerance of error of h1(B) to zero.\n",
    "h2_tol = 1e-8 # The tolerance of error of h2(B) to zero.\n",
    "h3_tol = 1e-8 # The tolerance of error of h2(B) to zero.\n",
    "lr_decay = 200 # After how many epochs to decay LR by a factor of gamma. \n",
    "gamma = 1.0 # LR decay factor. "
   ]
  },
  {
   "cell_type": "code",
   "execution_count": 24,
   "id": "4c588ed1",
   "metadata": {
    "id": "4c588ed1"
   },
   "outputs": [],
   "source": [
    "###edited to remove the first column in the lagged weigttsv\n",
    "def fun_h2_B_new(B):\n",
    "    '''compute constraint h2(B) value'''\n",
    "    d = B.shape[0]\n",
    "    gamma=B[p:(p+p*k),:p]\n",
    "    Tau=B[(p+p*k):,:]\n",
    "    h3_B = sum(sum(abs(B[:p, :])))+sum(abs(gamma[:, 0]))+sum(sum(abs(B[p:, p:])))+ sum(abs(Tau[:, 0]))# uppper 0 and 0 column and every p-1,2p-1 row\n",
    "    for i in range(k):\n",
    "        h3_B=h3_B+sum(abs(gamma[((i+1)*p-1), 1:]))\n",
    "    return h3_B"
   ]
  },
  {
   "cell_type": "code",
   "execution_count": 25,
   "id": "705f6778",
   "metadata": {
    "id": "705f6778"
   },
   "outputs": [],
   "source": [
    "def fun_h1_B(B):\n",
    "    '''compute constraint h1(B) value'''\n",
    "    d = B.shape[0]\n",
    "    expm_B = matrix_poly(B * B, d)\n",
    "    h1_B = torch.trace(expm_B) - d\n",
    "    return h1_B.float()"
   ]
  },
  {
   "cell_type": "code",
   "execution_count": 26,
   "id": "feedc251",
   "metadata": {
    "id": "feedc251"
   },
   "outputs": [],
   "source": [
    "def train_new(epoch, lambda1, c_B, lambda2, d_B, optimizer, old_lr,p,k):\n",
    "        \n",
    "        nll_train = []\n",
    "        kl_train = []\n",
    "        mse_train = []\n",
    "        encoder.train()\n",
    "        decoder.train()\n",
    "        scheduler.step()\n",
    "\n",
    "        # Update optimizer\n",
    "        optimizer, lr = update_optimizer(optimizer, old_lr, c_B, d_B)\n",
    "\n",
    "        for batch_idx, (data, relations) in enumerate(train_loader):\n",
    "\n",
    "            data, relations = Variable(data).double(), Variable(relations).double()\n",
    "            relations = relations.unsqueeze(2) # Reshape data\n",
    "\n",
    "            optimizer.zero_grad()\n",
    "\n",
    "            enc_x, logits, origin_B, adj_A_tilt_encoder, z_gap, z_positive, myA, Wa = encoder(data, rel_rec, rel_send) \n",
    "            edges = logits # Logits is of size: [num_sims, z_dims]\n",
    "\n",
    "            dec_x, output, adj_A_tilt_decoder = decoder(data, edges, d * x_dims, rel_rec, rel_send, origin_B, adj_A_tilt_encoder, Wa)\n",
    "\n",
    "            if torch.sum(output != output):\n",
    "                print('nan error\\n')\n",
    "\n",
    "            target = data\n",
    "            preds = output\n",
    "            variance = 0.\n",
    "            \n",
    "            # Compute constraint functions h1(B) and h2(B)\n",
    "            #h1_B = fun_h1_B(origin_B[p:,p:]) #acyclity on G\n",
    "            h1_B =0\n",
    "            for i in range(n_timestamp):\n",
    "                #aa=torch.matmul(spl_consraint(spline_list,i,p).type(torch.FloatTensor),origin_B[p:,:p].type(torch.FloatTensor))#acyclity on Gamma\n",
    "                #print(fun_h1_B(aa))\n",
    "                output, identity=spl_consraint(spline_list,i,p)\n",
    "                h1_B=h1_B+fun_h1_B(torch.matmul(identity.type(torch.FloatTensor),(output.type(torch.FloatTensor)*origin_B[p:(p+p*k),:p].type(torch.FloatTensor))))#acyclity on Gamma\n",
    "            h2_B = fun_h2_B_new(origin_B) ##handle the zero on gamma and top\n",
    "            # Reconstruction accuracy loss:\n",
    "            loss_nll = nll_gaussian(preds, target, variance)\n",
    "            # KL loss:\n",
    "            loss_kl = kl_gaussian(logits)\n",
    "            # ELBO loss:\n",
    "            loss = loss_kl + loss_nll\n",
    "            # Loss function:\n",
    "            loss += lambda1 * h1_B + 0.5 * c_B * h1_B * h1_B + lambda2 * h2_B + 0.5 * d_B * h2_B * h2_B + 100. * torch.trace(origin_B * origin_B)\n",
    "\n",
    "            loss.backward()\n",
    "            loss = optimizer.step()\n",
    "\n",
    "            myA.data = stau(myA.data, tau_B * lr)\n",
    "\n",
    "            if torch.sum(origin_B != origin_B):\n",
    "                print('nan error\\n')\n",
    "\n",
    "            mse_train.append(F.mse_loss(preds, target).item())\n",
    "            nll_train.append(loss_nll.item())\n",
    "            kl_train.append(loss_kl.item())\n",
    "\n",
    "        return np.mean(np.mean(kl_train) + np.mean(nll_train)), np.mean(nll_train), np.mean(mse_train), origin_B, optimizer, lr\n"
   ]
  },
  {
   "cell_type": "code",
   "execution_count": 27,
   "id": "af937222",
   "metadata": {
    "colab": {
     "base_uri": "https://localhost:8080/"
    },
    "id": "af937222",
    "outputId": "e80610dd-84e9-4b89-dce3-cc71ee027097"
   },
   "outputs": [
    {
     "name": "stdout",
     "output_type": "stream",
     "text": [
      "(300, 65, 1)\n"
     ]
    },
    {
     "name": "stderr",
     "output_type": "stream",
     "text": [
      "D:\\Anaconda\\lib\\site-packages\\torch\\optim\\lr_scheduler.py:100: UserWarning: Detected call of `lr_scheduler.step()` before `optimizer.step()`. In PyTorch 1.1.0 and later, you should call them in the opposite order: `optimizer.step()` before `lr_scheduler.step()`.  Failure to do this will result in PyTorch skipping the first value of the learning rate schedule.See more details at https://pytorch.org/docs/stable/optim.html#how-to-adjust-learning-rate\n",
      "  \"https://pytorch.org/docs/stable/optim.html#how-to-adjust-learning-rate\", UserWarning)\n"
     ]
    },
    {
     "name": "stdout",
     "output_type": "stream",
     "text": [
      "Best ELBO Loss : 0.0006572521317412548\n",
      "Best NLL Loss : 8.543234471009426e-06\n",
      "Best MSE Loss : 2.628687529541363e-07\n",
      "0\n",
      "(300, 65, 1)\n",
      "Best ELBO Loss : 0.000562884706294232\n",
      "Best NLL Loss : 1.9649837308829772e-05\n",
      "Best MSE Loss : 6.046103787332238e-07\n",
      "1\n",
      "(300, 65, 1)\n",
      "Best ELBO Loss : 0.000497214433737149\n",
      "Best NLL Loss : 1.6332419969508893e-06\n",
      "Best MSE Loss : 5.025359990618114e-08\n",
      "2\n",
      "(300, 65, 1)\n",
      "Best ELBO Loss : 0.0004462025119103441\n",
      "Best NLL Loss : 3.02700237705826e-06\n",
      "Best MSE Loss : 9.313853467871592e-08\n",
      "3\n",
      "(300, 65, 1)\n",
      "Best ELBO Loss : 0.0005240082701485067\n",
      "Best NLL Loss : 5.1082922809570835e-06\n",
      "Best MSE Loss : 1.5717822402944908e-07\n",
      "4\n",
      "(300, 65, 1)\n",
      "Best ELBO Loss : 0.0005080231881087511\n",
      "Best NLL Loss : 1.0247949962102221e-06\n",
      "Best MSE Loss : 3.15321537295453e-08\n",
      "5\n",
      "(300, 65, 1)\n",
      "Best ELBO Loss : 0.000491894663413181\n",
      "Best NLL Loss : 3.7245186428640144e-06\n",
      "Best MSE Loss : 1.1460057362658505e-07\n",
      "6\n",
      "(300, 65, 1)\n",
      "Best ELBO Loss : 0.0008432425149021646\n",
      "Best NLL Loss : 2.538720904977986e-05\n",
      "Best MSE Loss : 7.811448938393808e-07\n",
      "7\n",
      "(300, 65, 1)\n",
      "Best ELBO Loss : 0.0006033503506051091\n",
      "Best NLL Loss : 3.283725496070138e-06\n",
      "Best MSE Loss : 1.0103770757138883e-07\n",
      "8\n",
      "(300, 65, 1)\n",
      "Best ELBO Loss : 0.0005981365826435424\n",
      "Best NLL Loss : 2.6246622261383594e-05\n",
      "Best MSE Loss : 8.075883772733422e-07\n",
      "9\n",
      "(300, 65, 1)\n",
      "Best ELBO Loss : 0.0005974776582531348\n",
      "Best NLL Loss : 1.0281127060081315e-05\n",
      "Best MSE Loss : 3.1634237107942475e-07\n",
      "10\n",
      "(300, 65, 1)\n",
      "Best ELBO Loss : 0.0006292320582227226\n",
      "Best NLL Loss : 1.7586803945673455e-05\n",
      "Best MSE Loss : 5.411324290976459e-07\n",
      "11\n",
      "(300, 65, 1)\n",
      "Best ELBO Loss : 0.0005230595038872941\n",
      "Best NLL Loss : 9.003413172222984e-06\n",
      "Best MSE Loss : 2.77028097606861e-07\n",
      "12\n",
      "(300, 65, 1)\n",
      "Best ELBO Loss : 0.000649493112318182\n",
      "Best NLL Loss : 3.3968404271805472e-06\n",
      "Best MSE Loss : 1.0451816699017065e-07\n",
      "13\n",
      "(300, 65, 1)\n",
      "Best ELBO Loss : 0.0005305002014272175\n",
      "Best NLL Loss : 8.084196667522895e-06\n",
      "Best MSE Loss : 2.487445128468587e-07\n",
      "14\n",
      "(300, 65, 1)\n",
      "Best ELBO Loss : 0.000519267538741696\n",
      "Best NLL Loss : 5.9805213290448186e-06\n",
      "Best MSE Loss : 1.8401604089368682e-07\n",
      "15\n",
      "(300, 65, 1)\n",
      "Best ELBO Loss : 0.0005395332725150328\n",
      "Best NLL Loss : 1.9150396043231125e-06\n",
      "Best MSE Loss : 5.8924295517634265e-08\n",
      "16\n",
      "(300, 65, 1)\n",
      "Best ELBO Loss : 0.0005416673710926979\n",
      "Best NLL Loss : 1.4971609741763041e-06\n",
      "Best MSE Loss : 4.606649151311686e-08\n",
      "17\n",
      "(300, 65, 1)\n",
      "Best ELBO Loss : 0.0005837713304599878\n",
      "Best NLL Loss : 5.2254946336357e-06\n",
      "Best MSE Loss : 1.6078445026571377e-07\n",
      "18\n",
      "(300, 65, 1)\n",
      "Best ELBO Loss : 0.0005663376003342675\n",
      "Best NLL Loss : 4.0257548869390515e-07\n",
      "Best MSE Loss : 1.2386938113658615e-08\n",
      "19\n",
      "(300, 65, 1)\n",
      "Best ELBO Loss : 0.0004919359614938562\n",
      "Best NLL Loss : 2.978083570393974e-06\n",
      "Best MSE Loss : 9.163334062750694e-08\n",
      "20\n",
      "(300, 65, 1)\n",
      "Best ELBO Loss : 0.0005321735749924198\n",
      "Best NLL Loss : 2.3100175567581555e-06\n",
      "Best MSE Loss : 7.107746328486629e-08\n",
      "21\n",
      "(300, 65, 1)\n",
      "Best ELBO Loss : 0.0008784884427225459\n",
      "Best NLL Loss : 3.6387543770948836e-06\n",
      "Best MSE Loss : 1.1196167314138094e-07\n",
      "22\n",
      "(300, 65, 1)\n",
      "Best ELBO Loss : 0.0005005751234332156\n",
      "Best NLL Loss : 7.424008704214365e-06\n",
      "Best MSE Loss : 2.2843103705274968e-07\n",
      "23\n",
      "(300, 65, 1)\n",
      "Best ELBO Loss : 0.0006170635437974897\n",
      "Best NLL Loss : 3.0656686086617133e-06\n",
      "Best MSE Loss : 9.432826488189878e-08\n",
      "24\n",
      "(300, 65, 1)\n",
      "Best ELBO Loss : 0.0005093424274079446\n",
      "Best NLL Loss : 5.24865887519191e-06\n",
      "Best MSE Loss : 1.614971961597509e-07\n",
      "25\n",
      "(300, 65, 1)\n",
      "Best ELBO Loss : 0.0004457893082976076\n",
      "Best NLL Loss : 5.071905781788804e-06\n",
      "Best MSE Loss : 1.5605863943965525e-07\n",
      "26\n",
      "(300, 65, 1)\n",
      "Best ELBO Loss : 0.0005574235118145668\n",
      "Best NLL Loss : 1.2848981650233426e-05\n",
      "Best MSE Loss : 3.953532815456444e-07\n",
      "27\n",
      "(300, 65, 1)\n",
      "Best ELBO Loss : 0.000543382927069668\n",
      "Best NLL Loss : 1.9024494347942344e-06\n",
      "Best MSE Loss : 5.8536905685976444e-08\n",
      "28\n",
      "(300, 65, 1)\n",
      "Best ELBO Loss : 0.0005424240187353341\n",
      "Best NLL Loss : 7.169337251960943e-06\n",
      "Best MSE Loss : 2.20594992368029e-07\n",
      "29\n"
     ]
    }
   ],
   "source": [
    "n_var=5\n",
    "n_times=30 #no. of replicates\n",
    "time_stamp=10 #no. of timestamp\n",
    "np.random.seed(1234567) #Random seed\n",
    "seed_list=np.random.randint(1, 1000000, size=n_times)\n",
    "average_coef_list_new=np.zeros((n_times,time_stamp,n_var,n_var))\n",
    "lambda_list=np.zeros((n_times,30,n_var))\n",
    "t_list=np.zeros((n_times,30,n_var))\n",
    "for replicate in range(n_times):\n",
    "  seed=seed_list[replicate]\n",
    "  X_all=simulate_lsem_dynamic(W_all,Z_graph,30,10, 'Binary',noise_scale=0.1).reshape(330,5,1) #create data\n",
    "  D=create_D(X_all[30:],spline_list)\n",
    "  G=create_D(X_all[:-30],spline_list)\n",
    "  data_all=np.append(X_all[30:],D, axis=1)\n",
    "  data_all=np.append(data_all,G, axis=1)\n",
    "  print(np.shape(data_all))\n",
    "  average_list=np.zeros((time_stamp,n_var, n_var))\n",
    "  \n",
    "  ####estimate at each time_stamp####\n",
    "  timestart_new=time.time()\n",
    "    # ----------- Configurations:\n",
    "  # ----------- Configurations:\n",
    "  n = 30*time_stamp # The number of samples of data.\n",
    "  d = 65 # The number of variables in data after basis.\n",
    "  x_dims = 1 # The number of input dimensions: default 1.\n",
    "  z_dims = d # The number of latent variable dimensions: default the same as variable size.\n",
    "  epochs = 200 # Number of epochs to train.\n",
    "  batch_size = 10 # Number of samples per batch. note: should be divisible by sample size, otherwise throw an error.\n",
    "  k_max_iter = int(1e2) # The max iteration number for searching parameters.\n",
    "  original_lr = 3e-3  # Initial learning rate.\n",
    "  encoder_hidden = d^2 # Number of hidden units, adaptive to dimension of nodes (d^2).\n",
    "  decoder_hidden = d^2 # Number of hidden units, adaptive to dimension of nodes (d^2).\n",
    "  temp = 0.5 # Temperature for Gumbel softmax.\n",
    "  factor = True # Factor graph model.\n",
    "  encoder_dropout = 0.0 # Dropout rate (1 - keep probability).\n",
    "  decoder_dropout = 0.0 # Dropout rate (1 - keep probability).\n",
    "  tau_B = 0. # Coefficient for L-1 norm of matrix B.\n",
    "  lambda1 = 0. # Coefficient for DAG constraint h1(B).\n",
    "  lambda2 = 0. # Coefficient for identification constraint h2(B).\n",
    "  c_B = 1 # Coefficient for absolute value h1(B).\n",
    "  d_B = 1 # Coefficient for absolute value h2(B).\n",
    "  e_B = 1 # Coefficient for absolute value h3(B)\n",
    "  h1_tol = 1e-8 # The tolerance of error of h1(B) to zero.\n",
    "  h2_tol = 1e-8 # The tolerance of error of h2(B) to zero.\n",
    "  h3_tol = 1e-8 # The tolerance of error of h2(B) to zero.\n",
    "  lr_decay = 200 # After how many epochs to decay LR by a factor of gamma. \n",
    "  gamma = 1.0 # LR decay factor.  \n",
    "    ######################\n",
    "  p=5\n",
    "  k=6 #no.of basis\n",
    "  np.random.seed(seed)\n",
    "  random.seed(seed)\n",
    "  torch.manual_seed(seed)\n",
    "  feat_train = torch.FloatTensor(data_all)\n",
    "  feat_valid = torch.FloatTensor(data_all)\n",
    "  feat_test = torch.FloatTensor(data_all)\n",
    "\n",
    "  # Reconstruct itself\n",
    "  train_data = TensorDataset(feat_train, feat_train)\n",
    "  valid_data = TensorDataset(feat_valid, feat_train)\n",
    "  test_data = TensorDataset(feat_test, feat_train)\n",
    "\n",
    "  train_loader = DataLoader(train_data, batch_size = batch_size)\n",
    "  valid_loader = DataLoader(valid_data, batch_size = batch_size)\n",
    "  test_loader = DataLoader(test_data, batch_size = batch_size)\n",
    "\n",
    "  # ----------- Load modules:\n",
    "  d1=p+p*k+p*k\n",
    "  off_diag = np.ones([d1, d1]) - np.eye(d1) # Generate off-diagonal interaction graph\n",
    "  rel_rec = np.array(encode_onehot(np.where(off_diag)[1]), dtype = np.float64)\n",
    "  rel_send = np.array(encode_onehot(np.where(off_diag)[0]), dtype = np.float64)\n",
    "  rel_rec = torch.DoubleTensor(rel_rec)\n",
    "  rel_send = torch.DoubleTensor(rel_send)\n",
    "  adj_A = np.zeros((d1, d1)) # Add adjacency matrix\n",
    "\n",
    "  encoder = MLPEncoder(d1 * x_dims, x_dims, encoder_hidden,\n",
    "                          int(z_dims), adj_A,\n",
    "                          batch_size = batch_size,\n",
    "                          do_prob = encoder_dropout, factor = factor).double()\n",
    "  decoder = MLPDecoder(d1 * x_dims,\n",
    "                          z_dims, x_dims, encoder,\n",
    "                          data_variable_size = d1,\n",
    "                          batch_size = batch_size,\n",
    "                          n_hid=decoder_hidden,\n",
    "                          do_prob=decoder_dropout).double()\n",
    "\n",
    "  # ----------- Set up optimizer:\n",
    "  optimizer = optim.Adam(list(encoder.parameters()) + list(decoder.parameters()), lr = original_lr)\n",
    "  scheduler = lr_scheduler.StepLR(optimizer, step_size = lr_decay,\n",
    "                                  gamma = gamma)\n",
    "\n",
    "  rel_rec = Variable(rel_rec)\n",
    "  rel_send = Variable(rel_send)\n",
    "\n",
    "  # ----------- Main:\n",
    "  best_ELBO_loss = np.inf\n",
    "  best_NLL_loss = np.inf\n",
    "  best_MSE_loss = np.inf\n",
    "  h1_B_new = 1 #torch.tensor(1.)\n",
    "  h2_B_new = 1\n",
    "  h1_B_old = np.inf\n",
    "  h2_B_old = np.inf\n",
    "  lr = original_lr\n",
    "\n",
    "  try:\n",
    "      for step_k in range(k_max_iter):\n",
    "          while c_B * d_B < 1e+20:\n",
    "              for epoch in range(epochs):\n",
    "                  old_lr = lr \n",
    "                  ELBO_loss, NLL_loss, MSE_loss, origin_B, optimizer, lr = train_new(epoch, lambda1, c_B, lambda2, d_B, optimizer, old_lr,p=p,k=k)\n",
    "\n",
    "                  if ELBO_loss < best_ELBO_loss:\n",
    "                      best_ELBO_loss = ELBO_loss\n",
    "\n",
    "                  if NLL_loss < best_NLL_loss:\n",
    "                      best_NLL_loss = NLL_loss\n",
    "\n",
    "                  if MSE_loss < best_MSE_loss:\n",
    "                      best_MSE_loss = MSE_loss\n",
    "\n",
    "              if ELBO_loss > 2 * best_ELBO_loss:\n",
    "                  break\n",
    "\n",
    "              # Update parameters\n",
    "              B_new = origin_B.data.clone()\n",
    "              #h1_B = fun_h1_B(B_new[p:,p:]) #acyclity on G\n",
    "              h1_B=0 \n",
    "              for i in range(n_timestamp):\n",
    "\n",
    "                  output, identity=spl_consraint(spline_list,i,p)\n",
    "                  h1_B=h1_B+fun_h1_B(torch.matmul(identity.type(torch.FloatTensor),(output.type(torch.FloatTensor)*B_new[p:(p+p*k),:p].type(torch.FloatTensor))))\n",
    "                  h2_B = fun_h2_B_new(B_new) ##handle the zero on gamma and top\n",
    "\n",
    "\n",
    "              if h1_B_new > 0.25 * h1_B_old and h2_B_new > 0.25 * h2_B_old:\n",
    "                  c_B *= 10\n",
    "                  d_B *= 10\n",
    "              elif h1_B_new > 0.25 * h1_B_old and h2_B_new < 0.25 * h2_B_old:\n",
    "                  c_B *= 10\n",
    "              elif h1_B_new < 0.25 * h1_B_old and h2_B_new > 0.25 * h2_B_old:\n",
    "                  d_B *= 10\n",
    "              else:\n",
    "                  break\n",
    "\n",
    "          # Update parameters    \n",
    "          h1_B_old = h1_B_new\n",
    "          h2_B_old = h2_B_new\n",
    "          lambda1 += c_B * h1_B_new\n",
    "          lambda2 += d_B * h2_B_new\n",
    "\n",
    "          if h1_B_new <= h1_tol and h2_B_new <= h2_tol:\n",
    "              break\n",
    "\n",
    "  except KeyboardInterrupt:\n",
    "      print('KeyboardInterrupt')\n",
    "\n",
    "  predB = np.matrix(origin_B.data.clone().numpy())\n",
    "  print('Best ELBO Loss :', best_ELBO_loss)\n",
    "  print('Best NLL Loss :', best_NLL_loss)\n",
    "  print('Best MSE Loss :', best_MSE_loss)\n",
    "  #calculate_effect(predB)\n",
    "  pred_gamma=predB[p:(p+p*k),:p]\n",
    "  lambda_list[replicate,::]=pred_gamma\n",
    "  np.save(\"quadra_gamma_constraint\",lambda_list)\n",
    "    \n",
    "  pred_t=predB[(p+p*k):(p+p*k+p*k),:p]\n",
    "  t_list[replicate,::]=pred_t\n",
    "  np.save(\"quadra_t_constraint\",t_list)\n",
    "  \n",
    "  print(replicate)\n"
   ]
  },
  {
   "cell_type": "code",
   "execution_count": 93,
   "id": "c1145242",
   "metadata": {},
   "outputs": [],
   "source": [
    "result_new=np.load(\"quadra_gamma_constraint.npy\") #0 axis is the number of replicates\n",
    "temp=np.load(\"quadra_10_30_ANOCA_lag.npy\")\n",
    "result_ANOCA=np.load(\"quadra_10_30_ANOCA_lag_cont.npy\")\n",
    "result_ANOCA[:,:-1,:,:]=temp\n",
    "result_NOTEARS=np.load(\"quadra_10_30_NOTEARS_lag.npy\")\n",
    "#result_ANOCA=np.load(\"quadra_10_30_ANOCA.npy\")\n",
    "#result_NOTEARS=np.load(\"quadra_10_30_NOTEARS.npy\")"
   ]
  },
  {
   "cell_type": "code",
   "execution_count": 94,
   "id": "ca0bf4c9",
   "metadata": {},
   "outputs": [],
   "source": [
    "p=5\n",
    "time_stamp=10\n",
    "n_times=30\n",
    "n_var=5\n",
    "#gamma=gamma_est\n",
    "gamma=np.load(\"quadra_gamma_constraint.npy\")\n",
    "def matrix_gen_next(t,pred_gamma):\n",
    "    output,identity=spl_consraint(spline_list,t,p)\n",
    "    return np.matmul(identity,(np.multiply(output,pred_gamma)))\n",
    "exten_matrix=np.zeros((n_times,time_stamp+1,n_var,n_var))\n",
    "for i in range(time_stamp+1):\n",
    "    estimate=[]\n",
    "    for replicate in range(n_times):\n",
    "        exten_matrix[replicate,i,:,:]=matrix_gen_next(i,gamma[replicate,:,:])"
   ]
  },
  {
   "cell_type": "code",
   "execution_count": 95,
   "id": "1d7d06e3",
   "metadata": {},
   "outputs": [
    {
     "data": {
      "text/plain": [
       "FDR    0.135278\n",
       "TPR    0.973333\n",
       "SHD    0.293333\n",
       "dtype: float64"
      ]
     },
     "execution_count": 95,
     "metadata": {},
     "output_type": "execute_result"
    }
   ],
   "source": [
    "\n",
    "FDR_total_new=[]\n",
    "TPR_total_new=[]\n",
    "SHD_total_new=[]\n",
    "for replicate in range(30):\n",
    "    FDR_list_piece_new=[]\n",
    "    TPR_list_piece_new=[]\n",
    "    SHD_list_piece_new=[]\n",
    "    base_DAG=np.zeros((5, 5))\n",
    "    for i in range(time_stamp):\n",
    "      estimate=exten_matrix[replicate,i,:,:]\n",
    "      estimate[abs(estimate)<0.2] = 0\n",
    "        \n",
    "      base_estimate=nx.from_numpy_matrix(estimate,create_using=nx.DiGraph)\n",
    "      base_DAG[0,4]=cos(i+1)\n",
    "      base_DAG[abs(base_DAG)<0.2]=0\n",
    "      base_graph=nx.from_numpy_matrix(base_DAG,create_using=nx.DiGraph)\n",
    "        \n",
    "      FDR,TPR,SHD=count_accuracy_new(base_graph,base_estimate)\n",
    "      FDR_list_piece_new.append(FDR)\n",
    "      TPR_list_piece_new.append(TPR)\n",
    "      SHD_list_piece_new.append(SHD)\n",
    "    FDR_total_new.append(mean(FDR_list_piece_new))\n",
    "    TPR_total_new.append(mean(TPR_list_piece_new))\n",
    "    SHD_total_new.append(mean(SHD_list_piece_new))\n",
    "df_new = pd.DataFrame(columns=('FDR', 'TPR',\"SHD\"))\n",
    "df_new[\"FDR\"]=FDR_total_new\n",
    "df_new[\"TPR\"]=TPR_total_new\n",
    "df_new[\"SHD\"]=SHD_total_new\n",
    "#df_new[\"time\"]=time_list_new\n",
    "df_new.mean()"
   ]
  },
  {
   "cell_type": "code",
   "execution_count": 96,
   "id": "843d09da",
   "metadata": {},
   "outputs": [
    {
     "data": {
      "text/plain": [
       "FDR    0.017849\n",
       "TPR    0.026667\n",
       "SHD    0.043400\n",
       "dtype: float64"
      ]
     },
     "execution_count": 96,
     "metadata": {},
     "output_type": "execute_result"
    }
   ],
   "source": [
    "df_new.std()/math.sqrt(30)"
   ]
  },
  {
   "cell_type": "code",
   "execution_count": 97,
   "id": "59f32eb3",
   "metadata": {},
   "outputs": [],
   "source": [
    "result_dynotears=np.load(\"C:/Users/Jianian Wang/Desktop/dynotears/dynotears_implementation/result/dynotears_quadratic_w_new.npy\")"
   ]
  },
  {
   "cell_type": "code",
   "execution_count": 98,
   "id": "9739c110",
   "metadata": {},
   "outputs": [
    {
     "data": {
      "text/plain": [
       "FDR    0.313333\n",
       "TPR    0.703333\n",
       "SHD    0.316667\n",
       "dtype: float64"
      ]
     },
     "execution_count": 98,
     "metadata": {},
     "output_type": "execute_result"
    }
   ],
   "source": [
    "##dynotears\n",
    "FDR_total_new=[]\n",
    "TPR_total_new=[]\n",
    "SHD_total_new=[]\n",
    "for replicate in range(30):\n",
    "    FDR_list_piece_new=[]\n",
    "    TPR_list_piece_new=[]\n",
    "    SHD_list_piece_new=[]\n",
    "    base_DAG=np.zeros((5, 5))\n",
    "    for i in range(time_stamp):\n",
    "      estimate=result_dynotears[replicate,i,:,:]\n",
    "      estimate[abs(estimate)<0.2] = 0\n",
    "        \n",
    "      base_estimate=nx.from_numpy_matrix(estimate,create_using=nx.DiGraph)\n",
    "      base_DAG[0,4]=cos(i+1)\n",
    "      base_DAG[abs(base_DAG)<0.2]=0\n",
    "      base_graph=nx.from_numpy_matrix(base_DAG.T,create_using=nx.DiGraph)\n",
    "        \n",
    "      FDR,TPR,SHD=count_accuracy_new(base_graph,base_estimate)\n",
    "      FDR_list_piece_new.append(FDR)\n",
    "      TPR_list_piece_new.append(TPR)\n",
    "      SHD_list_piece_new.append(SHD)\n",
    "    FDR_total_new.append(mean(FDR_list_piece_new))\n",
    "    TPR_total_new.append(mean(TPR_list_piece_new))\n",
    "    SHD_total_new.append(mean(SHD_list_piece_new))\n",
    "df_new = pd.DataFrame(columns=('FDR', 'TPR',\"SHD\"))\n",
    "df_new[\"FDR\"]=FDR_total_new\n",
    "df_new[\"TPR\"]=TPR_total_new\n",
    "df_new[\"SHD\"]=SHD_total_new\n",
    "#df_new[\"time\"]=time_list_new\n",
    "df_new.mean()"
   ]
  },
  {
   "cell_type": "code",
   "execution_count": 99,
   "id": "9353fba5",
   "metadata": {},
   "outputs": [
    {
     "data": {
      "text/plain": [
       "FDR    0.009264\n",
       "TPR    0.005839\n",
       "SHD    0.009689\n",
       "dtype: float64"
      ]
     },
     "execution_count": 99,
     "metadata": {},
     "output_type": "execute_result"
    }
   ],
   "source": [
    "df_new.std()/math.sqrt(30)"
   ]
  },
  {
   "cell_type": "code",
   "execution_count": 100,
   "id": "da00b7d1",
   "metadata": {},
   "outputs": [
    {
     "data": {
      "text/plain": [
       "FDR    0.774722\n",
       "TPR    0.833333\n",
       "SHD    2.613333\n",
       "dtype: float64"
      ]
     },
     "execution_count": 100,
     "metadata": {},
     "output_type": "execute_result"
    }
   ],
   "source": [
    "#ANOCA\n",
    "base_DAG=np.zeros((5, 5))\n",
    "FDR_total=[]\n",
    "TPR_total=[]\n",
    "SHD_total=[]\n",
    "for replicate in range(n_times):\n",
    "    FDR_list_piece=[]\n",
    "    TPR_list_piece=[]\n",
    "    SHD_list_piece=[]\n",
    "    for i in range(time_stamp):\n",
    "      base_DAG[0,4]=cos(i)\n",
    "      base_DAG[abs(base_DAG)<0.2]=0\n",
    "      base_graph=nx.from_numpy_matrix(base_DAG,create_using=nx.DiGraph)\n",
    "      a=result_ANOCA[replicate,i+1,:,:]\n",
    "      a[abs(a)<0.2] = 0\n",
    "      base_estimate=nx.from_numpy_matrix(a,create_using=nx.DiGraph)\n",
    "\n",
    "      FDR,TPR,SHD=count_accuracy_new(base_graph,base_estimate)\n",
    "      FDR_list_piece.append(FDR)\n",
    "      TPR_list_piece.append(TPR)\n",
    "      SHD_list_piece.append(SHD)\n",
    "    FDR_total.append(mean(FDR_list_piece))\n",
    "    TPR_total.append(mean(TPR_list_piece))\n",
    "    SHD_total.append(mean(SHD_list_piece))\n",
    "df = pd.DataFrame(columns=('FDR', 'TPR',\"SHD\"))\n",
    "df[\"FDR\"]=FDR_total\n",
    "df[\"TPR\"]=TPR_total\n",
    "df[\"SHD\"]=SHD_total\n",
    "#df_new[\"time\"]=time_list_new\n",
    "df.mean()"
   ]
  },
  {
   "cell_type": "code",
   "execution_count": 92,
   "id": "490279ed",
   "metadata": {},
   "outputs": [
    {
     "data": {
      "text/plain": [
       "FDR    0.012630\n",
       "TPR    0.015413\n",
       "SHD    0.095139\n",
       "dtype: float64"
      ]
     },
     "execution_count": 92,
     "metadata": {},
     "output_type": "execute_result"
    }
   ],
   "source": [
    "df.std()/math.sqrt(30)"
   ]
  },
  {
   "cell_type": "code",
   "execution_count": 77,
   "id": "6dc8060e",
   "metadata": {},
   "outputs": [
    {
     "data": {
      "text/plain": [
       "FDR    0.386389\n",
       "TPR    0.700000\n",
       "SHD    0.796667\n",
       "dtype: float64"
      ]
     },
     "execution_count": 77,
     "metadata": {},
     "output_type": "execute_result"
    }
   ],
   "source": [
    "#NOTEARS\n",
    "base_DAG=np.zeros((5, 5))\n",
    "FDR_total=[]\n",
    "TPR_total=[]\n",
    "SHD_total=[]\n",
    "for replicate in range(n_times):\n",
    "    FDR_list_piece=[]\n",
    "    TPR_list_piece=[]\n",
    "    SHD_list_piece=[]\n",
    "    for i in range(time_stamp):\n",
    "      base_DAG[0,4]=cos(i)\n",
    "      base_DAG[abs(base_DAG)<0.2]=0\n",
    "      base_graph=nx.from_numpy_matrix(base_DAG,create_using=nx.DiGraph)\n",
    "      a=result_NOTEARS[replicate,i+1,:,:]\n",
    "      a[abs(a)<0.2] = 0\n",
    "      base_estimate=nx.from_numpy_matrix(a,create_using=nx.DiGraph)\n",
    "\n",
    "      FDR,TPR,SHD=count_accuracy_new(base_graph,base_estimate)\n",
    "      FDR_list_piece.append(FDR)\n",
    "      TPR_list_piece.append(TPR)\n",
    "      SHD_list_piece.append(SHD)\n",
    "    FDR_total.append(mean(FDR_list_piece))\n",
    "    TPR_total.append(mean(TPR_list_piece))\n",
    "    SHD_total.append(mean(SHD_list_piece))\n",
    "df = pd.DataFrame(columns=('FDR', 'TPR',\"SHD\"))\n",
    "df[\"FDR\"]=FDR_total\n",
    "df[\"TPR\"]=TPR_total\n",
    "df[\"SHD\"]=SHD_total\n",
    "#df_new[\"time\"]=time_list_new\n",
    "df.mean()"
   ]
  },
  {
   "cell_type": "code",
   "execution_count": 78,
   "id": "85bf4a1f",
   "metadata": {},
   "outputs": [
    {
     "data": {
      "text/plain": [
       "FDR    0.026911\n",
       "TPR    0.019769\n",
       "SHD    0.059593\n",
       "dtype: float64"
      ]
     },
     "execution_count": 78,
     "metadata": {},
     "output_type": "execute_result"
    }
   ],
   "source": [
    "df.std()/math.sqrt(30)"
   ]
  },
  {
   "cell_type": "code",
   "execution_count": 105,
   "id": "c1c18ed6",
   "metadata": {},
   "outputs": [
    {
     "data": {
      "image/png": "[encoded data removed]",
      "text/plain": [
       "<Figure size 432x288 with 1 Axes>"
      ]
     },
     "metadata": {
      "needs_background": "light"
     },
     "output_type": "display_data"
    }
   ],
   "source": [
    "import matplotlib.pyplot as plt\n",
    "import pandas as pd\n",
    "from cycler import cycler\n",
    "import numpy as np\n",
    "fig, ax=plt.subplots(1)\n",
    "d=pd.DataFrame({#'e':EDISON_list.mean(axis=0)[:,0,4],\n",
    "                'e': np.append(result_ANOCA[:,1:,0,4].mean(axis=0),result_ANOCA[:,-1,0,4].mean(axis=0)),\n",
    "                'd':np.append(result_NOTEARS[:,1:,0,4].mean(axis=0),mean(result_NOTEARS[:,-1,0,4])),\n",
    "                'a':np.append(result_dynotears.mean(axis=0)[:,4,0],result_dynotears.mean(axis=0)[-1,4,0]),\n",
    "                'b':exten_matrix.mean(axis=0)[:,0,4],\n",
    "                'c':[cos(i+1) for i in range(time_stamp+1)]\n",
    "               })\n",
    "colors=plt.rcParams['axes.prop_cycle'].by_key()['color']\n",
    "ax.set_prop_cycle(cycler('color', colors[:5]))\n",
    "cycle = plt.rcParams['axes.prop_cycle'].by_key()['color']\n",
    "ax.plot(d[:-1],'-',d[-2:],'--')\n",
    "plt.legend([\"ANOCA\",\"NOTEARS\",\"DYNOTEARS\",\"Proposed\", \"True coefficient\",])\n",
    "  \n",
    "# function to show the plot\n",
    "plt.xlabel(\"Time stamp\")\n",
    "plt.ylabel(\"Causal strength\")\n",
    "plt.savefig(\"quadratic_lag.pdf\")"
   ]
  },
  {
   "cell_type": "code",
   "execution_count": 190,
   "id": "95416fcd",
   "metadata": {},
   "outputs": [],
   "source": [
    "MSE_list_proposed=[]\n",
    "MSE_list_dynotears=[]\n",
    "MSE_list_ANOCA=[]\n",
    "MSE_list_NOTEARS=[]\n",
    "for j in range(30):\n",
    "    MSE_list_dynotears.append(mean((result_dynotears[j,:,4,0]-[cos(i+1)for i in range(10)])**2))\n",
    "    MSE_list_proposed.append(mean((exten_matrix[j,:-1,0,4]-[cos(i+1)for i in range(10)])**2))\n",
    "    MSE_list_ANOCA.append(mean((result_ANOCA[j,1:,0,4]-[cos(i+1)for i in range(10)])**2))\n",
    "    MSE_list_NOTEARS.append(mean((result_NOTEARS[j,1:,0,4]-[cos(i+1)for i in range(10)])**2))"
   ]
  },
  {
   "cell_type": "code",
   "execution_count": 191,
   "id": "ede72dbe",
   "metadata": {},
   "outputs": [
    {
     "name": "stdout",
     "output_type": "stream",
     "text": [
      "dynotears 0.4 0.005\n",
      "proposed 0.02 0.015\n",
      "ANOCA 0.09 0.009\n",
      "NOTEARS 0.13 0.01\n"
     ]
    }
   ],
   "source": [
    "import statistics\n",
    "print(\"dynotears\",round(mean(MSE_list_dynotears),2), round(statistics.pstdev(MSE_list_dynotears)/math.sqrt(30),3))\n",
    "print(\"proposed\",round(mean(MSE_list_proposed),2), round(statistics.pstdev(MSE_list_proposed)/math.sqrt(30),3))\n",
    "print(\"ANOCA\",round(mean(MSE_list_ANOCA),2), round(statistics.pstdev(MSE_list_ANOCA)/math.sqrt(30),3))\n",
    "print(\"NOTEARS\",round(mean(MSE_list_NOTEARS),2), round(statistics.pstdev(MSE_list_NOTEARS)/math.sqrt(30),3))"
   ]
  },
  {
   "cell_type": "code",
   "execution_count": 215,
   "id": "549f9871",
   "metadata": {},
   "outputs": [],
   "source": [
    "result_new=np.load(\"quadra_gamma_constraint.npy\") #0 axis is the number of replicates\n",
    "temp=np.load(\"quadra_10_30_ANOCA_lag.npy\")\n",
    "result_ANOCA=np.load(\"quadra_10_30_ANOCA_lag_cont.npy\")\n",
    "result_ANOCA[:,:-1,:,:]=temp\n",
    "result_NOTEARS=np.load(\"quadra_10_30_NOTEARS_lag.npy\")\n",
    "#result_ANOCA=np.load(\"quadra_10_30_ANOCA.npy\")\n",
    "#result_NOTEARS=np.load(\"quadra_10_30_NOTEARS.npy\")"
   ]
  },
  {
   "cell_type": "code",
   "execution_count": 231,
   "id": "05e9dca5",
   "metadata": {},
   "outputs": [
    {
     "data": {
      "image/png": "[encoded data removed]",
      "text/plain": [
       "<Figure size 864x1152 with 21 Axes>"
      ]
     },
     "metadata": {
      "needs_background": "light"
     },
     "output_type": "display_data"
    }
   ],
   "source": [
    "select_time=[0,3,6,9]\n",
    "methods=[\"ANOCA\",\"NOTEARS\",\"DYNOTEARS\",\"proposed\",\"true\"]\n",
    "figure, axs = plt.subplots(nrows=5, ncols=4, figsize=(12, 16))\n",
    "for i in range(len(select_time)):\n",
    "    actual_time=select_time[i]\n",
    "    ANOCA_graph=result_ANOCA[:,actual_time+1,:,:].mean(axis=0)\n",
    "    ANOCA_graph[abs(ANOCA_graph)<0.2]=0\n",
    "    im=axs[0, i].matshow(ANOCA_graph, cmap = 'bwr', vmin = -1, vmax = 1)\n",
    "    axs[0, i].set_title(str((select_time[i])),fontdict={'fontsize': 20})\n",
    "    ##NOTEARS plot\n",
    "    NOTEARS_graph=result_NOTEARS[:,actual_time+1,:,:].mean(axis=0)\n",
    "    NOTEARS_graph[abs(NOTEARS_graph)<0.2]=0\n",
    "    axs[1, i].matshow(NOTEARS_graph, cmap = 'bwr', vmin = -1, vmax = 1)\n",
    "    ##DYNOTEARS plot\n",
    "    DYNOTEARS_graph=result_dynotears[:,actual_time,:,:].mean(axis=0).T\n",
    "    DYNOTEARS_graph[abs(DYNOTEARS_graph)<0.2]=0\n",
    "    axs[2, i].matshow(DYNOTEARS_graph, cmap = 'bwr', vmin = -1, vmax = 1)\n",
    "    ##proposed plot\n",
    "    proposed_graph=exten_matrix[:,actual_time,:,:].mean(axis=0)\n",
    "    proposed_graph[abs(proposed_graph)<0.2]=0\n",
    "    axs[3, i].matshow(proposed_graph, cmap = 'bwr', vmin = -1, vmax = 1)\n",
    "    ##True plot\n",
    "    true=np.zeros([5, 5])\n",
    "    true[0,4]=cos(actual_time+1)\n",
    "    true[abs(true)<0.2]=0\n",
    "    axs[4, i].matshow(true, cmap = 'bwr', vmin = -1, vmax = 1)\n",
    "for j in range(len(methods)):\n",
    "    axs[j, 0].set(ylabel=methods[j])\n",
    "    axs[j, 0].yaxis.label.set_size(20)\n",
    "for i in range(5):\n",
    "    for j in range(4):\n",
    "        axs[i][j].get_xaxis().set_ticks([])\n",
    "        axs[i][j].get_yaxis().set_ticks([])\n",
    "cbar_ax = figure.add_axes([0.93, 0.30, 0.02, 0.3])\n",
    "figure.colorbar(im, cax=cbar_ax)\n",
    "plt.savefig(\"quadra_lag_graph.pdf\")"
   ]
  }
 ],
 "metadata": {
  "colab": {
   "name": "Copy of 100_rep_simulation_dim_5-cos_error.ipynb",
   "provenance": [],
   "toc_visible": true
  },
  "kernelspec": {
   "display_name": "Python 3",
   "language": "python",
   "name": "python3"
  },
  "language_info": {
   "codemirror_mode": {
    "name": "ipython",
    "version": 3
   },
   "file_extension": ".py",
   "mimetype": "text/x-python",
   "name": "python",
   "nbconvert_exporter": "python",
   "pygments_lexer": "ipython3",
   "version": "3.7.3"
  }
 },
 "nbformat": 4,
 "nbformat_minor": 5
}
