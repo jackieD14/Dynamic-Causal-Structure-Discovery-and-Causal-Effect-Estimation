{
 "cells": [
  {
   "cell_type": "code",
   "execution_count": 6,
   "id": "14283b70",
   "metadata": {
    "id": "14283b70",
    "scrolled": true
   },
   "outputs": [
    {
     "name": "stderr",
     "output_type": "stream",
     "text": [
      "\n",
      "Bad key \"text.kerning_factor\" on line 4 in\n",
      "D:\\Anaconda\\lib\\site-packages\\matplotlib\\mpl-data\\stylelib\\_classic_test_patch.mplstyle.\n",
      "You probably need to get an updated matplotlibrc file from\n",
      "https://github.com/matplotlib/matplotlib/blob/v3.1.3/matplotlibrc.template\n",
      "or from the matplotlib source distribution\n"
     ]
    }
   ],
   "source": [
    "from scipy import interpolate\n",
    "import matplotlib.pyplot as plt\n",
    "import numpy as np "
   ]
  },
  {
   "cell_type": "code",
   "execution_count": 7,
   "id": "7c5e29b6",
   "metadata": {},
   "outputs": [],
   "source": [
    "import numpy as np\n",
    "import torch\n",
    "from torch.utils.data.dataset import TensorDataset\n",
    "from torch.utils.data import DataLoader\n",
    "import torch.nn.functional as F\n",
    "import torch.nn as nn\n",
    "from torch.autograd import Variable\n",
    "import numpy as np\n",
    "import scipy.linalg as slin\n",
    "import scipy.sparse as sp\n",
    "import networkx as nx\n",
    "import pandas as pd\n",
    "from pandas import ExcelWriter\n",
    "from pandas import ExcelFile\n",
    "import glob\n",
    "import re\n",
    "import math\n",
    "from torch.optim.adam import Adam\n",
    "from utils import *\n",
    "from statistics import mean\n",
    "import random"
   ]
  },
  {
   "cell_type": "markdown",
   "id": "1d89455d",
   "metadata": {
    "id": "1d89455d"
   },
   "source": [
    "## create basis & function demo"
   ]
  },
  {
   "cell_type": "code",
   "execution_count": 8,
   "id": "7da3d05e",
   "metadata": {
    "id": "7da3d05e"
   },
   "outputs": [],
   "source": [
    "np.random.seed(1234567)"
   ]
  },
  {
   "cell_type": "code",
   "execution_count": 9,
   "id": "b115afe7",
   "metadata": {},
   "outputs": [],
   "source": [
    "\n",
    "def simulate_random_dag(d: int,\n",
    "                        degree: float,\n",
    "                        w_range: tuple = (1.0, 1.0)) -> nx.DiGraph:\n",
    "    \"\"\"Simulate random DAG with an expected degree by Erdos-Renyi model.\n",
    "        \n",
    "        Args:\n",
    "        d: number of nodes\n",
    "        degree: expected node degree, in + out\n",
    "        w_range: weight range +/- (low, high)\n",
    "        \n",
    "        Returns:\n",
    "        G: weighted DAG\n",
    "        \"\"\"\n",
    "    prob = float(degree) / (d - 1)\n",
    "    B = np.tril((np.random.rand(d, d) < prob).astype(float), k=-1)\n",
    "    \n",
    "    # random permutation\n",
    "    P = np.random.permutation(np.eye(d, d))  # permutes first axis only\n",
    "    B_perm = P.T.dot(B).dot(P)\n",
    "    U = np.random.uniform(low=w_range[0], high=w_range[1], size=[d, d])\n",
    "    U[np.random.rand(d, d) < 0.5] *= -1\n",
    "    W = (B_perm != 0).astype(float) * U\n",
    "    \n",
    "    # remove all in-edges (from precedent nodes) of the first node as A\n",
    "    W[:, 0] = 0\n",
    "    # remove all out-edges (from descendent nodes) of the last node as Y\n",
    "    W[d-1, :] = 0\n",
    "    # the remained nodes are the mediators M; and reset mediators if it has higher topological order than A or lower order than Y.\n",
    "    ordered_vertices = list(nx.topological_sort(nx.DiGraph(W)))\n",
    "    j = 1\n",
    "    while j < d - 1:\n",
    "        if  ordered_vertices.index(j) < ordered_vertices.index(0):\n",
    "            W[j, 1:(d - 1)] = np.zeros (d - 2)\n",
    "        if  ordered_vertices.index(j) > ordered_vertices.index(d - 1):\n",
    "            W[1:(d - 1), j] = np.zeros (d - 2)\n",
    "        j = j + 1\n",
    "    #print(\"True weighted adjacency matrix B:\\n\", W)\n",
    "    G = nx.DiGraph(W)\n",
    "    calculate_effect(W)\n",
    "    return W"
   ]
  },
  {
   "cell_type": "code",
   "execution_count": 10,
   "id": "9af8cc7a",
   "metadata": {},
   "outputs": [
    {
     "name": "stdout",
     "output_type": "stream",
     "text": [
      "The total effect (TE): 0.0\n",
      "The natural direct effect (DE): 0.0\n",
      "The natural indirect effect (IE): 0.0\n",
      "The natural direct effect for mediators (DM): [ 0.  0. -0.]\n",
      "The natural direct effect for mediators (IM): [0. 0. 0.]\n"
     ]
    },
    {
     "data": {
      "text/plain": [
       "array([[ 0., -1., -0.,  1.,  0.],\n",
       "       [ 0.,  0.,  0.,  0., -0.],\n",
       "       [ 0.,  1., -0.,  0.,  1.],\n",
       "       [ 0., -0.,  0.,  0., -0.],\n",
       "       [ 0.,  0.,  0.,  0.,  0.]])"
      ]
     },
     "execution_count": 10,
     "metadata": {},
     "output_type": "execute_result"
    }
   ],
   "source": [
    "np.random.seed(123456)\n",
    "base_DAG=simulate_random_dag(5,4)\n",
    "base_DAG"
   ]
  },
  {
   "cell_type": "code",
   "execution_count": 11,
   "id": "a373aa83",
   "metadata": {},
   "outputs": [],
   "source": [
    "random.seed(1234567)\n",
    "pick_element=random.sample(range(5), 2) ## pick two location to mutate\n",
    "pick_1=np.nonzero(base_DAG)[0][pick_element[0]],np.nonzero(base_DAG)[1][pick_element[0]]\n",
    "pick_2=np.nonzero(base_DAG)[0][pick_element[1]],np.nonzero(base_DAG)[1][pick_element[1]]"
   ]
  },
  {
   "cell_type": "code",
   "execution_count": 12,
   "id": "e63f5277",
   "metadata": {},
   "outputs": [
    {
     "data": {
      "image/png": "[encoded data removed]",
      "text/plain": [
       "<Figure size 288x288 with 2 Axes>"
      ]
     },
     "metadata": {
      "needs_background": "light"
     },
     "output_type": "display_data"
    }
   ],
   "source": [
    "plt.matshow(base_DAG.T, cmap = 'bwr', vmin = -1, vmax = 1)\n",
    "fig1 = plt.gcf()\n",
    "plt.colorbar()\n",
    "plt.show()"
   ]
  },
  {
   "cell_type": "code",
   "execution_count": 13,
   "id": "6d1a244e",
   "metadata": {
    "id": "6d1a244e"
   },
   "outputs": [],
   "source": [
    "import math \n",
    "def cos(x):\n",
    "    return ((math.cos(x/6*math.pi))/4+1)*0.8\n",
    "def quadratic(x):\n",
    "    return(-5+(10-x)**2)/200+0.5"
   ]
  },
  {
   "cell_type": "code",
   "execution_count": 4,
   "id": "7bd964c2",
   "metadata": {},
   "outputs": [
    {
     "name": "stdout",
     "output_type": "stream",
     "text": [
      "t: [0.   0.   0.   2.25 4.5  6.75 9.   9.   9.  ]\n",
      "c: [1. 1. 1. 1. 1. 1. 0. 0. 0.]\n",
      "k: 2\n",
      "\n"
     ]
    },
    {
     "data": {
      "image/png": "[encoded data removed]",
      "text/plain": [
       "<Figure size 432x288 with 1 Axes>"
      ]
     },
     "metadata": {
      "needs_background": "light"
     },
     "output_type": "display_data"
    }
   ],
   "source": [
    "degree =2\n",
    "time_point=10\n",
    "x = np.array(range(0, time_point))\n",
    "#y = np.array([cos(i)+np.random.normal(0, 0.1, 1) for i in x])\n",
    "y = np.array([1 for i in x])\n",
    "#y = np.array([1 for i in x])\n",
    "z= [1 for i in np.array(range(0, time_point*10))]\n",
    "m = 3\n",
    "step = (x[-1] - x[0]) / (m + 1)\n",
    "knots = np.linspace(step, m * step, m)\n",
    "\n",
    "t, c, k = interpolate.splrep(x, y, k=degree, s=0, t=knots, per=0)\n",
    "\n",
    "print('''\\\n",
    "t: {}\n",
    "c: {}\n",
    "k: {}\n",
    "'''.format(t, c, k))\n",
    "N = 100\n",
    "xmin, xmax = x.min(), x.max()\n",
    "xx = np.linspace(xmin, xmax, N)\n",
    "spline = interpolate.BSpline(t, c, k, extrapolate=False)\n",
    "\n",
    "plt.plot(x, y, label='data points')\n",
    "plt.plot(xx, spline(xx), label='BSpline')\n",
    "plt.plot([i/10 for i in np.array(range(0, time_point*10))], z, label='coef without error')\n",
    "plt.grid()\n",
    "plt.legend(loc='best')\n",
    "plt.show()"
   ]
  },
  {
   "cell_type": "code",
   "execution_count": 5,
   "id": "b1f498d7",
   "metadata": {
    "colab": {
     "base_uri": "https://localhost:8080/",
     "height": 351
    },
    "id": "b1f498d7",
    "outputId": "337ffdf2-8eee-4e75-97b3-51ae278a7cb6"
   },
   "outputs": [
    {
     "name": "stdout",
     "output_type": "stream",
     "text": [
      "t: [0.   0.   0.   2.25 4.5  6.75 9.   9.   9.  ]\n",
      "c: [0.99990351 0.99634813 0.75384184 0.56636058 0.66701045 0.80050726\n",
      " 0.         0.         0.        ]\n",
      "k: 2\n",
      "\n"
     ]
    },
    {
     "data": {
      "image/png": "[encoded data removed]",
      "text/plain": [
       "<Figure size 432x288 with 1 Axes>"
      ]
     },
     "metadata": {
      "needs_background": "light"
     },
     "output_type": "display_data"
    }
   ],
   "source": [
    "degree =2\n",
    "time_point=10\n",
    "x = np.array(range(0, time_point))\n",
    "#y = np.array([cos(i)+np.random.normal(0, 0.1, 1) for i in x])\n",
    "y = np.array([cos(i) for i in x])\n",
    "#y = np.array([1 for i in x])\n",
    "z= [cos(i/10) for i in np.array(range(0, time_point*10))]\n",
    "m = 3\n",
    "step = (x[-1] - x[0]) / (m + 1)\n",
    "knots = np.linspace(step, m * step, m)\n",
    "\n",
    "t, c, k = interpolate.splrep(x, y, k=degree, s=0, t=knots, per=0)\n",
    "\n",
    "print('''\\\n",
    "t: {}\n",
    "c: {}\n",
    "k: {}\n",
    "'''.format(t, c, k))\n",
    "N = 100\n",
    "xmin, xmax = x.min(), x.max()\n",
    "xx = np.linspace(xmin, xmax, N)\n",
    "spline = interpolate.BSpline(t, c, k, extrapolate=False)\n",
    "\n",
    "plt.plot(x, y, label='data points')\n",
    "plt.plot(xx, spline(xx), label='BSpline')\n",
    "plt.plot([i/10 for i in np.array(range(0, time_point*10))], z, label='coef without error')\n",
    "plt.grid()\n",
    "plt.legend(loc='best')\n",
    "plt.show()"
   ]
  },
  {
   "cell_type": "code",
   "execution_count": 9,
   "id": "9c0b2a55",
   "metadata": {},
   "outputs": [
    {
     "name": "stdout",
     "output_type": "stream",
     "text": [
      "t: [0.   0.   0.   2.25 4.5  6.75 9.   9.   9.  ]\n",
      "c: [0.975    0.8625   0.688125 0.564375 0.49125  0.48     0.       0.\n",
      " 0.      ]\n",
      "k: 2\n",
      "\n"
     ]
    },
    {
     "data": {
      "image/png": "[encoded data removed]",
      "text/plain": [
       "<Figure size 432x288 with 1 Axes>"
      ]
     },
     "metadata": {
      "needs_background": "light"
     },
     "output_type": "display_data"
    }
   ],
   "source": [
    "degree =2\n",
    "time_point=10\n",
    "x = np.array(range(0, time_point))\n",
    "#y = np.array([cos(i)+np.random.normal(0, 0.1, 1) for i in x])\n",
    "y = np.array([quadratic(i) for i in x])\n",
    "z= [quadratic(i/10) for i in np.array(range(0, time_point*10))]\n",
    "m = 3\n",
    "step = (x[-1] - x[0]) / (m + 1)\n",
    "knots = np.linspace(step, m * step, m)\n",
    "\n",
    "t, c, k = interpolate.splrep(x, y, k=degree, s=0, t=knots, per=0)\n",
    "\n",
    "print('''\\\n",
    "t: {}\n",
    "c: {}\n",
    "k: {}\n",
    "'''.format(t, c, k))\n",
    "N = 100\n",
    "xmin, xmax = x.min(), x.max()\n",
    "xx = np.linspace(xmin, xmax, N)\n",
    "spline = interpolate.BSpline(t, c, k, extrapolate=False)\n",
    "\n",
    "plt.plot(x, y, label='data points')\n",
    "plt.plot(xx, spline(xx), label='BSpline')\n",
    "plt.plot([i/10 for i in np.array(range(0, time_point*10))], z, label='coef without error')\n",
    "plt.grid()\n",
    "plt.legend(loc='best')\n",
    "plt.show()"
   ]
  },
  {
   "cell_type": "code",
   "execution_count": 10,
   "id": "7ca93bbd",
   "metadata": {
    "id": "7ca93bbd"
   },
   "outputs": [],
   "source": [
    "from scipy.interpolate import BSpline\n",
    "k = 3\n",
    "t = t\n",
    "c1 = [1,0,0,0,0,0]\n",
    "c2 = [0,1,0,0,0,0]\n",
    "c3 = [0,0,1,0,0,0]\n",
    "c4 = [0,0,0,1,0,0]\n",
    "c5 = [0,0,0,0,1,0]\n",
    "c6 = [0,0,0,0,0,1]\n",
    "spl1 = BSpline(t, c1, k)\n",
    "spl2 = BSpline(t, c2, k)\n",
    "spl3 = BSpline(t, c3, k)\n",
    "spl4 = BSpline(t, c4, k)\n",
    "spl5 = BSpline(t, c5, k)\n",
    "spl6 = BSpline(t, c6, k)"
   ]
  },
  {
   "cell_type": "code",
   "execution_count": 7,
   "id": "8e0f471e",
   "metadata": {
    "colab": {
     "base_uri": "https://localhost:8080/",
     "height": 265
    },
    "id": "8e0f471e",
    "outputId": "502f249b-3175-455f-f521-052e4f099891"
   },
   "outputs": [
    {
     "data": {
      "image/png": "[encoded data removed]",
      "text/plain": [
       "<Figure size 432x288 with 1 Axes>"
      ]
     },
     "metadata": {
      "needs_background": "light"
     },
     "output_type": "display_data"
    }
   ],
   "source": [
    "import matplotlib.pyplot as plt\n",
    "fig, ax = plt.subplots()\n",
    "xx = np.linspace(0, time_point, 50)\n",
    "ax.plot(xx, spl1(xx), lw=3, label='Bspline1')\n",
    "ax.plot(xx, spl2(xx), lw=4, alpha=0.7, label='Bspline2')\n",
    "ax.plot(xx, spl3(xx), lw=4, alpha=0.7, label='Bspline3')\n",
    "ax.plot(xx, spl4(xx), lw=4, alpha=0.7, label='Bspline4')\n",
    "ax.plot(xx, spl5(xx), lw=4, alpha=0.7, label='Bspline5')\n",
    "ax.plot(xx, spl6(xx), lw=4, alpha=0.7, label='Bspline6')\n",
    "ax.grid(True)\n",
    "ax.legend(loc='best')\n",
    "plt.show()"
   ]
  },
  {
   "cell_type": "markdown",
   "id": "e1fcf3e1",
   "metadata": {
    "id": "e1fcf3e1"
   },
   "source": [
    "## create data"
   ]
  },
  {
   "cell_type": "code",
   "execution_count": 8,
   "id": "V6gVN_VTxnG4",
   "metadata": {
    "id": "V6gVN_VTxnG4"
   },
   "outputs": [],
   "source": [
    "def data_create(seed,time_stamp,set_graph):\n",
    "  np.random.seed(seed)\n",
    "  x = np.array(range(0, time_stamp))\n",
    "  #y = np.array([cos(i)+np.random.normal(0, 0.1, 1) for i in x]) #generate coefficient\n",
    "  y=np.array([cos(i) for i in x])\n",
    "  z=np.array([quadratic(i) for i in x])##edited to have multiple\n",
    "  base_DAG=set_graph \n",
    "  base_DAG[pick_1]=y[0]##edited to be coeffcient with error\n",
    "  base_DAG[pick_2]=z[0]###multiple\n",
    "  base_graph=nx.from_numpy_matrix(base_DAG,create_using=nx.DiGraph)\n",
    "  X_all = simulate_lsem(base_graph,30, 'Binary', 1,noise_scale=0.1)\n",
    "  for i in range(1,time_stamp):\n",
    "      base_DAG[pick_1]=y[i]##edited to be coeffcient with error\n",
    "      base_DAG[pick_2]=z[i]###multiple\n",
    "      base_graph=nx.from_numpy_matrix(base_DAG,create_using=nx.DiGraph)\n",
    "      X = simulate_lsem(base_graph,30, 'Binary', 1,noise_scale=0.1)\n",
    "      X_all=np.append(X_all,X,axis=0)\n",
    "      print(base_DAG)\n",
    "  return X_all"
   ]
  },
  {
   "cell_type": "code",
   "execution_count": 17,
   "id": "1c16e796",
   "metadata": {},
   "outputs": [
    {
     "name": "stdout",
     "output_type": "stream",
     "text": [
      "[[ 0.         -1.         -0.          0.88        0.        ]\n",
      " [ 0.          0.          0.          0.         -0.        ]\n",
      " [ 0.          1.         -0.          0.          0.97320508]\n",
      " [ 0.         -0.          0.          0.         -0.        ]\n",
      " [ 0.          0.          0.          0.          0.        ]]\n",
      "[[ 0.    -1.    -0.     0.795  0.   ]\n",
      " [ 0.     0.     0.     0.    -0.   ]\n",
      " [ 0.     1.    -0.     0.     0.9  ]\n",
      " [ 0.    -0.     0.     0.    -0.   ]\n",
      " [ 0.     0.     0.     0.     0.   ]]\n",
      "[[ 0.   -1.   -0.    0.72  0.  ]\n",
      " [ 0.    0.    0.    0.   -0.  ]\n",
      " [ 0.    1.   -0.    0.    0.8 ]\n",
      " [ 0.   -0.    0.    0.   -0.  ]\n",
      " [ 0.    0.    0.    0.    0.  ]]\n",
      "[[ 0.    -1.    -0.     0.655  0.   ]\n",
      " [ 0.     0.     0.     0.    -0.   ]\n",
      " [ 0.     1.    -0.     0.     0.7  ]\n",
      " [ 0.    -0.     0.     0.    -0.   ]\n",
      " [ 0.     0.     0.     0.     0.   ]]\n",
      "[[ 0.         -1.         -0.          0.6         0.        ]\n",
      " [ 0.          0.          0.          0.         -0.        ]\n",
      " [ 0.          1.         -0.          0.          0.62679492]\n",
      " [ 0.         -0.          0.          0.         -0.        ]\n",
      " [ 0.          0.          0.          0.          0.        ]]\n",
      "[[ 0.    -1.    -0.     0.555  0.   ]\n",
      " [ 0.     0.     0.     0.    -0.   ]\n",
      " [ 0.     1.    -0.     0.     0.6  ]\n",
      " [ 0.    -0.     0.     0.    -0.   ]\n",
      " [ 0.     0.     0.     0.     0.   ]]\n",
      "[[ 0.         -1.         -0.          0.52        0.        ]\n",
      " [ 0.          0.          0.          0.         -0.        ]\n",
      " [ 0.          1.         -0.          0.          0.62679492]\n",
      " [ 0.         -0.          0.          0.         -0.        ]\n",
      " [ 0.          0.          0.          0.          0.        ]]\n",
      "[[ 0.    -1.    -0.     0.495  0.   ]\n",
      " [ 0.     0.     0.     0.    -0.   ]\n",
      " [ 0.     1.    -0.     0.     0.7  ]\n",
      " [ 0.    -0.     0.     0.    -0.   ]\n",
      " [ 0.     0.     0.     0.     0.   ]]\n",
      "[[ 0.   -1.   -0.    0.48  0.  ]\n",
      " [ 0.    0.    0.    0.   -0.  ]\n",
      " [ 0.    1.   -0.    0.    0.8 ]\n",
      " [ 0.   -0.    0.    0.   -0.  ]\n",
      " [ 0.    0.    0.    0.    0.  ]]\n"
     ]
    }
   ],
   "source": [
    "n = 30 # The number of samples of data.\n",
    "d = 5 # The number of variables in data.\n",
    "time_stamp=10 #no. of timestamp\n",
    "np.random.seed(1234567) #Random seed\n",
    "n_times=30\n",
    "seed_list=np.random.randint(1, 1000000, size=n_times)\n",
    "seed=seed_list[0]\n",
    "X_all=data_create(seed,time_stamp,base_DAG) #create data"
   ]
  },
  {
   "cell_type": "code",
   "execution_count": 18,
   "id": "faba8df9",
   "metadata": {},
   "outputs": [
    {
     "data": {
      "text/plain": [
       "(300, 5, 1)"
      ]
     },
     "execution_count": 18,
     "metadata": {},
     "output_type": "execute_result"
    }
   ],
   "source": [
    "X_all.shape #(30*10)*5"
   ]
  },
  {
   "cell_type": "code",
   "execution_count": 19,
   "id": "f1766d8b",
   "metadata": {
    "id": "f1766d8b"
   },
   "outputs": [],
   "source": [
    "from __future__ import division\n",
    "from __future__ import print_function\n",
    "\n",
    "import time\n",
    "import argparse\n",
    "import pickle\n",
    "import os\n",
    "import random\n",
    "\n",
    "import torch.optim as optim\n",
    "from torch.optim import lr_scheduler\n",
    "import math\n",
    "from utils import *\n",
    "\n",
    "from multiprocessing import Pool\n",
    "import multiprocessing\n",
    "n_cores = multiprocessing.cpu_count()\n",
    "from numpy.random import randn\n",
    "from random import seed as rseed\n",
    "from numpy.random import seed as npseed\n",
    "import time"
   ]
  },
  {
   "cell_type": "markdown",
   "id": "42b6be67",
   "metadata": {
    "id": "42b6be67"
   },
   "source": [
    "# new method"
   ]
  },
  {
   "cell_type": "code",
   "execution_count": 20,
   "id": "42046e3c",
   "metadata": {
    "id": "42046e3c"
   },
   "outputs": [],
   "source": [
    "# ----------- Configurations:\n",
    "time_stamp=10\n",
    "n_timestamp=time_stamp\n",
    "sample__time=30##sample per timepoint\n",
    "n = time_stamp*sample__time # The number of samples of data.\n",
    "n_var = 5 # The number of variables in data.\n",
    "x_dims = 1 # The number of input dimensions: default 1.\n",
    "z_dims = n_var # The number of latent variable dimensions: default the same as variable size.\n",
    "epochs = 200 # Number of epochs to train.\n"
   ]
  },
  {
   "cell_type": "code",
   "execution_count": 21,
   "id": "7871866b",
   "metadata": {
    "colab": {
     "base_uri": "https://localhost:8080/"
    },
    "id": "7871866b",
    "outputId": "95d27f29-9ad4-41bb-a565-112fc3b458d9"
   },
   "outputs": [
    {
     "data": {
      "text/plain": [
       "10"
      ]
     },
     "execution_count": 21,
     "metadata": {},
     "output_type": "execute_result"
    }
   ],
   "source": [
    "n_timestamp"
   ]
  },
  {
   "cell_type": "code",
   "execution_count": 22,
   "id": "2b4a5750",
   "metadata": {
    "colab": {
     "base_uri": "https://localhost:8080/"
    },
    "id": "2b4a5750",
    "outputId": "c445bb2c-a8f6-47b5-b509-6845875ddd96"
   },
   "outputs": [
    {
     "data": {
      "text/plain": [
       "30"
      ]
     },
     "execution_count": 22,
     "metadata": {},
     "output_type": "execute_result"
    }
   ],
   "source": [
    "sample__time"
   ]
  },
  {
   "cell_type": "code",
   "execution_count": 23,
   "id": "57724831",
   "metadata": {},
   "outputs": [
    {
     "data": {
      "text/plain": [
       "(300, 5, 1)"
      ]
     },
     "execution_count": 23,
     "metadata": {},
     "output_type": "execute_result"
    }
   ],
   "source": [
    "X_all.shape"
   ]
  },
  {
   "cell_type": "code",
   "execution_count": 24,
   "id": "93a046a5",
   "metadata": {
    "id": "93a046a5"
   },
   "outputs": [],
   "source": [
    "def create_D(X,spline_list):\n",
    "    D_all=np.zeros((sample__time*time_stamp, n_var*len(spline_list),1))\n",
    "    for j in range(len(spline_list)):\n",
    "        D_column=np.zeros((sample__time*time_stamp, n_var,1))#for each spline\n",
    "        for i in range(0,n_timestamp):\n",
    "            D_column[(sample__time*i):(sample__time*(i+1)),:,:]=X[(sample__time*i):(sample__time*(i+1)),:]*spline_list[j](i)#X_i *f(i), stack horizontally\n",
    "        ##horizontally append\n",
    "        D_all[:,n_var*j:n_var*(j+1),:]=D_column\n",
    "        #print((n_features*j,n_features*(j+1)))\n",
    "    return(D_all)"
   ]
  },
  {
   "cell_type": "code",
   "execution_count": 11,
   "id": "5880a65f",
   "metadata": {
    "id": "5880a65f"
   },
   "outputs": [],
   "source": [
    "#spline_list=[spl_const]\n",
    "spline_list=[spl1,spl2,spl3,spl4,spl5,spl6]"
   ]
  },
  {
   "cell_type": "code",
   "execution_count": 12,
   "id": "9bdb6397",
   "metadata": {
    "id": "9bdb6397"
   },
   "outputs": [],
   "source": [
    "def spl_consraint(spline_list,t,p):\n",
    "    k=len(spline_list)\n",
    "    output=torch.zeros(((p*k), p))\n",
    "    identity=torch.zeros((p, p*k))\n",
    "    for i in range(k):\n",
    "        output[(i*p):(i*p+p),:]=torch.ones((p,p))*spline_list[i](t).item() #gamma times basis\n",
    "        identity[:,(i*p):(i*p+p)]=torch.eye(p) #stacked identity matrix\n",
    "    #final=torch.matmul(identity,output)\n",
    "    return output, identity"
   ]
  },
  {
   "cell_type": "code",
   "execution_count": 27,
   "id": "985dc159",
   "metadata": {
    "id": "985dc159"
   },
   "outputs": [],
   "source": [
    "# ----------- Configurations:\n",
    "n = 30*time_stamp # The number of samples of data.\n",
    "d = 36 # The number of variables in data after spline.  (p+1*k)\n",
    "x_dims = 1 # The number of input dimensions: default 1.\n",
    "z_dims = d # The number of latent variable dimensions: default the same as variable size.\n",
    "epochs = 200 # Number of epochs to train.\n",
    "batch_size = 10 # Number of samples per batch. note: should be divisible by sample size, otherwise throw an error.\n",
    "k_max_iter = int(1e2) # The max iteration number for searching parameters.\n",
    "original_lr = 3e-3  # Initial learning rate.\n",
    "encoder_hidden = d^2 # Number of hidden units, adaptive to dimension of nodes (d^2).\n",
    "decoder_hidden = d^2 # Number of hidden units, adaptive to dimension of nodes (d^2).\n",
    "temp = 0.5 # Temperature for Gumbel softmax.\n",
    "factor = True # Factor graph model.\n",
    "encoder_dropout = 0.0 # Dropout rate (1 - keep probability).\n",
    "decoder_dropout = 0.0 # Dropout rate (1 - keep probability).\n",
    "tau_B = 0. # Coefficient for L-1 norm of matrix B.\n",
    "lambda1 = 0. # Coefficient for DAG constraint h1(B).\n",
    "lambda2 = 0. # Coefficient for identification constraint h2(B).\n",
    "c_B = 1 # Coefficient for absolute value h1(B).\n",
    "d_B = 1 # Coefficient for absolute value h2(B).\n",
    "e_B = 1 # Coefficient for absolute value h3(B)\n",
    "h1_tol = 1e-8 # The tolerance of error of h1(B) to zero.\n",
    "h2_tol = 1e-8 # The tolerance of error of h2(B) to zero.\n",
    "h3_tol = 1e-8 # The tolerance of error of h2(B) to zero.\n",
    "lr_decay = 200 # After how many epochs to decay LR by a factor of gamma. \n",
    "gamma = 1.0 # LR decay factor. "
   ]
  },
  {
   "cell_type": "code",
   "execution_count": 28,
   "id": "4c588ed1",
   "metadata": {
    "id": "4c588ed1"
   },
   "outputs": [],
   "source": [
    "def fun_h2_B_new(B):\n",
    "    '''compute constraint h2(B) value'''\n",
    "    d = B.shape[0]\n",
    "    gamma=B[p:,:p]\n",
    "    h3_B = sum(sum(abs(B[:p, :])))+sum(abs(gamma[:, 0]))+sum(sum(abs(B[p:, p:]))) # uppper 0 and 0 column and every p-1,2p-1 row\n",
    "    for i in range(k):\n",
    "        h3_B=h3_B+sum(abs(gamma[((i+1)*p-1), 1:]))\n",
    "    return h3_B"
   ]
  },
  {
   "cell_type": "code",
   "execution_count": 29,
   "id": "705f6778",
   "metadata": {
    "id": "705f6778"
   },
   "outputs": [],
   "source": [
    "def fun_h1_B(B):\n",
    "    '''compute constraint h1(B) value'''\n",
    "    d = B.shape[0]\n",
    "    expm_B = matrix_poly(B * B, d)\n",
    "    h1_B = torch.trace(expm_B) - d\n",
    "    return h1_B.float()"
   ]
  },
  {
   "cell_type": "code",
   "execution_count": 30,
   "id": "feedc251",
   "metadata": {
    "id": "feedc251"
   },
   "outputs": [],
   "source": [
    "def train_new(epoch, lambda1, c_B, lambda2, d_B, optimizer, old_lr,p,k):\n",
    "        \n",
    "        nll_train = []\n",
    "        kl_train = []\n",
    "        mse_train = []\n",
    "        encoder.train()\n",
    "        decoder.train()\n",
    "        scheduler.step()\n",
    "\n",
    "        # Update optimizer\n",
    "        optimizer, lr = update_optimizer(optimizer, old_lr, c_B, d_B)\n",
    "\n",
    "        for batch_idx, (data, relations) in enumerate(train_loader):\n",
    "\n",
    "            data, relations = Variable(data).double(), Variable(relations).double()\n",
    "            relations = relations.unsqueeze(2) # Reshape data\n",
    "\n",
    "            optimizer.zero_grad()\n",
    "\n",
    "            enc_x, logits, origin_B, adj_A_tilt_encoder, z_gap, z_positive, myA, Wa = encoder(data, rel_rec, rel_send) \n",
    "            edges = logits # Logits is of size: [num_sims, z_dims]\n",
    "\n",
    "            dec_x, output, adj_A_tilt_decoder = decoder(data, edges, d * x_dims, rel_rec, rel_send, origin_B, adj_A_tilt_encoder, Wa)\n",
    "\n",
    "            if torch.sum(output != output):\n",
    "                print('nan error\\n')\n",
    "\n",
    "            target = data\n",
    "            preds = output\n",
    "            variance = 0.\n",
    "            \n",
    "            # Compute constraint functions h1(B) and h2(B)\n",
    "            #h1_B = fun_h1_B(origin_B[p:,p:]) #acyclity on G\n",
    "            h1_B =0\n",
    "            for i in range(n_timestamp):\n",
    "                #aa=torch.matmul(spl_consraint(spline_list,i,p).type(torch.FloatTensor),origin_B[p:,:p].type(torch.FloatTensor))#acyclity on Gamma\n",
    "                #print(fun_h1_B(aa))\n",
    "                output, identity=spl_consraint(spline_list,i,p)\n",
    "                h1_B=h1_B+fun_h1_B(torch.matmul(identity.type(torch.FloatTensor),(output.type(torch.FloatTensor)*origin_B[p:,:p].type(torch.FloatTensor))))#acyclity on Gamma\n",
    "            h2_B = fun_h2_B_new(origin_B) ##handle the zero on gamma and top\n",
    "            # Reconstruction accuracy loss:\n",
    "            loss_nll = nll_gaussian(preds, target, variance)\n",
    "            # KL loss:\n",
    "            loss_kl = kl_gaussian(logits)\n",
    "            # ELBO loss:\n",
    "            loss = loss_kl + loss_nll\n",
    "            # Loss function:\n",
    "            loss += lambda1 * h1_B + 0.5 * c_B * h1_B * h1_B + lambda2 * h2_B + 0.5 * d_B * h2_B * h2_B + 100. * torch.trace(origin_B * origin_B)\n",
    "\n",
    "            loss.backward()\n",
    "            loss = optimizer.step()\n",
    "\n",
    "            myA.data = stau(myA.data, tau_B * lr)\n",
    "\n",
    "            if torch.sum(origin_B != origin_B):\n",
    "                print('nan error\\n')\n",
    "\n",
    "            mse_train.append(F.mse_loss(preds, target).item())\n",
    "            nll_train.append(loss_nll.item())\n",
    "            kl_train.append(loss_kl.item())\n",
    "\n",
    "        return np.mean(np.mean(kl_train) + np.mean(nll_train)), np.mean(nll_train), np.mean(mse_train), origin_B, optimizer, lr\n"
   ]
  },
  {
   "cell_type": "code",
   "execution_count": 31,
   "id": "b76390df",
   "metadata": {},
   "outputs": [
    {
     "data": {
      "text/plain": [
       "array([[ 0.  , -1.  , -0.  ,  0.48,  0.  ],\n",
       "       [ 0.  ,  0.  ,  0.  ,  0.  , -0.  ],\n",
       "       [ 0.  ,  1.  , -0.  ,  0.  ,  0.8 ],\n",
       "       [ 0.  , -0.  ,  0.  ,  0.  , -0.  ],\n",
       "       [ 0.  ,  0.  ,  0.  ,  0.  ,  0.  ]])"
      ]
     },
     "execution_count": 31,
     "metadata": {},
     "output_type": "execute_result"
    }
   ],
   "source": [
    "base_DAG"
   ]
  },
  {
   "cell_type": "code",
   "execution_count": 34,
   "id": "54a4ea69",
   "metadata": {},
   "outputs": [],
   "source": [
    "from scipy.interpolate import BSpline\n",
    "def spline_create(m):\n",
    "    degree =2\n",
    "    x = np.array(range(0, 11))\n",
    "    y = np.array([cos(i) for i in x])\n",
    "    z= [cos(i/10) for i in np.array(range(0, 110))]\n",
    "    step = (x[-1] - x[0]) / (m + 1)\n",
    "    knots = np.linspace(step, m * step, m)\n",
    "\n",
    "    t, c, k = interpolate.splrep(x, y, k=degree, s=0, t=knots, per=0)\n",
    "\n",
    "    print('''\\\n",
    "    t: {}\n",
    "    c: {}\n",
    "    k: {}\n",
    "    '''.format(t, c, k))\n",
    "    N = 100\n",
    "    xmin, xmax = x.min(), x.max()\n",
    "    xx = np.linspace(xmin, xmax, N)\n",
    "    spline = interpolate.BSpline(t, c, k, extrapolate=False)\n",
    "    ##get the spline\n",
    "    k = 2\n",
    "    t = t\n",
    "    c1 = [1,0,0,0,0,0,0,0]\n",
    "    c2 = [0,1,0,0,0,0,0,0]\n",
    "    c3 = [0,0,1,0,0,0,0,0]\n",
    "    c4 = [0,0,0,1,0,0,0,0]\n",
    "    c5 = [0,0,0,0,1,0,0,0]\n",
    "    c6 = [0,0,0,0,0,1,0,0]\n",
    "    c7 = [0,0,0,0,0,0,1,0]\n",
    "    c8 = [0,0,0,0,0,0,0,1]\n",
    "    spl1 = BSpline(t, c1, k)\n",
    "    spl2 = BSpline(t, c2, k)\n",
    "    spl3 = BSpline(t, c3, k)\n",
    "    spl4 = BSpline(t, c4, k)\n",
    "    spl5 = BSpline(t, c5, k)\n",
    "    spl6 = BSpline(t, c6, k)\n",
    "    spl7 = BSpline(t, c7, k)\n",
    "    spl8 = BSpline(t, c8, k)\n",
    "    \n",
    "    spline_list=[spl1,spl2,spl3,spl4,spl5,spl6,spl7,spl8]\n",
    "    spline_list=spline_list[:(m+k+1)]\n",
    "    return(spline_list)"
   ]
  },
  {
   "cell_type": "code",
   "execution_count": 35,
   "id": "e70f06ab",
   "metadata": {},
   "outputs": [
    {
     "name": "stdout",
     "output_type": "stream",
     "text": [
      "[[ 0.         -1.         -0.          0.88        0.        ]\n",
      " [ 0.          0.          0.          0.         -0.        ]\n",
      " [ 0.          1.         -0.          0.          0.97320508]\n",
      " [ 0.         -0.          0.          0.         -0.        ]\n",
      " [ 0.          0.          0.          0.          0.        ]]\n",
      "[[ 0.    -1.    -0.     0.795  0.   ]\n",
      " [ 0.     0.     0.     0.    -0.   ]\n",
      " [ 0.     1.    -0.     0.     0.9  ]\n",
      " [ 0.    -0.     0.     0.    -0.   ]\n",
      " [ 0.     0.     0.     0.     0.   ]]\n",
      "[[ 0.   -1.   -0.    0.72  0.  ]\n",
      " [ 0.    0.    0.    0.   -0.  ]\n",
      " [ 0.    1.   -0.    0.    0.8 ]\n",
      " [ 0.   -0.    0.    0.   -0.  ]\n",
      " [ 0.    0.    0.    0.    0.  ]]\n",
      "[[ 0.    -1.    -0.     0.655  0.   ]\n",
      " [ 0.     0.     0.     0.    -0.   ]\n",
      " [ 0.     1.    -0.     0.     0.7  ]\n",
      " [ 0.    -0.     0.     0.    -0.   ]\n",
      " [ 0.     0.     0.     0.     0.   ]]\n",
      "[[ 0.         -1.         -0.          0.6         0.        ]\n",
      " [ 0.          0.          0.          0.         -0.        ]\n",
      " [ 0.          1.         -0.          0.          0.62679492]\n",
      " [ 0.         -0.          0.          0.         -0.        ]\n",
      " [ 0.          0.          0.          0.          0.        ]]\n",
      "[[ 0.    -1.    -0.     0.555  0.   ]\n",
      " [ 0.     0.     0.     0.    -0.   ]\n",
      " [ 0.     1.    -0.     0.     0.6  ]\n",
      " [ 0.    -0.     0.     0.    -0.   ]\n",
      " [ 0.     0.     0.     0.     0.   ]]\n",
      "[[ 0.         -1.         -0.          0.52        0.        ]\n",
      " [ 0.          0.          0.          0.         -0.        ]\n",
      " [ 0.          1.         -0.          0.          0.62679492]\n",
      " [ 0.         -0.          0.          0.         -0.        ]\n",
      " [ 0.          0.          0.          0.          0.        ]]\n",
      "[[ 0.    -1.    -0.     0.495  0.   ]\n",
      " [ 0.     0.     0.     0.    -0.   ]\n",
      " [ 0.     1.    -0.     0.     0.7  ]\n",
      " [ 0.    -0.     0.     0.    -0.   ]\n",
      " [ 0.     0.     0.     0.     0.   ]]\n",
      "[[ 0.   -1.   -0.    0.48  0.  ]\n",
      " [ 0.    0.    0.    0.   -0.  ]\n",
      " [ 0.    1.   -0.    0.    0.8 ]\n",
      " [ 0.   -0.    0.    0.   -0.  ]\n",
      " [ 0.    0.    0.    0.    0.  ]]\n",
      "    t: [ 0.  0.  0.  5. 10. 10. 10.]\n",
      "    c: [1.02820318 0.82005058 0.4918023  0.92528792 0.         0.\n",
      " 0.        ]\n",
      "    k: 2\n",
      "    \n",
      "(300, 25, 1)\n",
      "knots= 1 folds= 0\n",
      "(240, 25, 1)\n"
     ]
    },
    {
     "name": "stderr",
     "output_type": "stream",
     "text": [
      "D:\\Anaconda\\lib\\site-packages\\torch\\optim\\lr_scheduler.py:100: UserWarning: Detected call of `lr_scheduler.step()` before `optimizer.step()`. In PyTorch 1.1.0 and later, you should call them in the opposite order: `optimizer.step()` before `lr_scheduler.step()`.  Failure to do this will result in PyTorch skipping the first value of the learning rate schedule.See more details at https://pytorch.org/docs/stable/optim.html#how-to-adjust-learning-rate\n",
      "  \"https://pytorch.org/docs/stable/optim.html#how-to-adjust-learning-rate\", UserWarning)\n"
     ]
    },
    {
     "name": "stdout",
     "output_type": "stream",
     "text": [
      "2463.2737090587616\n",
      "mse_valid: 1.239459764009594e-07 nll_valid: 1.5493247050119917e-06 kl_valid: 0.00034973085630861167\n",
      "knots= 1 folds= 1\n",
      "(240, 25, 1)\n",
      "2193.166297197342\n",
      "mse_valid: 5.376657205848891e-07 nll_valid: 6.720821507311107e-06 kl_valid: 0.0002884108131259265\n",
      "knots= 1 folds= 2\n",
      "(240, 25, 1)\n",
      "1966.0918672084808\n",
      "mse_valid: 1.9495295280957003e-05 nll_valid: 0.0002436911910119625 kl_valid: 0.00028828507347216563\n",
      "knots= 1 folds= 3\n",
      "(240, 25, 1)\n",
      "1970.206442117691\n",
      "mse_valid: 4.0896935456579003e-07 nll_valid: 5.112116932072378e-06 kl_valid: 0.0002874160694829272\n",
      "knots= 1 folds= 4\n",
      "(240, 25, 1)\n",
      "2179.562173128128\n",
      "mse_valid: 1.0233997519131087e-05 nll_valid: 0.00012792496898913848 kl_valid: 0.0002736959107881131\n",
      "    t: [ 0.          0.          0.          3.33333333  6.66666667 10.\n",
      " 10.         10.        ]\n",
      "    c: [1.0014131  0.97520621 0.55363068 0.68795566 0.90571202 0.\n",
      " 0.         0.        ]\n",
      "    k: 2\n",
      "    \n",
      "(300, 30, 1)\n",
      "knots= 2 folds= 0\n",
      "(240, 30, 1)\n",
      "2151.9335622787476\n",
      "mse_valid: 8.04069476170287e-06 nll_valid: 0.00012061042142554308 kl_valid: 0.00038112272152662443\n",
      "knots= 2 folds= 1\n",
      "(240, 30, 1)\n",
      "2372.039099931717\n",
      "mse_valid: 2.4260009057103823e-05 nll_valid: 0.0003639001358565569 kl_valid: 0.0003576223566073772\n",
      "knots= 2 folds= 2\n",
      "(240, 30, 1)\n",
      "2153.1541924476624\n",
      "mse_valid: 1.0475202102275661e-08 nll_valid: 1.5712803153413486e-07 kl_valid: 0.00036895111342204743\n",
      "knots= 2 folds= 3\n",
      "(240, 30, 1)\n",
      "2134.379707336426\n",
      "mse_valid: 2.516382883435072e-08 nll_valid: 3.77457432515261e-07 kl_valid: 0.0003431365291957314\n",
      "knots= 2 folds= 4\n",
      "(240, 30, 1)\n",
      "2197.2843520641327\n",
      "mse_valid: 3.09916279526929e-05 nll_valid: 0.00046487441929039336 kl_valid: 0.0003711217462181474\n",
      "    t: [ 0.   0.   0.   2.5  5.   7.5 10.  10.  10. ]\n",
      "    c: [0.99991746 0.99417142 0.70604452 0.55383763 0.76591268 0.90076467\n",
      " 0.         0.         0.        ]\n",
      "    k: 2\n",
      "    \n",
      "(300, 35, 1)\n",
      "knots= 3 folds= 0\n",
      "(240, 35, 1)\n",
      "2706.773115158081\n",
      "mse_valid: 2.1224072539923697e-08 nll_valid: 3.7142126944866443e-07 kl_valid: 0.0003311156325229467\n",
      "knots= 3 folds= 1\n",
      "(240, 35, 1)\n",
      "2693.299176454544\n",
      "mse_valid: 5.587530302302489e-08 nll_valid: 9.778178029029356e-07 kl_valid: 0.00029870410939717524\n",
      "knots= 3 folds= 2\n",
      "(240, 35, 1)\n",
      "2385.976422548294\n",
      "mse_valid: 1.9059950189986717e-06 nll_valid: 3.335491283247678e-05 kl_valid: 0.00034330070768752034\n",
      "knots= 3 folds= 3\n",
      "(240, 35, 1)\n",
      "2864.0647575855255\n",
      "mse_valid: 3.856056498016227e-07 nll_valid: 6.7480988715284025e-06 kl_valid: 0.00032840629911428266\n",
      "knots= 3 folds= 4\n",
      "(240, 35, 1)\n",
      "2428.569781064987\n",
      "mse_valid: 2.9164358836034593e-06 nll_valid: 5.1037627963060565e-05 kl_valid: 0.0003227693794896967\n",
      "    t: [ 0.  0.  0.  2.  4.  6.  8. 10. 10. 10.]\n",
      "    c: [0.99985556 0.99802153 0.80044379 0.60076103 0.60133354 0.79945682\n",
      " 0.90004066 0.         0.         0.        ]\n",
      "    k: 2\n",
      "    \n",
      "(300, 40, 1)\n",
      "knots= 4 folds= 0\n",
      "(240, 40, 1)\n",
      "2718.632551431656\n",
      "mse_valid: 1.921157612690917e-08 nll_valid: 3.842315225381835e-07 kl_valid: 0.0003826281506332542\n",
      "knots= 4 folds= 1\n",
      "(240, 40, 1)\n",
      "2720.183582305908\n",
      "mse_valid: 1.4866438395727312e-07 nll_valid: 2.9732876791454617e-06 kl_valid: 0.00044409254848265306\n",
      "knots= 4 folds= 2\n",
      "(240, 40, 1)\n",
      "2687.083535671234\n",
      "mse_valid: 1.4073450571603705e-07 nll_valid: 2.814690114320739e-06 kl_valid: 0.0005097297177382616\n",
      "knots= 4 folds= 3\n",
      "(240, 40, 1)\n",
      "2583.206974506378\n",
      "mse_valid: 4.23221770565936e-08 nll_valid: 8.464435411318699e-07 kl_valid: 0.00034150025188610107\n",
      "knots= 4 folds= 4\n",
      "(240, 40, 1)\n",
      "2573.130956172943\n",
      "mse_valid: 5.089350053247203e-06 nll_valid: 0.00010178700106494443 kl_valid: 0.00041993898333752937\n",
      "    t: [ 0.          0.          0.          1.66666667  3.33333333  5.\n",
      "  6.66666667  8.33333333 10.         10.         10.        ]\n",
      "    c: [0.99991485 0.99923976 0.85695917 0.67384908 0.58042106 0.64480061\n",
      " 0.81868019 0.89993868 0.         0.         0.        ]\n",
      "    k: 2\n",
      "    \n",
      "(300, 45, 1)\n",
      "knots= 5 folds= 0\n",
      "(240, 45, 1)\n",
      "2834.3366866111755\n",
      "mse_valid: 1.6871420195948703e-07 nll_valid: 3.796069544088468e-06 kl_valid: 0.00030588552621001815\n",
      "knots= 5 folds= 1\n",
      "(240, 45, 1)\n",
      "2829.027415037155\n",
      "mse_valid: 4.159028084829281e-06 nll_valid: 9.35781319086587e-05 kl_valid: 0.00031035759080745145\n",
      "knots= 5 folds= 2\n",
      "(240, 45, 1)\n",
      "3297.9018445014954\n",
      "mse_valid: 7.742767434218798e-08 nll_valid: 1.7421226726992298e-06 kl_valid: 0.00039930831927450025\n",
      "knots= 5 folds= 3\n",
      "(240, 45, 1)\n",
      "2802.104172229767\n",
      "mse_valid: 1.8413235857069798e-07 nll_valid: 4.142978067840703e-06 kl_valid: 0.0003192333188074062\n",
      "knots= 5 folds= 4\n",
      "(240, 45, 1)\n",
      "3028.79434800148\n",
      "mse_valid: 3.4553579150085456e-06 nll_valid: 7.774555308769231e-05 kl_valid: 0.00032694043955948284\n"
     ]
    }
   ],
   "source": [
    "n_var=5\n",
    "n_times=30 #no. of replicates\n",
    "time_stamp=10 #no. of timestamp\n",
    "np.random.seed(1234567) #Random seed\n",
    "seed_list=np.random.randint(1, 1000000, size=n_times)\n",
    "\n",
    "ELBO_total_new=[]\n",
    "NLL_total_new=[]\n",
    "MSE_total_new=[]\n",
    "time_list_new=[]\n",
    "\n",
    "ELBO_valid_new=[]\n",
    "NLL_valid_new=[]\n",
    "MSE_valid_new=[]\n",
    "\n",
    "seed=seed_list[0]\n",
    "X_all=data_create(seed,time_stamp,base_DAG) #create data\n",
    "for knots in range(1,6): ##for number of basis\n",
    "    spline_list=spline_create(knots)\n",
    "    D=create_D(X_all,spline_list)\n",
    "    data_all=np.append(X_all,D, axis=1)\n",
    "    print(np.shape(data_all))\n",
    "    lambda_list=np.zeros((5,(n_var*(knots+2+1)),n_var))\n",
    "    for fold in range(5): #for folds selected\n",
    "        remove_fold=list(range(fold,300+fold,5))\n",
    "        data_fold=np.delete(data_all, remove_fold, axis=0) \n",
    "        print(\"knots=\",knots,\"folds=\",fold)\n",
    "        print(np.shape(data_fold))\n",
    "\n",
    "          ####estimate at each time_stamp####\n",
    "        timestart_new=time.time()\n",
    " # ----------- Configurations:\n",
    "        p=5\n",
    "        k=knots+2+1 #no.of basis\n",
    "        n = 24*time_stamp # The number of samples of data.\n",
    "        d = p+p*k # The number of variables in data after basis.\n",
    "        x_dims = 1 # The number of input dimensions: default 1.\n",
    "        z_dims = d # The number of latent variable dimensions: default the same as variable size.\n",
    "        epochs = 200 # Number of epochs to train.\n",
    "        batch_size = 10 # Number of samples per batch. note: should be divisible by sample size, otherwise throw an error.\n",
    "        k_max_iter = int(1e2) # The max iteration number for searching parameters.\n",
    "        original_lr = 3e-3  # Initial learning rate.\n",
    "        encoder_hidden = d^2 # Number of hidden units, adaptive to dimension of nodes (d^2).\n",
    "        decoder_hidden = d^2 # Number of hidden units, adaptive to dimension of nodes (d^2).\n",
    "        temp = 0.5 # Temperature for Gumbel softmax.\n",
    "        factor = True # Factor graph model.\n",
    "        encoder_dropout = 0.0 # Dropout rate (1 - keep probability).\n",
    "        decoder_dropout = 0.0 # Dropout rate (1 - keep probability).\n",
    "        tau_B = 0. # Coefficient for L-1 norm of matrix B.\n",
    "        lambda1 = 0. # Coefficient for DAG constraint h1(B).\n",
    "        lambda2 = 0. # Coefficient for identification constraint h2(B).\n",
    "        c_B = 1 # Coefficient for absolute value h1(B).\n",
    "        d_B = 1 # Coefficient for absolute value h2(B).\n",
    "        e_B = 1 # Coefficient for absolute value h3(B)\n",
    "        h1_tol = 1e-8 # The tolerance of error of h1(B) to zero.\n",
    "        h2_tol = 1e-8 # The tolerance of error of h2(B) to zero.\n",
    "        h3_tol = 1e-8 # The tolerance of error of h2(B) to zero.\n",
    "        lr_decay = 200 # After how many epochs to decay LR by a factor of gamma. \n",
    "        gamma = 1.0 # LR decay factor.  \n",
    "        ######################\n",
    "        np.random.seed(seed)\n",
    "        random.seed(seed)\n",
    "        torch.manual_seed(seed)\n",
    "        feat_train = torch.FloatTensor(data_fold)\n",
    "        feat_valid = torch.FloatTensor(data_all[remove_fold])\n",
    "        feat_test = torch.FloatTensor(data_fold)\n",
    "\n",
    "        # Reconstruct itself\n",
    "        train_data = TensorDataset(feat_train, feat_train)\n",
    "        valid_data = TensorDataset(feat_valid, feat_valid)\n",
    "        test_data = TensorDataset(feat_test, feat_train)\n",
    "\n",
    "        train_loader = DataLoader(train_data, batch_size = batch_size)\n",
    "        valid_loader = DataLoader(valid_data, batch_size = batch_size)\n",
    "        test_loader = DataLoader(test_data, batch_size = batch_size)\n",
    "\n",
    "        # ----------- Load modules:\n",
    "        d1=p+p*k\n",
    "        off_diag = np.ones([d1, d1]) - np.eye(d1) # Generate off-diagonal interaction graph\n",
    "        rel_rec = np.array(encode_onehot(np.where(off_diag)[1]), dtype = np.float64)\n",
    "        rel_send = np.array(encode_onehot(np.where(off_diag)[0]), dtype = np.float64)\n",
    "        rel_rec = torch.DoubleTensor(rel_rec)\n",
    "        rel_send = torch.DoubleTensor(rel_send)\n",
    "        adj_A = np.zeros((d1, d1)) # Add adjacency matrix\n",
    "\n",
    "        encoder = MLPEncoder(d1 * x_dims, x_dims, encoder_hidden,\n",
    "                              int(z_dims), adj_A,\n",
    "                              batch_size = batch_size,\n",
    "                              do_prob = encoder_dropout, factor = factor).double()\n",
    "        decoder = MLPDecoder(d1 * x_dims,\n",
    "                              z_dims, x_dims, encoder,\n",
    "                              data_variable_size = d1,\n",
    "                              batch_size = batch_size,\n",
    "                              n_hid=decoder_hidden,\n",
    "                              do_prob=decoder_dropout).double()\n",
    "\n",
    "        # ----------- Set up optimizer:\n",
    "        optimizer = optim.Adam(list(encoder.parameters()) + list(decoder.parameters()), lr = original_lr)\n",
    "        scheduler = lr_scheduler.StepLR(optimizer, step_size = lr_decay,\n",
    "                                      gamma = gamma)\n",
    "\n",
    "        rel_rec = Variable(rel_rec)\n",
    "        rel_send = Variable(rel_send)\n",
    "\n",
    "        # ----------- Main:\n",
    "        best_ELBO_loss = np.inf\n",
    "        best_NLL_loss = np.inf\n",
    "        best_MSE_loss = np.inf\n",
    "        h1_B_new = 1 #torch.tensor(1.)\n",
    "        h2_B_new = 1\n",
    "        h1_B_old = np.inf\n",
    "        h2_B_old = np.inf\n",
    "        lr = original_lr\n",
    "\n",
    "        try:\n",
    "          for step_k in range(k_max_iter):\n",
    "              while c_B * d_B < 1e+20:\n",
    "                  for epoch in range(epochs):\n",
    "                      old_lr = lr \n",
    "                      ELBO_loss, NLL_loss, MSE_loss, origin_B, optimizer, lr = train_new(epoch, lambda1, c_B, lambda2, d_B, optimizer, old_lr,p=p,k=k)\n",
    "\n",
    "                      if ELBO_loss < best_ELBO_loss:\n",
    "                          best_ELBO_loss = ELBO_loss\n",
    "\n",
    "                      if NLL_loss < best_NLL_loss:\n",
    "                          best_NLL_loss = NLL_loss\n",
    "\n",
    "                      if MSE_loss < best_MSE_loss:\n",
    "                          best_MSE_loss = MSE_loss\n",
    "\n",
    "                  if ELBO_loss > 2 * best_ELBO_loss:\n",
    "                      break\n",
    "\n",
    "                  # Update parameters\n",
    "                  B_new = origin_B.data.clone()\n",
    "                  #h1_B = fun_h1_B(B_new[p:,p:]) #acyclity on G\n",
    "                  h1_B=0 \n",
    "                  for i in range(n_timestamp):\n",
    "                      #aa=h1_B+fun_h1_B(torch.matmul(spl_consraint(spline_list,i,p),B_new[p:,:p]))#acyclity on Gamma\n",
    "                      #print(aa)\n",
    "                      output, identity=spl_consraint(spline_list,i,p)\n",
    "                      h1_B=h1_B+fun_h1_B(torch.matmul(identity.type(torch.FloatTensor),(output.type(torch.FloatTensor)*B_new[p:,:p].type(torch.FloatTensor))))\n",
    "                      #h1_B=h1_B+fun_h1_B(torch.matmul(spl_consraint(spline_list,i,p).type(torch.FloatTensor),B_new[p:,:p].type(torch.FloatTensor)))#acyclity on Gamma\n",
    "                  h2_B = fun_h2_B_new(B_new) ##handle the zero on gamma and top\n",
    "                  #B_trans_new=torch.transpose(B_new, 0, 1)\n",
    "                  #h1_B = fun_h1_B(B_trans_new[p:,p:]) #acyclity on G\n",
    "                  #h1_B = fun_h1_B(B_new[p:,:p]) #edited acyclity on G\n",
    "                  #h2_B = fun_h3_B(B_new) ##handle the zero\n",
    "\n",
    "                  if h1_B_new > 0.25 * h1_B_old and h2_B_new > 0.25 * h2_B_old:\n",
    "                      c_B *= 10\n",
    "                      d_B *= 10\n",
    "                  elif h1_B_new > 0.25 * h1_B_old and h2_B_new < 0.25 * h2_B_old:\n",
    "                      c_B *= 10\n",
    "                  elif h1_B_new < 0.25 * h1_B_old and h2_B_new > 0.25 * h2_B_old:\n",
    "                      d_B *= 10\n",
    "                  else:\n",
    "                      break\n",
    "\n",
    "              # Update parameters    \n",
    "              h1_B_old = h1_B_new\n",
    "              h2_B_old = h2_B_new\n",
    "              lambda1 += c_B * h1_B_new\n",
    "              lambda2 += d_B * h2_B_new\n",
    "\n",
    "              if h1_B_new <= h1_tol and h2_B_new <= h2_tol:\n",
    "                  break\n",
    "\n",
    "        except KeyboardInterrupt:\n",
    "          print('KeyboardInterrupt')\n",
    "\n",
    "        predB = np.matrix(origin_B.data.clone().numpy())\n",
    "        pred_gamma=predB[p:,:(p)]\n",
    "        lambda_list[fold,::]=pred_gamma\n",
    "        np.save((\"full_10_30_gamma_basis_new\"+str(knots)),lambda_list)\n",
    "        \n",
    "        ELBO_total_new.append(best_ELBO_loss)\n",
    "        NLL_total_new.append(best_NLL_loss)\n",
    "        MSE_total_new.append(best_MSE_loss)\n",
    "        \n",
    "        timeend_new=time.time()\n",
    "        time_list_new.append(timeend_new-timestart_new)\n",
    "        print(timeend_new-timestart_new)\n",
    "        \n",
    "        ###print valid loss\n",
    "        nll_valid = []\n",
    "        kl_valid = []\n",
    "        mse_valid = []\n",
    "\n",
    "        for batch_idx, (data, relations) in enumerate(valid_loader):\n",
    "\n",
    "            data, relations = Variable(data).double(), Variable(relations).double()\n",
    "            relations = relations.unsqueeze(2) # Reshape data\n",
    "\n",
    "            optimizer.zero_grad()\n",
    "\n",
    "            enc_x, logits, origin_B, adj_A_tilt_encoder, z_gap, z_positive, myA, Wa = encoder(data, rel_rec, rel_send) \n",
    "            edges = logits # Logits is of size: [num_sims, z_dims]\n",
    "\n",
    "            dec_x, output, adj_A_tilt_decoder = decoder(data, edges, d * x_dims, rel_rec, rel_send, origin_B, adj_A_tilt_encoder, Wa)\n",
    "\n",
    "            if torch.sum(output != output):\n",
    "                print('nan error\\n')\n",
    "\n",
    "            target = data\n",
    "            preds = output\n",
    "            variance = 0.\n",
    "            \n",
    "            \n",
    "            loss_nll = nll_gaussian(preds, target, variance)\n",
    "            # KL loss:\n",
    "            loss_kl = kl_gaussian(logits)\n",
    "            # ELBO loss:\n",
    "            loss = loss_kl + loss_nll\n",
    "\n",
    "            mse_valid.append(F.mse_loss(preds, target).item())\n",
    "            nll_valid.append(loss_nll.item())\n",
    "            kl_valid.append(loss_kl.item())\n",
    "        ELBO_valid_new.append(mean(mse_valid))\n",
    "        NLL_valid_new.append(mean(nll_valid))\n",
    "        MSE_valid_new.append(mean(kl_valid))\n",
    "        print(\"mse_valid:\",mean(mse_valid),\"nll_valid:\",mean(nll_valid),\"kl_valid:\",mean(kl_valid))\n",
    "            \n",
    "        \n"
   ]
  },
  {
   "cell_type": "code",
   "execution_count": 39,
   "id": "2fc361d1",
   "metadata": {},
   "outputs": [],
   "source": [
    "df_new = pd.DataFrame(columns=('ELBO', 'NLL',\"MSE\",\"time\"))\n",
    "df_new[\"ELBO\"]=ELBO_total_new\n",
    "df_new[\"NLL\"]=NLL_total_new\n",
    "df_new[\"MSE\"]=MSE_total_new\n",
    "df_new[\"time\"]=time_list_new\n",
    "df_new\n",
    "df_new.to_csv(\"full_new_5_basis.csv\")"
   ]
  },
  {
   "cell_type": "code",
   "execution_count": 40,
   "id": "1c7f27d1",
   "metadata": {},
   "outputs": [
    {
     "data": {
      "text/html": [
       "<div>\n",
       "<style scoped>\n",
       "    .dataframe tbody tr th:only-of-type {\n",
       "        vertical-align: middle;\n",
       "    }\n",
       "\n",
       "    .dataframe tbody tr th {\n",
       "        vertical-align: top;\n",
       "    }\n",
       "\n",
       "    .dataframe thead th {\n",
       "        text-align: right;\n",
       "    }\n",
       "</style>\n",
       "<table border=\"1\" class=\"dataframe\">\n",
       "  <thead>\n",
       "    <tr style=\"text-align: right;\">\n",
       "      <th></th>\n",
       "      <th>ELBO</th>\n",
       "      <th>NLL</th>\n",
       "      <th>MSE</th>\n",
       "      <th>time</th>\n",
       "    </tr>\n",
       "  </thead>\n",
       "  <tbody>\n",
       "    <tr>\n",
       "      <th>0</th>\n",
       "      <td>0.000300</td>\n",
       "      <td>8.455001e-07</td>\n",
       "      <td>6.764001e-08</td>\n",
       "      <td>2154.460098</td>\n",
       "    </tr>\n",
       "    <tr>\n",
       "      <th>1</th>\n",
       "      <td>0.000366</td>\n",
       "      <td>7.060223e-07</td>\n",
       "      <td>4.706815e-08</td>\n",
       "      <td>2201.758183</td>\n",
       "    </tr>\n",
       "    <tr>\n",
       "      <th>2</th>\n",
       "      <td>0.000329</td>\n",
       "      <td>1.227910e-06</td>\n",
       "      <td>7.016631e-08</td>\n",
       "      <td>2615.736651</td>\n",
       "    </tr>\n",
       "    <tr>\n",
       "      <th>3</th>\n",
       "      <td>0.000423</td>\n",
       "      <td>2.382649e-06</td>\n",
       "      <td>1.191325e-07</td>\n",
       "      <td>2656.447520</td>\n",
       "    </tr>\n",
       "    <tr>\n",
       "      <th>4</th>\n",
       "      <td>0.000336</td>\n",
       "      <td>1.396765e-06</td>\n",
       "      <td>6.207843e-08</td>\n",
       "      <td>2958.432893</td>\n",
       "    </tr>\n",
       "  </tbody>\n",
       "</table>\n",
       "</div>"
      ],
      "text/plain": [
       "       ELBO           NLL           MSE         time\n",
       "0  0.000300  8.455001e-07  6.764001e-08  2154.460098\n",
       "1  0.000366  7.060223e-07  4.706815e-08  2201.758183\n",
       "2  0.000329  1.227910e-06  7.016631e-08  2615.736651\n",
       "3  0.000423  2.382649e-06  1.191325e-07  2656.447520\n",
       "4  0.000336  1.396765e-06  6.207843e-08  2958.432893"
      ]
     },
     "execution_count": 40,
     "metadata": {},
     "output_type": "execute_result"
    }
   ],
   "source": [
    "df_new.groupby(np.arange(len(df_new))//5).mean()"
   ]
  },
  {
   "cell_type": "code",
   "execution_count": 36,
   "id": "6d8725ca",
   "metadata": {},
   "outputs": [],
   "source": [
    "df_new = pd.DataFrame(columns=('ELBO', 'NLL',\"MSE\",\"time\"))\n",
    "df_new[\"ELBO\"]=ELBO_valid_new\n",
    "df_new[\"NLL\"]=NLL_valid_new\n",
    "df_new[\"MSE\"]=MSE_valid_new\n",
    "df_new\n",
    "df_new.to_csv(\"full_new_5_basis_valid.csv\")"
   ]
  },
  {
   "cell_type": "code",
   "execution_count": 38,
   "id": "f0d687ef",
   "metadata": {},
   "outputs": [
    {
     "data": {
      "text/html": [
       "<div>\n",
       "<style scoped>\n",
       "    .dataframe tbody tr th:only-of-type {\n",
       "        vertical-align: middle;\n",
       "    }\n",
       "\n",
       "    .dataframe tbody tr th {\n",
       "        vertical-align: top;\n",
       "    }\n",
       "\n",
       "    .dataframe thead th {\n",
       "        text-align: right;\n",
       "    }\n",
       "</style>\n",
       "<table border=\"1\" class=\"dataframe\">\n",
       "  <thead>\n",
       "    <tr style=\"text-align: right;\">\n",
       "      <th></th>\n",
       "      <th>ELBO</th>\n",
       "      <th>NLL</th>\n",
       "      <th>MSE</th>\n",
       "    </tr>\n",
       "  </thead>\n",
       "  <tbody>\n",
       "    <tr>\n",
       "      <th>0</th>\n",
       "      <td>0.000006</td>\n",
       "      <td>0.000077</td>\n",
       "      <td>0.000298</td>\n",
       "    </tr>\n",
       "    <tr>\n",
       "      <th>1</th>\n",
       "      <td>0.000013</td>\n",
       "      <td>0.000190</td>\n",
       "      <td>0.000364</td>\n",
       "    </tr>\n",
       "    <tr>\n",
       "      <th>2</th>\n",
       "      <td>0.000001</td>\n",
       "      <td>0.000018</td>\n",
       "      <td>0.000325</td>\n",
       "    </tr>\n",
       "    <tr>\n",
       "      <th>3</th>\n",
       "      <td>0.000001</td>\n",
       "      <td>0.000022</td>\n",
       "      <td>0.000420</td>\n",
       "    </tr>\n",
       "    <tr>\n",
       "      <th>4</th>\n",
       "      <td>0.000002</td>\n",
       "      <td>0.000036</td>\n",
       "      <td>0.000332</td>\n",
       "    </tr>\n",
       "  </tbody>\n",
       "</table>\n",
       "</div>"
      ],
      "text/plain": [
       "       ELBO       NLL       MSE\n",
       "0  0.000006  0.000077  0.000298\n",
       "1  0.000013  0.000190  0.000364\n",
       "2  0.000001  0.000018  0.000325\n",
       "3  0.000001  0.000022  0.000420\n",
       "4  0.000002  0.000036  0.000332"
      ]
     },
     "execution_count": 38,
     "metadata": {},
     "output_type": "execute_result"
    }
   ],
   "source": [
    "df_new.groupby(np.arange(len(df_new))//5).mean()"
   ]
  },
  {
   "cell_type": "code",
   "execution_count": null,
   "id": "a5255e6b",
   "metadata": {},
   "outputs": [],
   "source": []
  },
  {
   "cell_type": "code",
   "execution_count": 33,
   "id": "af937222",
   "metadata": {
    "colab": {
     "base_uri": "https://localhost:8080/"
    },
    "id": "af937222",
    "outputId": "e80610dd-84e9-4b89-dce3-cc71ee027097"
   },
   "outputs": [
    {
     "name": "stdout",
     "output_type": "stream",
     "text": [
      "[[ 0.         -1.         -0.          0.88        0.        ]\n",
      " [ 0.          0.          0.          0.         -0.        ]\n",
      " [ 0.          1.         -0.          0.          0.97320508]\n",
      " [ 0.         -0.          0.          0.         -0.        ]\n",
      " [ 0.          0.          0.          0.          0.        ]]\n",
      "[[ 0.    -1.    -0.     0.795  0.   ]\n",
      " [ 0.     0.     0.     0.    -0.   ]\n",
      " [ 0.     1.    -0.     0.     0.9  ]\n",
      " [ 0.    -0.     0.     0.    -0.   ]\n",
      " [ 0.     0.     0.     0.     0.   ]]\n",
      "[[ 0.   -1.   -0.    0.72  0.  ]\n",
      " [ 0.    0.    0.    0.   -0.  ]\n",
      " [ 0.    1.   -0.    0.    0.8 ]\n",
      " [ 0.   -0.    0.    0.   -0.  ]\n",
      " [ 0.    0.    0.    0.    0.  ]]\n",
      "[[ 0.    -1.    -0.     0.655  0.   ]\n",
      " [ 0.     0.     0.     0.    -0.   ]\n",
      " [ 0.     1.    -0.     0.     0.7  ]\n",
      " [ 0.    -0.     0.     0.    -0.   ]\n",
      " [ 0.     0.     0.     0.     0.   ]]\n",
      "[[ 0.         -1.         -0.          0.6         0.        ]\n",
      " [ 0.          0.          0.          0.         -0.        ]\n",
      " [ 0.          1.         -0.          0.          0.62679492]\n",
      " [ 0.         -0.          0.          0.         -0.        ]\n",
      " [ 0.          0.          0.          0.          0.        ]]\n",
      "[[ 0.    -1.    -0.     0.555  0.   ]\n",
      " [ 0.     0.     0.     0.    -0.   ]\n",
      " [ 0.     1.    -0.     0.     0.6  ]\n",
      " [ 0.    -0.     0.     0.    -0.   ]\n",
      " [ 0.     0.     0.     0.     0.   ]]\n",
      "[[ 0.         -1.         -0.          0.52        0.        ]\n",
      " [ 0.          0.          0.          0.         -0.        ]\n",
      " [ 0.          1.         -0.          0.          0.62679492]\n",
      " [ 0.         -0.          0.          0.         -0.        ]\n",
      " [ 0.          0.          0.          0.          0.        ]]\n",
      "[[ 0.    -1.    -0.     0.495  0.   ]\n",
      " [ 0.     0.     0.     0.    -0.   ]\n",
      " [ 0.     1.    -0.     0.     0.7  ]\n",
      " [ 0.    -0.     0.     0.    -0.   ]\n",
      " [ 0.     0.     0.     0.     0.   ]]\n",
      "[[ 0.   -1.   -0.    0.48  0.  ]\n",
      " [ 0.    0.    0.    0.   -0.  ]\n",
      " [ 0.    1.   -0.    0.    0.8 ]\n",
      " [ 0.   -0.    0.    0.   -0.  ]\n",
      " [ 0.    0.    0.    0.    0.  ]]\n",
      "(300, 35, 1)\n"
     ]
    },
    {
     "name": "stderr",
     "output_type": "stream",
     "text": [
      "D:\\Anaconda\\lib\\site-packages\\torch\\optim\\lr_scheduler.py:100: UserWarning: Detected call of `lr_scheduler.step()` before `optimizer.step()`. In PyTorch 1.1.0 and later, you should call them in the opposite order: `optimizer.step()` before `lr_scheduler.step()`.  Failure to do this will result in PyTorch skipping the first value of the learning rate schedule.See more details at https://pytorch.org/docs/stable/optim.html#how-to-adjust-learning-rate\n",
      "  \"https://pytorch.org/docs/stable/optim.html#how-to-adjust-learning-rate\", UserWarning)\n"
     ]
    },
    {
     "name": "stdout",
     "output_type": "stream",
     "text": [
      "Best ELBO Loss : 0.0004776863893154498\n",
      "Best NLL Loss : 7.005861711653826e-07\n",
      "Best MSE Loss : 4.003349549516473e-08\n",
      "0\n",
      "[[ 0.         -1.         -0.          0.88        0.        ]\n",
      " [ 0.          0.          0.          0.         -0.        ]\n",
      " [ 0.          1.         -0.          0.          0.97320508]\n",
      " [ 0.         -0.          0.          0.         -0.        ]\n",
      " [ 0.          0.          0.          0.          0.        ]]\n",
      "[[ 0.    -1.    -0.     0.795  0.   ]\n",
      " [ 0.     0.     0.     0.    -0.   ]\n",
      " [ 0.     1.    -0.     0.     0.9  ]\n",
      " [ 0.    -0.     0.     0.    -0.   ]\n",
      " [ 0.     0.     0.     0.     0.   ]]\n",
      "[[ 0.   -1.   -0.    0.72  0.  ]\n",
      " [ 0.    0.    0.    0.   -0.  ]\n",
      " [ 0.    1.   -0.    0.    0.8 ]\n",
      " [ 0.   -0.    0.    0.   -0.  ]\n",
      " [ 0.    0.    0.    0.    0.  ]]\n",
      "[[ 0.    -1.    -0.     0.655  0.   ]\n",
      " [ 0.     0.     0.     0.    -0.   ]\n",
      " [ 0.     1.    -0.     0.     0.7  ]\n",
      " [ 0.    -0.     0.     0.    -0.   ]\n",
      " [ 0.     0.     0.     0.     0.   ]]\n",
      "[[ 0.         -1.         -0.          0.6         0.        ]\n",
      " [ 0.          0.          0.          0.         -0.        ]\n",
      " [ 0.          1.         -0.          0.          0.62679492]\n",
      " [ 0.         -0.          0.          0.         -0.        ]\n",
      " [ 0.          0.          0.          0.          0.        ]]\n",
      "[[ 0.    -1.    -0.     0.555  0.   ]\n",
      " [ 0.     0.     0.     0.    -0.   ]\n",
      " [ 0.     1.    -0.     0.     0.6  ]\n",
      " [ 0.    -0.     0.     0.    -0.   ]\n",
      " [ 0.     0.     0.     0.     0.   ]]\n",
      "[[ 0.         -1.         -0.          0.52        0.        ]\n",
      " [ 0.          0.          0.          0.         -0.        ]\n",
      " [ 0.          1.         -0.          0.          0.62679492]\n",
      " [ 0.         -0.          0.          0.         -0.        ]\n",
      " [ 0.          0.          0.          0.          0.        ]]\n",
      "[[ 0.    -1.    -0.     0.495  0.   ]\n",
      " [ 0.     0.     0.     0.    -0.   ]\n",
      " [ 0.     1.    -0.     0.     0.7  ]\n",
      " [ 0.    -0.     0.     0.    -0.   ]\n",
      " [ 0.     0.     0.     0.     0.   ]]\n",
      "[[ 0.   -1.   -0.    0.48  0.  ]\n",
      " [ 0.    0.    0.    0.   -0.  ]\n",
      " [ 0.    1.   -0.    0.    0.8 ]\n",
      " [ 0.   -0.    0.    0.   -0.  ]\n",
      " [ 0.    0.    0.    0.    0.  ]]\n",
      "(300, 35, 1)\n",
      "Best ELBO Loss : 0.0008312651237082389\n",
      "Best NLL Loss : 2.2944199356125618e-05\n",
      "Best MSE Loss : 1.3110971060643206e-06\n",
      "1\n",
      "[[ 0.         -1.         -0.          0.88        0.        ]\n",
      " [ 0.          0.          0.          0.         -0.        ]\n",
      " [ 0.          1.         -0.          0.          0.97320508]\n",
      " [ 0.         -0.          0.          0.         -0.        ]\n",
      " [ 0.          0.          0.          0.          0.        ]]\n",
      "[[ 0.    -1.    -0.     0.795  0.   ]\n",
      " [ 0.     0.     0.     0.    -0.   ]\n",
      " [ 0.     1.    -0.     0.     0.9  ]\n",
      " [ 0.    -0.     0.     0.    -0.   ]\n",
      " [ 0.     0.     0.     0.     0.   ]]\n",
      "[[ 0.   -1.   -0.    0.72  0.  ]\n",
      " [ 0.    0.    0.    0.   -0.  ]\n",
      " [ 0.    1.   -0.    0.    0.8 ]\n",
      " [ 0.   -0.    0.    0.   -0.  ]\n",
      " [ 0.    0.    0.    0.    0.  ]]\n",
      "[[ 0.    -1.    -0.     0.655  0.   ]\n",
      " [ 0.     0.     0.     0.    -0.   ]\n",
      " [ 0.     1.    -0.     0.     0.7  ]\n",
      " [ 0.    -0.     0.     0.    -0.   ]\n",
      " [ 0.     0.     0.     0.     0.   ]]\n",
      "[[ 0.         -1.         -0.          0.6         0.        ]\n",
      " [ 0.          0.          0.          0.         -0.        ]\n",
      " [ 0.          1.         -0.          0.          0.62679492]\n",
      " [ 0.         -0.          0.          0.         -0.        ]\n",
      " [ 0.          0.          0.          0.          0.        ]]\n",
      "[[ 0.    -1.    -0.     0.555  0.   ]\n",
      " [ 0.     0.     0.     0.    -0.   ]\n",
      " [ 0.     1.    -0.     0.     0.6  ]\n",
      " [ 0.    -0.     0.     0.    -0.   ]\n",
      " [ 0.     0.     0.     0.     0.   ]]\n",
      "[[ 0.         -1.         -0.          0.52        0.        ]\n",
      " [ 0.          0.          0.          0.         -0.        ]\n",
      " [ 0.          1.         -0.          0.          0.62679492]\n",
      " [ 0.         -0.          0.          0.         -0.        ]\n",
      " [ 0.          0.          0.          0.          0.        ]]\n",
      "[[ 0.    -1.    -0.     0.495  0.   ]\n",
      " [ 0.     0.     0.     0.    -0.   ]\n",
      " [ 0.     1.    -0.     0.     0.7  ]\n",
      " [ 0.    -0.     0.     0.    -0.   ]\n",
      " [ 0.     0.     0.     0.     0.   ]]\n",
      "[[ 0.   -1.   -0.    0.48  0.  ]\n",
      " [ 0.    0.    0.    0.   -0.  ]\n",
      " [ 0.    1.   -0.    0.    0.8 ]\n",
      " [ 0.   -0.    0.    0.   -0.  ]\n",
      " [ 0.    0.    0.    0.    0.  ]]\n",
      "(300, 35, 1)\n",
      "Best ELBO Loss : 0.0004379212079381833\n",
      "Best NLL Loss : 1.2397977776529672e-06\n",
      "Best MSE Loss : 7.084558729445528e-08\n",
      "2\n",
      "[[ 0.         -1.         -0.          0.88        0.        ]\n",
      " [ 0.          0.          0.          0.         -0.        ]\n",
      " [ 0.          1.         -0.          0.          0.97320508]\n",
      " [ 0.         -0.          0.          0.         -0.        ]\n",
      " [ 0.          0.          0.          0.          0.        ]]\n",
      "[[ 0.    -1.    -0.     0.795  0.   ]\n",
      " [ 0.     0.     0.     0.    -0.   ]\n",
      " [ 0.     1.    -0.     0.     0.9  ]\n",
      " [ 0.    -0.     0.     0.    -0.   ]\n",
      " [ 0.     0.     0.     0.     0.   ]]\n",
      "[[ 0.   -1.   -0.    0.72  0.  ]\n",
      " [ 0.    0.    0.    0.   -0.  ]\n",
      " [ 0.    1.   -0.    0.    0.8 ]\n",
      " [ 0.   -0.    0.    0.   -0.  ]\n",
      " [ 0.    0.    0.    0.    0.  ]]\n",
      "[[ 0.    -1.    -0.     0.655  0.   ]\n",
      " [ 0.     0.     0.     0.    -0.   ]\n",
      " [ 0.     1.    -0.     0.     0.7  ]\n",
      " [ 0.    -0.     0.     0.    -0.   ]\n",
      " [ 0.     0.     0.     0.     0.   ]]\n",
      "[[ 0.         -1.         -0.          0.6         0.        ]\n",
      " [ 0.          0.          0.          0.         -0.        ]\n",
      " [ 0.          1.         -0.          0.          0.62679492]\n",
      " [ 0.         -0.          0.          0.         -0.        ]\n",
      " [ 0.          0.          0.          0.          0.        ]]\n",
      "[[ 0.    -1.    -0.     0.555  0.   ]\n",
      " [ 0.     0.     0.     0.    -0.   ]\n",
      " [ 0.     1.    -0.     0.     0.6  ]\n",
      " [ 0.    -0.     0.     0.    -0.   ]\n",
      " [ 0.     0.     0.     0.     0.   ]]\n",
      "[[ 0.         -1.         -0.          0.52        0.        ]\n",
      " [ 0.          0.          0.          0.         -0.        ]\n",
      " [ 0.          1.         -0.          0.          0.62679492]\n",
      " [ 0.         -0.          0.          0.         -0.        ]\n",
      " [ 0.          0.          0.          0.          0.        ]]\n",
      "[[ 0.    -1.    -0.     0.495  0.   ]\n",
      " [ 0.     0.     0.     0.    -0.   ]\n",
      " [ 0.     1.    -0.     0.     0.7  ]\n",
      " [ 0.    -0.     0.     0.    -0.   ]\n",
      " [ 0.     0.     0.     0.     0.   ]]\n",
      "[[ 0.   -1.   -0.    0.48  0.  ]\n",
      " [ 0.    0.    0.    0.   -0.  ]\n",
      " [ 0.    1.   -0.    0.    0.8 ]\n",
      " [ 0.   -0.    0.    0.   -0.  ]\n",
      " [ 0.    0.    0.    0.    0.  ]]\n",
      "(300, 35, 1)\n",
      "Best ELBO Loss : 0.0004782456035145133\n",
      "Best NLL Loss : 1.0159549576035598e-05\n",
      "Best MSE Loss : 5.805456900591771e-07\n",
      "3\n",
      "[[ 0.         -1.         -0.          0.88        0.        ]\n",
      " [ 0.          0.          0.          0.         -0.        ]\n",
      " [ 0.          1.         -0.          0.          0.97320508]\n",
      " [ 0.         -0.          0.          0.         -0.        ]\n",
      " [ 0.          0.          0.          0.          0.        ]]\n",
      "[[ 0.    -1.    -0.     0.795  0.   ]\n",
      " [ 0.     0.     0.     0.    -0.   ]\n",
      " [ 0.     1.    -0.     0.     0.9  ]\n",
      " [ 0.    -0.     0.     0.    -0.   ]\n",
      " [ 0.     0.     0.     0.     0.   ]]\n",
      "[[ 0.   -1.   -0.    0.72  0.  ]\n",
      " [ 0.    0.    0.    0.   -0.  ]\n",
      " [ 0.    1.   -0.    0.    0.8 ]\n",
      " [ 0.   -0.    0.    0.   -0.  ]\n",
      " [ 0.    0.    0.    0.    0.  ]]\n",
      "[[ 0.    -1.    -0.     0.655  0.   ]\n",
      " [ 0.     0.     0.     0.    -0.   ]\n",
      " [ 0.     1.    -0.     0.     0.7  ]\n",
      " [ 0.    -0.     0.     0.    -0.   ]\n",
      " [ 0.     0.     0.     0.     0.   ]]\n",
      "[[ 0.         -1.         -0.          0.6         0.        ]\n",
      " [ 0.          0.          0.          0.         -0.        ]\n",
      " [ 0.          1.         -0.          0.          0.62679492]\n",
      " [ 0.         -0.          0.          0.         -0.        ]\n",
      " [ 0.          0.          0.          0.          0.        ]]\n",
      "[[ 0.    -1.    -0.     0.555  0.   ]\n",
      " [ 0.     0.     0.     0.    -0.   ]\n",
      " [ 0.     1.    -0.     0.     0.6  ]\n",
      " [ 0.    -0.     0.     0.    -0.   ]\n",
      " [ 0.     0.     0.     0.     0.   ]]\n",
      "[[ 0.         -1.         -0.          0.52        0.        ]\n",
      " [ 0.          0.          0.          0.         -0.        ]\n",
      " [ 0.          1.         -0.          0.          0.62679492]\n",
      " [ 0.         -0.          0.          0.         -0.        ]\n",
      " [ 0.          0.          0.          0.          0.        ]]\n",
      "[[ 0.    -1.    -0.     0.495  0.   ]\n",
      " [ 0.     0.     0.     0.    -0.   ]\n",
      " [ 0.     1.    -0.     0.     0.7  ]\n",
      " [ 0.    -0.     0.     0.    -0.   ]\n",
      " [ 0.     0.     0.     0.     0.   ]]\n",
      "[[ 0.   -1.   -0.    0.48  0.  ]\n",
      " [ 0.    0.    0.    0.   -0.  ]\n",
      " [ 0.    1.   -0.    0.    0.8 ]\n",
      " [ 0.   -0.    0.    0.   -0.  ]\n",
      " [ 0.    0.    0.    0.    0.  ]]\n",
      "(300, 35, 1)\n"
     ]
    },
    {
     "name": "stdout",
     "output_type": "stream",
     "text": [
      "Best ELBO Loss : 0.0004705567344725719\n",
      "Best NLL Loss : 9.117112515301907e-07\n",
      "Best MSE Loss : 5.2097785801725164e-08\n",
      "4\n",
      "[[ 0.         -1.         -0.          0.88        0.        ]\n",
      " [ 0.          0.          0.          0.         -0.        ]\n",
      " [ 0.          1.         -0.          0.          0.97320508]\n",
      " [ 0.         -0.          0.          0.         -0.        ]\n",
      " [ 0.          0.          0.          0.          0.        ]]\n",
      "[[ 0.    -1.    -0.     0.795  0.   ]\n",
      " [ 0.     0.     0.     0.    -0.   ]\n",
      " [ 0.     1.    -0.     0.     0.9  ]\n",
      " [ 0.    -0.     0.     0.    -0.   ]\n",
      " [ 0.     0.     0.     0.     0.   ]]\n",
      "[[ 0.   -1.   -0.    0.72  0.  ]\n",
      " [ 0.    0.    0.    0.   -0.  ]\n",
      " [ 0.    1.   -0.    0.    0.8 ]\n",
      " [ 0.   -0.    0.    0.   -0.  ]\n",
      " [ 0.    0.    0.    0.    0.  ]]\n",
      "[[ 0.    -1.    -0.     0.655  0.   ]\n",
      " [ 0.     0.     0.     0.    -0.   ]\n",
      " [ 0.     1.    -0.     0.     0.7  ]\n",
      " [ 0.    -0.     0.     0.    -0.   ]\n",
      " [ 0.     0.     0.     0.     0.   ]]\n",
      "[[ 0.         -1.         -0.          0.6         0.        ]\n",
      " [ 0.          0.          0.          0.         -0.        ]\n",
      " [ 0.          1.         -0.          0.          0.62679492]\n",
      " [ 0.         -0.          0.          0.         -0.        ]\n",
      " [ 0.          0.          0.          0.          0.        ]]\n",
      "[[ 0.    -1.    -0.     0.555  0.   ]\n",
      " [ 0.     0.     0.     0.    -0.   ]\n",
      " [ 0.     1.    -0.     0.     0.6  ]\n",
      " [ 0.    -0.     0.     0.    -0.   ]\n",
      " [ 0.     0.     0.     0.     0.   ]]\n",
      "[[ 0.         -1.         -0.          0.52        0.        ]\n",
      " [ 0.          0.          0.          0.         -0.        ]\n",
      " [ 0.          1.         -0.          0.          0.62679492]\n",
      " [ 0.         -0.          0.          0.         -0.        ]\n",
      " [ 0.          0.          0.          0.          0.        ]]\n",
      "[[ 0.    -1.    -0.     0.495  0.   ]\n",
      " [ 0.     0.     0.     0.    -0.   ]\n",
      " [ 0.     1.    -0.     0.     0.7  ]\n",
      " [ 0.    -0.     0.     0.    -0.   ]\n",
      " [ 0.     0.     0.     0.     0.   ]]\n",
      "[[ 0.   -1.   -0.    0.48  0.  ]\n",
      " [ 0.    0.    0.    0.   -0.  ]\n",
      " [ 0.    1.   -0.    0.    0.8 ]\n",
      " [ 0.   -0.    0.    0.   -0.  ]\n",
      " [ 0.    0.    0.    0.    0.  ]]\n",
      "(300, 35, 1)\n",
      "Best ELBO Loss : 0.00043294695410424475\n",
      "Best NLL Loss : 9.093543881815847e-08\n",
      "Best MSE Loss : 5.1963107896090536e-09\n",
      "5\n",
      "[[ 0.         -1.         -0.          0.88        0.        ]\n",
      " [ 0.          0.          0.          0.         -0.        ]\n",
      " [ 0.          1.         -0.          0.          0.97320508]\n",
      " [ 0.         -0.          0.          0.         -0.        ]\n",
      " [ 0.          0.          0.          0.          0.        ]]\n",
      "[[ 0.    -1.    -0.     0.795  0.   ]\n",
      " [ 0.     0.     0.     0.    -0.   ]\n",
      " [ 0.     1.    -0.     0.     0.9  ]\n",
      " [ 0.    -0.     0.     0.    -0.   ]\n",
      " [ 0.     0.     0.     0.     0.   ]]\n",
      "[[ 0.   -1.   -0.    0.72  0.  ]\n",
      " [ 0.    0.    0.    0.   -0.  ]\n",
      " [ 0.    1.   -0.    0.    0.8 ]\n",
      " [ 0.   -0.    0.    0.   -0.  ]\n",
      " [ 0.    0.    0.    0.    0.  ]]\n",
      "[[ 0.    -1.    -0.     0.655  0.   ]\n",
      " [ 0.     0.     0.     0.    -0.   ]\n",
      " [ 0.     1.    -0.     0.     0.7  ]\n",
      " [ 0.    -0.     0.     0.    -0.   ]\n",
      " [ 0.     0.     0.     0.     0.   ]]\n",
      "[[ 0.         -1.         -0.          0.6         0.        ]\n",
      " [ 0.          0.          0.          0.         -0.        ]\n",
      " [ 0.          1.         -0.          0.          0.62679492]\n",
      " [ 0.         -0.          0.          0.         -0.        ]\n",
      " [ 0.          0.          0.          0.          0.        ]]\n",
      "[[ 0.    -1.    -0.     0.555  0.   ]\n",
      " [ 0.     0.     0.     0.    -0.   ]\n",
      " [ 0.     1.    -0.     0.     0.6  ]\n",
      " [ 0.    -0.     0.     0.    -0.   ]\n",
      " [ 0.     0.     0.     0.     0.   ]]\n",
      "[[ 0.         -1.         -0.          0.52        0.        ]\n",
      " [ 0.          0.          0.          0.         -0.        ]\n",
      " [ 0.          1.         -0.          0.          0.62679492]\n",
      " [ 0.         -0.          0.          0.         -0.        ]\n",
      " [ 0.          0.          0.          0.          0.        ]]\n",
      "[[ 0.    -1.    -0.     0.495  0.   ]\n",
      " [ 0.     0.     0.     0.    -0.   ]\n",
      " [ 0.     1.    -0.     0.     0.7  ]\n",
      " [ 0.    -0.     0.     0.    -0.   ]\n",
      " [ 0.     0.     0.     0.     0.   ]]\n",
      "[[ 0.   -1.   -0.    0.48  0.  ]\n",
      " [ 0.    0.    0.    0.   -0.  ]\n",
      " [ 0.    1.   -0.    0.    0.8 ]\n",
      " [ 0.   -0.    0.    0.   -0.  ]\n",
      " [ 0.    0.    0.    0.    0.  ]]\n",
      "(300, 35, 1)\n",
      "Best ELBO Loss : 0.000423483812279168\n",
      "Best NLL Loss : 1.3562976884883947e-06\n",
      "Best MSE Loss : 7.750272505647969e-08\n",
      "6\n",
      "[[ 0.         -1.         -0.          0.88        0.        ]\n",
      " [ 0.          0.          0.          0.         -0.        ]\n",
      " [ 0.          1.         -0.          0.          0.97320508]\n",
      " [ 0.         -0.          0.          0.         -0.        ]\n",
      " [ 0.          0.          0.          0.          0.        ]]\n",
      "[[ 0.    -1.    -0.     0.795  0.   ]\n",
      " [ 0.     0.     0.     0.    -0.   ]\n",
      " [ 0.     1.    -0.     0.     0.9  ]\n",
      " [ 0.    -0.     0.     0.    -0.   ]\n",
      " [ 0.     0.     0.     0.     0.   ]]\n",
      "[[ 0.   -1.   -0.    0.72  0.  ]\n",
      " [ 0.    0.    0.    0.   -0.  ]\n",
      " [ 0.    1.   -0.    0.    0.8 ]\n",
      " [ 0.   -0.    0.    0.   -0.  ]\n",
      " [ 0.    0.    0.    0.    0.  ]]\n",
      "[[ 0.    -1.    -0.     0.655  0.   ]\n",
      " [ 0.     0.     0.     0.    -0.   ]\n",
      " [ 0.     1.    -0.     0.     0.7  ]\n",
      " [ 0.    -0.     0.     0.    -0.   ]\n",
      " [ 0.     0.     0.     0.     0.   ]]\n",
      "[[ 0.         -1.         -0.          0.6         0.        ]\n",
      " [ 0.          0.          0.          0.         -0.        ]\n",
      " [ 0.          1.         -0.          0.          0.62679492]\n",
      " [ 0.         -0.          0.          0.         -0.        ]\n",
      " [ 0.          0.          0.          0.          0.        ]]\n",
      "[[ 0.    -1.    -0.     0.555  0.   ]\n",
      " [ 0.     0.     0.     0.    -0.   ]\n",
      " [ 0.     1.    -0.     0.     0.6  ]\n",
      " [ 0.    -0.     0.     0.    -0.   ]\n",
      " [ 0.     0.     0.     0.     0.   ]]\n",
      "[[ 0.         -1.         -0.          0.52        0.        ]\n",
      " [ 0.          0.          0.          0.         -0.        ]\n",
      " [ 0.          1.         -0.          0.          0.62679492]\n",
      " [ 0.         -0.          0.          0.         -0.        ]\n",
      " [ 0.          0.          0.          0.          0.        ]]\n",
      "[[ 0.    -1.    -0.     0.495  0.   ]\n",
      " [ 0.     0.     0.     0.    -0.   ]\n",
      " [ 0.     1.    -0.     0.     0.7  ]\n",
      " [ 0.    -0.     0.     0.    -0.   ]\n",
      " [ 0.     0.     0.     0.     0.   ]]\n",
      "[[ 0.   -1.   -0.    0.48  0.  ]\n",
      " [ 0.    0.    0.    0.   -0.  ]\n",
      " [ 0.    1.   -0.    0.    0.8 ]\n",
      " [ 0.   -0.    0.    0.   -0.  ]\n",
      " [ 0.    0.    0.    0.    0.  ]]\n",
      "(300, 35, 1)\n",
      "Best ELBO Loss : 0.000450748783785093\n",
      "Best NLL Loss : 6.472827448820665e-07\n",
      "Best MSE Loss : 3.6987585421832344e-08\n",
      "7\n",
      "[[ 0.         -1.         -0.          0.88        0.        ]\n",
      " [ 0.          0.          0.          0.         -0.        ]\n",
      " [ 0.          1.         -0.          0.          0.97320508]\n",
      " [ 0.         -0.          0.          0.         -0.        ]\n",
      " [ 0.          0.          0.          0.          0.        ]]\n",
      "[[ 0.    -1.    -0.     0.795  0.   ]\n",
      " [ 0.     0.     0.     0.    -0.   ]\n",
      " [ 0.     1.    -0.     0.     0.9  ]\n",
      " [ 0.    -0.     0.     0.    -0.   ]\n",
      " [ 0.     0.     0.     0.     0.   ]]\n",
      "[[ 0.   -1.   -0.    0.72  0.  ]\n",
      " [ 0.    0.    0.    0.   -0.  ]\n",
      " [ 0.    1.   -0.    0.    0.8 ]\n",
      " [ 0.   -0.    0.    0.   -0.  ]\n",
      " [ 0.    0.    0.    0.    0.  ]]\n",
      "[[ 0.    -1.    -0.     0.655  0.   ]\n",
      " [ 0.     0.     0.     0.    -0.   ]\n",
      " [ 0.     1.    -0.     0.     0.7  ]\n",
      " [ 0.    -0.     0.     0.    -0.   ]\n",
      " [ 0.     0.     0.     0.     0.   ]]\n",
      "[[ 0.         -1.         -0.          0.6         0.        ]\n",
      " [ 0.          0.          0.          0.         -0.        ]\n",
      " [ 0.          1.         -0.          0.          0.62679492]\n",
      " [ 0.         -0.          0.          0.         -0.        ]\n",
      " [ 0.          0.          0.          0.          0.        ]]\n",
      "[[ 0.    -1.    -0.     0.555  0.   ]\n",
      " [ 0.     0.     0.     0.    -0.   ]\n",
      " [ 0.     1.    -0.     0.     0.6  ]\n",
      " [ 0.    -0.     0.     0.    -0.   ]\n",
      " [ 0.     0.     0.     0.     0.   ]]\n",
      "[[ 0.         -1.         -0.          0.52        0.        ]\n",
      " [ 0.          0.          0.          0.         -0.        ]\n",
      " [ 0.          1.         -0.          0.          0.62679492]\n",
      " [ 0.         -0.          0.          0.         -0.        ]\n",
      " [ 0.          0.          0.          0.          0.        ]]\n",
      "[[ 0.    -1.    -0.     0.495  0.   ]\n",
      " [ 0.     0.     0.     0.    -0.   ]\n",
      " [ 0.     1.    -0.     0.     0.7  ]\n",
      " [ 0.    -0.     0.     0.    -0.   ]\n",
      " [ 0.     0.     0.     0.     0.   ]]\n",
      "[[ 0.   -1.   -0.    0.48  0.  ]\n",
      " [ 0.    0.    0.    0.   -0.  ]\n",
      " [ 0.    1.   -0.    0.    0.8 ]\n",
      " [ 0.   -0.    0.    0.   -0.  ]\n",
      " [ 0.    0.    0.    0.    0.  ]]\n",
      "(300, 35, 1)\n"
     ]
    },
    {
     "name": "stdout",
     "output_type": "stream",
     "text": [
      "Best ELBO Loss : 0.00045349797897385584\n",
      "Best NLL Loss : 2.2263643431775164e-06\n",
      "Best MSE Loss : 1.272208196101438e-07\n",
      "8\n",
      "[[ 0.         -1.         -0.          0.88        0.        ]\n",
      " [ 0.          0.          0.          0.         -0.        ]\n",
      " [ 0.          1.         -0.          0.          0.97320508]\n",
      " [ 0.         -0.          0.          0.         -0.        ]\n",
      " [ 0.          0.          0.          0.          0.        ]]\n",
      "[[ 0.    -1.    -0.     0.795  0.   ]\n",
      " [ 0.     0.     0.     0.    -0.   ]\n",
      " [ 0.     1.    -0.     0.     0.9  ]\n",
      " [ 0.    -0.     0.     0.    -0.   ]\n",
      " [ 0.     0.     0.     0.     0.   ]]\n",
      "[[ 0.   -1.   -0.    0.72  0.  ]\n",
      " [ 0.    0.    0.    0.   -0.  ]\n",
      " [ 0.    1.   -0.    0.    0.8 ]\n",
      " [ 0.   -0.    0.    0.   -0.  ]\n",
      " [ 0.    0.    0.    0.    0.  ]]\n",
      "[[ 0.    -1.    -0.     0.655  0.   ]\n",
      " [ 0.     0.     0.     0.    -0.   ]\n",
      " [ 0.     1.    -0.     0.     0.7  ]\n",
      " [ 0.    -0.     0.     0.    -0.   ]\n",
      " [ 0.     0.     0.     0.     0.   ]]\n",
      "[[ 0.         -1.         -0.          0.6         0.        ]\n",
      " [ 0.          0.          0.          0.         -0.        ]\n",
      " [ 0.          1.         -0.          0.          0.62679492]\n",
      " [ 0.         -0.          0.          0.         -0.        ]\n",
      " [ 0.          0.          0.          0.          0.        ]]\n",
      "[[ 0.    -1.    -0.     0.555  0.   ]\n",
      " [ 0.     0.     0.     0.    -0.   ]\n",
      " [ 0.     1.    -0.     0.     0.6  ]\n",
      " [ 0.    -0.     0.     0.    -0.   ]\n",
      " [ 0.     0.     0.     0.     0.   ]]\n",
      "[[ 0.         -1.         -0.          0.52        0.        ]\n",
      " [ 0.          0.          0.          0.         -0.        ]\n",
      " [ 0.          1.         -0.          0.          0.62679492]\n",
      " [ 0.         -0.          0.          0.         -0.        ]\n",
      " [ 0.          0.          0.          0.          0.        ]]\n",
      "[[ 0.    -1.    -0.     0.495  0.   ]\n",
      " [ 0.     0.     0.     0.    -0.   ]\n",
      " [ 0.     1.    -0.     0.     0.7  ]\n",
      " [ 0.    -0.     0.     0.    -0.   ]\n",
      " [ 0.     0.     0.     0.     0.   ]]\n",
      "[[ 0.   -1.   -0.    0.48  0.  ]\n",
      " [ 0.    0.    0.    0.   -0.  ]\n",
      " [ 0.    1.   -0.    0.    0.8 ]\n",
      " [ 0.   -0.    0.    0.   -0.  ]\n",
      " [ 0.    0.    0.    0.    0.  ]]\n",
      "(300, 35, 1)\n",
      "Best ELBO Loss : 0.0004940221097077408\n",
      "Best NLL Loss : 2.9620385464846045e-06\n",
      "Best MSE Loss : 1.6925934551340594e-07\n",
      "9\n",
      "[[ 0.         -1.         -0.          0.88        0.        ]\n",
      " [ 0.          0.          0.          0.         -0.        ]\n",
      " [ 0.          1.         -0.          0.          0.97320508]\n",
      " [ 0.         -0.          0.          0.         -0.        ]\n",
      " [ 0.          0.          0.          0.          0.        ]]\n",
      "[[ 0.    -1.    -0.     0.795  0.   ]\n",
      " [ 0.     0.     0.     0.    -0.   ]\n",
      " [ 0.     1.    -0.     0.     0.9  ]\n",
      " [ 0.    -0.     0.     0.    -0.   ]\n",
      " [ 0.     0.     0.     0.     0.   ]]\n",
      "[[ 0.   -1.   -0.    0.72  0.  ]\n",
      " [ 0.    0.    0.    0.   -0.  ]\n",
      " [ 0.    1.   -0.    0.    0.8 ]\n",
      " [ 0.   -0.    0.    0.   -0.  ]\n",
      " [ 0.    0.    0.    0.    0.  ]]\n",
      "[[ 0.    -1.    -0.     0.655  0.   ]\n",
      " [ 0.     0.     0.     0.    -0.   ]\n",
      " [ 0.     1.    -0.     0.     0.7  ]\n",
      " [ 0.    -0.     0.     0.    -0.   ]\n",
      " [ 0.     0.     0.     0.     0.   ]]\n",
      "[[ 0.         -1.         -0.          0.6         0.        ]\n",
      " [ 0.          0.          0.          0.         -0.        ]\n",
      " [ 0.          1.         -0.          0.          0.62679492]\n",
      " [ 0.         -0.          0.          0.         -0.        ]\n",
      " [ 0.          0.          0.          0.          0.        ]]\n",
      "[[ 0.    -1.    -0.     0.555  0.   ]\n",
      " [ 0.     0.     0.     0.    -0.   ]\n",
      " [ 0.     1.    -0.     0.     0.6  ]\n",
      " [ 0.    -0.     0.     0.    -0.   ]\n",
      " [ 0.     0.     0.     0.     0.   ]]\n",
      "[[ 0.         -1.         -0.          0.52        0.        ]\n",
      " [ 0.          0.          0.          0.         -0.        ]\n",
      " [ 0.          1.         -0.          0.          0.62679492]\n",
      " [ 0.         -0.          0.          0.         -0.        ]\n",
      " [ 0.          0.          0.          0.          0.        ]]\n",
      "[[ 0.    -1.    -0.     0.495  0.   ]\n",
      " [ 0.     0.     0.     0.    -0.   ]\n",
      " [ 0.     1.    -0.     0.     0.7  ]\n",
      " [ 0.    -0.     0.     0.    -0.   ]\n",
      " [ 0.     0.     0.     0.     0.   ]]\n",
      "[[ 0.   -1.   -0.    0.48  0.  ]\n",
      " [ 0.    0.    0.    0.   -0.  ]\n",
      " [ 0.    1.   -0.    0.    0.8 ]\n",
      " [ 0.   -0.    0.    0.   -0.  ]\n",
      " [ 0.    0.    0.    0.    0.  ]]\n",
      "(300, 35, 1)\n",
      "Best ELBO Loss : 0.0004687555275151463\n",
      "Best NLL Loss : 7.468535450681817e-06\n",
      "Best MSE Loss : 4.2677345432467534e-07\n",
      "10\n",
      "[[ 0.         -1.         -0.          0.88        0.        ]\n",
      " [ 0.          0.          0.          0.         -0.        ]\n",
      " [ 0.          1.         -0.          0.          0.97320508]\n",
      " [ 0.         -0.          0.          0.         -0.        ]\n",
      " [ 0.          0.          0.          0.          0.        ]]\n",
      "[[ 0.    -1.    -0.     0.795  0.   ]\n",
      " [ 0.     0.     0.     0.    -0.   ]\n",
      " [ 0.     1.    -0.     0.     0.9  ]\n",
      " [ 0.    -0.     0.     0.    -0.   ]\n",
      " [ 0.     0.     0.     0.     0.   ]]\n",
      "[[ 0.   -1.   -0.    0.72  0.  ]\n",
      " [ 0.    0.    0.    0.   -0.  ]\n",
      " [ 0.    1.   -0.    0.    0.8 ]\n",
      " [ 0.   -0.    0.    0.   -0.  ]\n",
      " [ 0.    0.    0.    0.    0.  ]]\n",
      "[[ 0.    -1.    -0.     0.655  0.   ]\n",
      " [ 0.     0.     0.     0.    -0.   ]\n",
      " [ 0.     1.    -0.     0.     0.7  ]\n",
      " [ 0.    -0.     0.     0.    -0.   ]\n",
      " [ 0.     0.     0.     0.     0.   ]]\n",
      "[[ 0.         -1.         -0.          0.6         0.        ]\n",
      " [ 0.          0.          0.          0.         -0.        ]\n",
      " [ 0.          1.         -0.          0.          0.62679492]\n",
      " [ 0.         -0.          0.          0.         -0.        ]\n",
      " [ 0.          0.          0.          0.          0.        ]]\n",
      "[[ 0.    -1.    -0.     0.555  0.   ]\n",
      " [ 0.     0.     0.     0.    -0.   ]\n",
      " [ 0.     1.    -0.     0.     0.6  ]\n",
      " [ 0.    -0.     0.     0.    -0.   ]\n",
      " [ 0.     0.     0.     0.     0.   ]]\n",
      "[[ 0.         -1.         -0.          0.52        0.        ]\n",
      " [ 0.          0.          0.          0.         -0.        ]\n",
      " [ 0.          1.         -0.          0.          0.62679492]\n",
      " [ 0.         -0.          0.          0.         -0.        ]\n",
      " [ 0.          0.          0.          0.          0.        ]]\n",
      "[[ 0.    -1.    -0.     0.495  0.   ]\n",
      " [ 0.     0.     0.     0.    -0.   ]\n",
      " [ 0.     1.    -0.     0.     0.7  ]\n",
      " [ 0.    -0.     0.     0.    -0.   ]\n",
      " [ 0.     0.     0.     0.     0.   ]]\n",
      "[[ 0.   -1.   -0.    0.48  0.  ]\n",
      " [ 0.    0.    0.    0.   -0.  ]\n",
      " [ 0.    1.   -0.    0.    0.8 ]\n",
      " [ 0.   -0.    0.    0.   -0.  ]\n",
      " [ 0.    0.    0.    0.    0.  ]]\n",
      "(300, 35, 1)\n",
      "Best ELBO Loss : 0.0005697567105991898\n",
      "Best NLL Loss : 6.473000208470819e-06\n",
      "Best MSE Loss : 3.698857261983326e-07\n",
      "11\n",
      "[[ 0.         -1.         -0.          0.88        0.        ]\n",
      " [ 0.          0.          0.          0.         -0.        ]\n",
      " [ 0.          1.         -0.          0.          0.97320508]\n",
      " [ 0.         -0.          0.          0.         -0.        ]\n",
      " [ 0.          0.          0.          0.          0.        ]]\n",
      "[[ 0.    -1.    -0.     0.795  0.   ]\n",
      " [ 0.     0.     0.     0.    -0.   ]\n",
      " [ 0.     1.    -0.     0.     0.9  ]\n",
      " [ 0.    -0.     0.     0.    -0.   ]\n",
      " [ 0.     0.     0.     0.     0.   ]]\n",
      "[[ 0.   -1.   -0.    0.72  0.  ]\n",
      " [ 0.    0.    0.    0.   -0.  ]\n",
      " [ 0.    1.   -0.    0.    0.8 ]\n",
      " [ 0.   -0.    0.    0.   -0.  ]\n",
      " [ 0.    0.    0.    0.    0.  ]]\n",
      "[[ 0.    -1.    -0.     0.655  0.   ]\n",
      " [ 0.     0.     0.     0.    -0.   ]\n",
      " [ 0.     1.    -0.     0.     0.7  ]\n",
      " [ 0.    -0.     0.     0.    -0.   ]\n",
      " [ 0.     0.     0.     0.     0.   ]]\n",
      "[[ 0.         -1.         -0.          0.6         0.        ]\n",
      " [ 0.          0.          0.          0.         -0.        ]\n",
      " [ 0.          1.         -0.          0.          0.62679492]\n",
      " [ 0.         -0.          0.          0.         -0.        ]\n",
      " [ 0.          0.          0.          0.          0.        ]]\n",
      "[[ 0.    -1.    -0.     0.555  0.   ]\n",
      " [ 0.     0.     0.     0.    -0.   ]\n",
      " [ 0.     1.    -0.     0.     0.6  ]\n",
      " [ 0.    -0.     0.     0.    -0.   ]\n",
      " [ 0.     0.     0.     0.     0.   ]]\n",
      "[[ 0.         -1.         -0.          0.52        0.        ]\n",
      " [ 0.          0.          0.          0.         -0.        ]\n",
      " [ 0.          1.         -0.          0.          0.62679492]\n",
      " [ 0.         -0.          0.          0.         -0.        ]\n",
      " [ 0.          0.          0.          0.          0.        ]]\n",
      "[[ 0.    -1.    -0.     0.495  0.   ]\n",
      " [ 0.     0.     0.     0.    -0.   ]\n",
      " [ 0.     1.    -0.     0.     0.7  ]\n",
      " [ 0.    -0.     0.     0.    -0.   ]\n",
      " [ 0.     0.     0.     0.     0.   ]]\n",
      "[[ 0.   -1.   -0.    0.48  0.  ]\n",
      " [ 0.    0.    0.    0.   -0.  ]\n",
      " [ 0.    1.   -0.    0.    0.8 ]\n",
      " [ 0.   -0.    0.    0.   -0.  ]\n",
      " [ 0.    0.    0.    0.    0.  ]]\n",
      "(300, 35, 1)\n"
     ]
    },
    {
     "name": "stdout",
     "output_type": "stream",
     "text": [
      "Best ELBO Loss : 0.0007178084396707768\n",
      "Best NLL Loss : 2.8424286998659217e-05\n",
      "Best MSE Loss : 1.6242449713519556e-06\n",
      "12\n",
      "[[ 0.         -1.         -0.          0.88        0.        ]\n",
      " [ 0.          0.          0.          0.         -0.        ]\n",
      " [ 0.          1.         -0.          0.          0.97320508]\n",
      " [ 0.         -0.          0.          0.         -0.        ]\n",
      " [ 0.          0.          0.          0.          0.        ]]\n",
      "[[ 0.    -1.    -0.     0.795  0.   ]\n",
      " [ 0.     0.     0.     0.    -0.   ]\n",
      " [ 0.     1.    -0.     0.     0.9  ]\n",
      " [ 0.    -0.     0.     0.    -0.   ]\n",
      " [ 0.     0.     0.     0.     0.   ]]\n",
      "[[ 0.   -1.   -0.    0.72  0.  ]\n",
      " [ 0.    0.    0.    0.   -0.  ]\n",
      " [ 0.    1.   -0.    0.    0.8 ]\n",
      " [ 0.   -0.    0.    0.   -0.  ]\n",
      " [ 0.    0.    0.    0.    0.  ]]\n",
      "[[ 0.    -1.    -0.     0.655  0.   ]\n",
      " [ 0.     0.     0.     0.    -0.   ]\n",
      " [ 0.     1.    -0.     0.     0.7  ]\n",
      " [ 0.    -0.     0.     0.    -0.   ]\n",
      " [ 0.     0.     0.     0.     0.   ]]\n",
      "[[ 0.         -1.         -0.          0.6         0.        ]\n",
      " [ 0.          0.          0.          0.         -0.        ]\n",
      " [ 0.          1.         -0.          0.          0.62679492]\n",
      " [ 0.         -0.          0.          0.         -0.        ]\n",
      " [ 0.          0.          0.          0.          0.        ]]\n",
      "[[ 0.    -1.    -0.     0.555  0.   ]\n",
      " [ 0.     0.     0.     0.    -0.   ]\n",
      " [ 0.     1.    -0.     0.     0.6  ]\n",
      " [ 0.    -0.     0.     0.    -0.   ]\n",
      " [ 0.     0.     0.     0.     0.   ]]\n",
      "[[ 0.         -1.         -0.          0.52        0.        ]\n",
      " [ 0.          0.          0.          0.         -0.        ]\n",
      " [ 0.          1.         -0.          0.          0.62679492]\n",
      " [ 0.         -0.          0.          0.         -0.        ]\n",
      " [ 0.          0.          0.          0.          0.        ]]\n",
      "[[ 0.    -1.    -0.     0.495  0.   ]\n",
      " [ 0.     0.     0.     0.    -0.   ]\n",
      " [ 0.     1.    -0.     0.     0.7  ]\n",
      " [ 0.    -0.     0.     0.    -0.   ]\n",
      " [ 0.     0.     0.     0.     0.   ]]\n",
      "[[ 0.   -1.   -0.    0.48  0.  ]\n",
      " [ 0.    0.    0.    0.   -0.  ]\n",
      " [ 0.    1.   -0.    0.    0.8 ]\n",
      " [ 0.   -0.    0.    0.   -0.  ]\n",
      " [ 0.    0.    0.    0.    0.  ]]\n",
      "(300, 35, 1)\n",
      "Best ELBO Loss : 0.0007125373620630662\n",
      "Best NLL Loss : 1.1181718274907825e-05\n",
      "Best MSE Loss : 6.389553299947331e-07\n",
      "13\n",
      "[[ 0.         -1.         -0.          0.88        0.        ]\n",
      " [ 0.          0.          0.          0.         -0.        ]\n",
      " [ 0.          1.         -0.          0.          0.97320508]\n",
      " [ 0.         -0.          0.          0.         -0.        ]\n",
      " [ 0.          0.          0.          0.          0.        ]]\n",
      "[[ 0.    -1.    -0.     0.795  0.   ]\n",
      " [ 0.     0.     0.     0.    -0.   ]\n",
      " [ 0.     1.    -0.     0.     0.9  ]\n",
      " [ 0.    -0.     0.     0.    -0.   ]\n",
      " [ 0.     0.     0.     0.     0.   ]]\n",
      "[[ 0.   -1.   -0.    0.72  0.  ]\n",
      " [ 0.    0.    0.    0.   -0.  ]\n",
      " [ 0.    1.   -0.    0.    0.8 ]\n",
      " [ 0.   -0.    0.    0.   -0.  ]\n",
      " [ 0.    0.    0.    0.    0.  ]]\n",
      "[[ 0.    -1.    -0.     0.655  0.   ]\n",
      " [ 0.     0.     0.     0.    -0.   ]\n",
      " [ 0.     1.    -0.     0.     0.7  ]\n",
      " [ 0.    -0.     0.     0.    -0.   ]\n",
      " [ 0.     0.     0.     0.     0.   ]]\n",
      "[[ 0.         -1.         -0.          0.6         0.        ]\n",
      " [ 0.          0.          0.          0.         -0.        ]\n",
      " [ 0.          1.         -0.          0.          0.62679492]\n",
      " [ 0.         -0.          0.          0.         -0.        ]\n",
      " [ 0.          0.          0.          0.          0.        ]]\n",
      "[[ 0.    -1.    -0.     0.555  0.   ]\n",
      " [ 0.     0.     0.     0.    -0.   ]\n",
      " [ 0.     1.    -0.     0.     0.6  ]\n",
      " [ 0.    -0.     0.     0.    -0.   ]\n",
      " [ 0.     0.     0.     0.     0.   ]]\n",
      "[[ 0.         -1.         -0.          0.52        0.        ]\n",
      " [ 0.          0.          0.          0.         -0.        ]\n",
      " [ 0.          1.         -0.          0.          0.62679492]\n",
      " [ 0.         -0.          0.          0.         -0.        ]\n",
      " [ 0.          0.          0.          0.          0.        ]]\n",
      "[[ 0.    -1.    -0.     0.495  0.   ]\n",
      " [ 0.     0.     0.     0.    -0.   ]\n",
      " [ 0.     1.    -0.     0.     0.7  ]\n",
      " [ 0.    -0.     0.     0.    -0.   ]\n",
      " [ 0.     0.     0.     0.     0.   ]]\n",
      "[[ 0.   -1.   -0.    0.48  0.  ]\n",
      " [ 0.    0.    0.    0.   -0.  ]\n",
      " [ 0.    1.   -0.    0.    0.8 ]\n",
      " [ 0.   -0.    0.    0.   -0.  ]\n",
      " [ 0.    0.    0.    0.    0.  ]]\n",
      "(300, 35, 1)\n",
      "Best ELBO Loss : 0.0004273114819440543\n",
      "Best NLL Loss : 1.0261537943357178e-06\n",
      "Best MSE Loss : 5.863735967632671e-08\n",
      "14\n",
      "[[ 0.         -1.         -0.          0.88        0.        ]\n",
      " [ 0.          0.          0.          0.         -0.        ]\n",
      " [ 0.          1.         -0.          0.          0.97320508]\n",
      " [ 0.         -0.          0.          0.         -0.        ]\n",
      " [ 0.          0.          0.          0.          0.        ]]\n",
      "[[ 0.    -1.    -0.     0.795  0.   ]\n",
      " [ 0.     0.     0.     0.    -0.   ]\n",
      " [ 0.     1.    -0.     0.     0.9  ]\n",
      " [ 0.    -0.     0.     0.    -0.   ]\n",
      " [ 0.     0.     0.     0.     0.   ]]\n",
      "[[ 0.   -1.   -0.    0.72  0.  ]\n",
      " [ 0.    0.    0.    0.   -0.  ]\n",
      " [ 0.    1.   -0.    0.    0.8 ]\n",
      " [ 0.   -0.    0.    0.   -0.  ]\n",
      " [ 0.    0.    0.    0.    0.  ]]\n",
      "[[ 0.    -1.    -0.     0.655  0.   ]\n",
      " [ 0.     0.     0.     0.    -0.   ]\n",
      " [ 0.     1.    -0.     0.     0.7  ]\n",
      " [ 0.    -0.     0.     0.    -0.   ]\n",
      " [ 0.     0.     0.     0.     0.   ]]\n",
      "[[ 0.         -1.         -0.          0.6         0.        ]\n",
      " [ 0.          0.          0.          0.         -0.        ]\n",
      " [ 0.          1.         -0.          0.          0.62679492]\n",
      " [ 0.         -0.          0.          0.         -0.        ]\n",
      " [ 0.          0.          0.          0.          0.        ]]\n",
      "[[ 0.    -1.    -0.     0.555  0.   ]\n",
      " [ 0.     0.     0.     0.    -0.   ]\n",
      " [ 0.     1.    -0.     0.     0.6  ]\n",
      " [ 0.    -0.     0.     0.    -0.   ]\n",
      " [ 0.     0.     0.     0.     0.   ]]\n",
      "[[ 0.         -1.         -0.          0.52        0.        ]\n",
      " [ 0.          0.          0.          0.         -0.        ]\n",
      " [ 0.          1.         -0.          0.          0.62679492]\n",
      " [ 0.         -0.          0.          0.         -0.        ]\n",
      " [ 0.          0.          0.          0.          0.        ]]\n",
      "[[ 0.    -1.    -0.     0.495  0.   ]\n",
      " [ 0.     0.     0.     0.    -0.   ]\n",
      " [ 0.     1.    -0.     0.     0.7  ]\n",
      " [ 0.    -0.     0.     0.    -0.   ]\n",
      " [ 0.     0.     0.     0.     0.   ]]\n",
      "[[ 0.   -1.   -0.    0.48  0.  ]\n",
      " [ 0.    0.    0.    0.   -0.  ]\n",
      " [ 0.    1.   -0.    0.    0.8 ]\n",
      " [ 0.   -0.    0.    0.   -0.  ]\n",
      " [ 0.    0.    0.    0.    0.  ]]\n",
      "(300, 35, 1)\n",
      "Best ELBO Loss : 0.0003892709681964119\n",
      "Best NLL Loss : 1.8113295469107926e-07\n",
      "Best MSE Loss : 1.0350454553775967e-08\n",
      "15\n",
      "[[ 0.         -1.         -0.          0.88        0.        ]\n",
      " [ 0.          0.          0.          0.         -0.        ]\n",
      " [ 0.          1.         -0.          0.          0.97320508]\n",
      " [ 0.         -0.          0.          0.         -0.        ]\n",
      " [ 0.          0.          0.          0.          0.        ]]\n",
      "[[ 0.    -1.    -0.     0.795  0.   ]\n",
      " [ 0.     0.     0.     0.    -0.   ]\n",
      " [ 0.     1.    -0.     0.     0.9  ]\n",
      " [ 0.    -0.     0.     0.    -0.   ]\n",
      " [ 0.     0.     0.     0.     0.   ]]\n",
      "[[ 0.   -1.   -0.    0.72  0.  ]\n",
      " [ 0.    0.    0.    0.   -0.  ]\n",
      " [ 0.    1.   -0.    0.    0.8 ]\n",
      " [ 0.   -0.    0.    0.   -0.  ]\n",
      " [ 0.    0.    0.    0.    0.  ]]\n",
      "[[ 0.    -1.    -0.     0.655  0.   ]\n",
      " [ 0.     0.     0.     0.    -0.   ]\n",
      " [ 0.     1.    -0.     0.     0.7  ]\n",
      " [ 0.    -0.     0.     0.    -0.   ]\n",
      " [ 0.     0.     0.     0.     0.   ]]\n",
      "[[ 0.         -1.         -0.          0.6         0.        ]\n",
      " [ 0.          0.          0.          0.         -0.        ]\n",
      " [ 0.          1.         -0.          0.          0.62679492]\n",
      " [ 0.         -0.          0.          0.         -0.        ]\n",
      " [ 0.          0.          0.          0.          0.        ]]\n",
      "[[ 0.    -1.    -0.     0.555  0.   ]\n",
      " [ 0.     0.     0.     0.    -0.   ]\n",
      " [ 0.     1.    -0.     0.     0.6  ]\n",
      " [ 0.    -0.     0.     0.    -0.   ]\n",
      " [ 0.     0.     0.     0.     0.   ]]\n",
      "[[ 0.         -1.         -0.          0.52        0.        ]\n",
      " [ 0.          0.          0.          0.         -0.        ]\n",
      " [ 0.          1.         -0.          0.          0.62679492]\n",
      " [ 0.         -0.          0.          0.         -0.        ]\n",
      " [ 0.          0.          0.          0.          0.        ]]\n",
      "[[ 0.    -1.    -0.     0.495  0.   ]\n",
      " [ 0.     0.     0.     0.    -0.   ]\n",
      " [ 0.     1.    -0.     0.     0.7  ]\n",
      " [ 0.    -0.     0.     0.    -0.   ]\n",
      " [ 0.     0.     0.     0.     0.   ]]\n",
      "[[ 0.   -1.   -0.    0.48  0.  ]\n",
      " [ 0.    0.    0.    0.   -0.  ]\n",
      " [ 0.    1.   -0.    0.    0.8 ]\n",
      " [ 0.   -0.    0.    0.   -0.  ]\n",
      " [ 0.    0.    0.    0.    0.  ]]\n",
      "(300, 35, 1)\n"
     ]
    },
    {
     "name": "stdout",
     "output_type": "stream",
     "text": [
      "Best ELBO Loss : 0.0007470046888813739\n",
      "Best NLL Loss : 2.400400593038276e-05\n",
      "Best MSE Loss : 1.3716574817361578e-06\n",
      "16\n",
      "[[ 0.         -1.         -0.          0.88        0.        ]\n",
      " [ 0.          0.          0.          0.         -0.        ]\n",
      " [ 0.          1.         -0.          0.          0.97320508]\n",
      " [ 0.         -0.          0.          0.         -0.        ]\n",
      " [ 0.          0.          0.          0.          0.        ]]\n",
      "[[ 0.    -1.    -0.     0.795  0.   ]\n",
      " [ 0.     0.     0.     0.    -0.   ]\n",
      " [ 0.     1.    -0.     0.     0.9  ]\n",
      " [ 0.    -0.     0.     0.    -0.   ]\n",
      " [ 0.     0.     0.     0.     0.   ]]\n",
      "[[ 0.   -1.   -0.    0.72  0.  ]\n",
      " [ 0.    0.    0.    0.   -0.  ]\n",
      " [ 0.    1.   -0.    0.    0.8 ]\n",
      " [ 0.   -0.    0.    0.   -0.  ]\n",
      " [ 0.    0.    0.    0.    0.  ]]\n",
      "[[ 0.    -1.    -0.     0.655  0.   ]\n",
      " [ 0.     0.     0.     0.    -0.   ]\n",
      " [ 0.     1.    -0.     0.     0.7  ]\n",
      " [ 0.    -0.     0.     0.    -0.   ]\n",
      " [ 0.     0.     0.     0.     0.   ]]\n",
      "[[ 0.         -1.         -0.          0.6         0.        ]\n",
      " [ 0.          0.          0.          0.         -0.        ]\n",
      " [ 0.          1.         -0.          0.          0.62679492]\n",
      " [ 0.         -0.          0.          0.         -0.        ]\n",
      " [ 0.          0.          0.          0.          0.        ]]\n",
      "[[ 0.    -1.    -0.     0.555  0.   ]\n",
      " [ 0.     0.     0.     0.    -0.   ]\n",
      " [ 0.     1.    -0.     0.     0.6  ]\n",
      " [ 0.    -0.     0.     0.    -0.   ]\n",
      " [ 0.     0.     0.     0.     0.   ]]\n",
      "[[ 0.         -1.         -0.          0.52        0.        ]\n",
      " [ 0.          0.          0.          0.         -0.        ]\n",
      " [ 0.          1.         -0.          0.          0.62679492]\n",
      " [ 0.         -0.          0.          0.         -0.        ]\n",
      " [ 0.          0.          0.          0.          0.        ]]\n",
      "[[ 0.    -1.    -0.     0.495  0.   ]\n",
      " [ 0.     0.     0.     0.    -0.   ]\n",
      " [ 0.     1.    -0.     0.     0.7  ]\n",
      " [ 0.    -0.     0.     0.    -0.   ]\n",
      " [ 0.     0.     0.     0.     0.   ]]\n",
      "[[ 0.   -1.   -0.    0.48  0.  ]\n",
      " [ 0.    0.    0.    0.   -0.  ]\n",
      " [ 0.    1.   -0.    0.    0.8 ]\n",
      " [ 0.   -0.    0.    0.   -0.  ]\n",
      " [ 0.    0.    0.    0.    0.  ]]\n",
      "(300, 35, 1)\n",
      "Best ELBO Loss : 0.00048360008125636274\n",
      "Best NLL Loss : 2.373844913565264e-06\n",
      "Best MSE Loss : 1.356482807751579e-07\n",
      "17\n",
      "[[ 0.         -1.         -0.          0.88        0.        ]\n",
      " [ 0.          0.          0.          0.         -0.        ]\n",
      " [ 0.          1.         -0.          0.          0.97320508]\n",
      " [ 0.         -0.          0.          0.         -0.        ]\n",
      " [ 0.          0.          0.          0.          0.        ]]\n",
      "[[ 0.    -1.    -0.     0.795  0.   ]\n",
      " [ 0.     0.     0.     0.    -0.   ]\n",
      " [ 0.     1.    -0.     0.     0.9  ]\n",
      " [ 0.    -0.     0.     0.    -0.   ]\n",
      " [ 0.     0.     0.     0.     0.   ]]\n",
      "[[ 0.   -1.   -0.    0.72  0.  ]\n",
      " [ 0.    0.    0.    0.   -0.  ]\n",
      " [ 0.    1.   -0.    0.    0.8 ]\n",
      " [ 0.   -0.    0.    0.   -0.  ]\n",
      " [ 0.    0.    0.    0.    0.  ]]\n",
      "[[ 0.    -1.    -0.     0.655  0.   ]\n",
      " [ 0.     0.     0.     0.    -0.   ]\n",
      " [ 0.     1.    -0.     0.     0.7  ]\n",
      " [ 0.    -0.     0.     0.    -0.   ]\n",
      " [ 0.     0.     0.     0.     0.   ]]\n",
      "[[ 0.         -1.         -0.          0.6         0.        ]\n",
      " [ 0.          0.          0.          0.         -0.        ]\n",
      " [ 0.          1.         -0.          0.          0.62679492]\n",
      " [ 0.         -0.          0.          0.         -0.        ]\n",
      " [ 0.          0.          0.          0.          0.        ]]\n",
      "[[ 0.    -1.    -0.     0.555  0.   ]\n",
      " [ 0.     0.     0.     0.    -0.   ]\n",
      " [ 0.     1.    -0.     0.     0.6  ]\n",
      " [ 0.    -0.     0.     0.    -0.   ]\n",
      " [ 0.     0.     0.     0.     0.   ]]\n",
      "[[ 0.         -1.         -0.          0.52        0.        ]\n",
      " [ 0.          0.          0.          0.         -0.        ]\n",
      " [ 0.          1.         -0.          0.          0.62679492]\n",
      " [ 0.         -0.          0.          0.         -0.        ]\n",
      " [ 0.          0.          0.          0.          0.        ]]\n",
      "[[ 0.    -1.    -0.     0.495  0.   ]\n",
      " [ 0.     0.     0.     0.    -0.   ]\n",
      " [ 0.     1.    -0.     0.     0.7  ]\n",
      " [ 0.    -0.     0.     0.    -0.   ]\n",
      " [ 0.     0.     0.     0.     0.   ]]\n",
      "[[ 0.   -1.   -0.    0.48  0.  ]\n",
      " [ 0.    0.    0.    0.   -0.  ]\n",
      " [ 0.    1.   -0.    0.    0.8 ]\n",
      " [ 0.   -0.    0.    0.   -0.  ]\n",
      " [ 0.    0.    0.    0.    0.  ]]\n",
      "(300, 35, 1)\n",
      "Best ELBO Loss : 0.0004639101675355009\n",
      "Best NLL Loss : 3.427719116097236e-06\n",
      "Best MSE Loss : 1.9586966377698493e-07\n",
      "18\n",
      "[[ 0.         -1.         -0.          0.88        0.        ]\n",
      " [ 0.          0.          0.          0.         -0.        ]\n",
      " [ 0.          1.         -0.          0.          0.97320508]\n",
      " [ 0.         -0.          0.          0.         -0.        ]\n",
      " [ 0.          0.          0.          0.          0.        ]]\n",
      "[[ 0.    -1.    -0.     0.795  0.   ]\n",
      " [ 0.     0.     0.     0.    -0.   ]\n",
      " [ 0.     1.    -0.     0.     0.9  ]\n",
      " [ 0.    -0.     0.     0.    -0.   ]\n",
      " [ 0.     0.     0.     0.     0.   ]]\n",
      "[[ 0.   -1.   -0.    0.72  0.  ]\n",
      " [ 0.    0.    0.    0.   -0.  ]\n",
      " [ 0.    1.   -0.    0.    0.8 ]\n",
      " [ 0.   -0.    0.    0.   -0.  ]\n",
      " [ 0.    0.    0.    0.    0.  ]]\n",
      "[[ 0.    -1.    -0.     0.655  0.   ]\n",
      " [ 0.     0.     0.     0.    -0.   ]\n",
      " [ 0.     1.    -0.     0.     0.7  ]\n",
      " [ 0.    -0.     0.     0.    -0.   ]\n",
      " [ 0.     0.     0.     0.     0.   ]]\n",
      "[[ 0.         -1.         -0.          0.6         0.        ]\n",
      " [ 0.          0.          0.          0.         -0.        ]\n",
      " [ 0.          1.         -0.          0.          0.62679492]\n",
      " [ 0.         -0.          0.          0.         -0.        ]\n",
      " [ 0.          0.          0.          0.          0.        ]]\n",
      "[[ 0.    -1.    -0.     0.555  0.   ]\n",
      " [ 0.     0.     0.     0.    -0.   ]\n",
      " [ 0.     1.    -0.     0.     0.6  ]\n",
      " [ 0.    -0.     0.     0.    -0.   ]\n",
      " [ 0.     0.     0.     0.     0.   ]]\n",
      "[[ 0.         -1.         -0.          0.52        0.        ]\n",
      " [ 0.          0.          0.          0.         -0.        ]\n",
      " [ 0.          1.         -0.          0.          0.62679492]\n",
      " [ 0.         -0.          0.          0.         -0.        ]\n",
      " [ 0.          0.          0.          0.          0.        ]]\n",
      "[[ 0.    -1.    -0.     0.495  0.   ]\n",
      " [ 0.     0.     0.     0.    -0.   ]\n",
      " [ 0.     1.    -0.     0.     0.7  ]\n",
      " [ 0.    -0.     0.     0.    -0.   ]\n",
      " [ 0.     0.     0.     0.     0.   ]]\n",
      "[[ 0.   -1.   -0.    0.48  0.  ]\n",
      " [ 0.    0.    0.    0.   -0.  ]\n",
      " [ 0.    1.   -0.    0.    0.8 ]\n",
      " [ 0.   -0.    0.    0.   -0.  ]\n",
      " [ 0.    0.    0.    0.    0.  ]]\n",
      "(300, 35, 1)\n",
      "Best ELBO Loss : 0.0007074035902300209\n",
      "Best NLL Loss : 1.0384300174179652e-05\n",
      "Best MSE Loss : 5.933885813816949e-07\n",
      "19\n",
      "[[ 0.         -1.         -0.          0.88        0.        ]\n",
      " [ 0.          0.          0.          0.         -0.        ]\n",
      " [ 0.          1.         -0.          0.          0.97320508]\n",
      " [ 0.         -0.          0.          0.         -0.        ]\n",
      " [ 0.          0.          0.          0.          0.        ]]\n",
      "[[ 0.    -1.    -0.     0.795  0.   ]\n",
      " [ 0.     0.     0.     0.    -0.   ]\n",
      " [ 0.     1.    -0.     0.     0.9  ]\n",
      " [ 0.    -0.     0.     0.    -0.   ]\n",
      " [ 0.     0.     0.     0.     0.   ]]\n",
      "[[ 0.   -1.   -0.    0.72  0.  ]\n",
      " [ 0.    0.    0.    0.   -0.  ]\n",
      " [ 0.    1.   -0.    0.    0.8 ]\n",
      " [ 0.   -0.    0.    0.   -0.  ]\n",
      " [ 0.    0.    0.    0.    0.  ]]\n",
      "[[ 0.    -1.    -0.     0.655  0.   ]\n",
      " [ 0.     0.     0.     0.    -0.   ]\n",
      " [ 0.     1.    -0.     0.     0.7  ]\n",
      " [ 0.    -0.     0.     0.    -0.   ]\n",
      " [ 0.     0.     0.     0.     0.   ]]\n",
      "[[ 0.         -1.         -0.          0.6         0.        ]\n",
      " [ 0.          0.          0.          0.         -0.        ]\n",
      " [ 0.          1.         -0.          0.          0.62679492]\n",
      " [ 0.         -0.          0.          0.         -0.        ]\n",
      " [ 0.          0.          0.          0.          0.        ]]\n",
      "[[ 0.    -1.    -0.     0.555  0.   ]\n",
      " [ 0.     0.     0.     0.    -0.   ]\n",
      " [ 0.     1.    -0.     0.     0.6  ]\n",
      " [ 0.    -0.     0.     0.    -0.   ]\n",
      " [ 0.     0.     0.     0.     0.   ]]\n",
      "[[ 0.         -1.         -0.          0.52        0.        ]\n",
      " [ 0.          0.          0.          0.         -0.        ]\n",
      " [ 0.          1.         -0.          0.          0.62679492]\n",
      " [ 0.         -0.          0.          0.         -0.        ]\n",
      " [ 0.          0.          0.          0.          0.        ]]\n",
      "[[ 0.    -1.    -0.     0.495  0.   ]\n",
      " [ 0.     0.     0.     0.    -0.   ]\n",
      " [ 0.     1.    -0.     0.     0.7  ]\n",
      " [ 0.    -0.     0.     0.    -0.   ]\n",
      " [ 0.     0.     0.     0.     0.   ]]\n",
      "[[ 0.   -1.   -0.    0.48  0.  ]\n",
      " [ 0.    0.    0.    0.   -0.  ]\n",
      " [ 0.    1.   -0.    0.    0.8 ]\n",
      " [ 0.   -0.    0.    0.   -0.  ]\n",
      " [ 0.    0.    0.    0.    0.  ]]\n",
      "(300, 35, 1)\n"
     ]
    },
    {
     "name": "stdout",
     "output_type": "stream",
     "text": [
      "Best ELBO Loss : 0.0005697077075571787\n",
      "Best NLL Loss : 5.260044159555958e-06\n",
      "Best MSE Loss : 3.0057395197462616e-07\n",
      "20\n",
      "[[ 0.         -1.         -0.          0.88        0.        ]\n",
      " [ 0.          0.          0.          0.         -0.        ]\n",
      " [ 0.          1.         -0.          0.          0.97320508]\n",
      " [ 0.         -0.          0.          0.         -0.        ]\n",
      " [ 0.          0.          0.          0.          0.        ]]\n",
      "[[ 0.    -1.    -0.     0.795  0.   ]\n",
      " [ 0.     0.     0.     0.    -0.   ]\n",
      " [ 0.     1.    -0.     0.     0.9  ]\n",
      " [ 0.    -0.     0.     0.    -0.   ]\n",
      " [ 0.     0.     0.     0.     0.   ]]\n",
      "[[ 0.   -1.   -0.    0.72  0.  ]\n",
      " [ 0.    0.    0.    0.   -0.  ]\n",
      " [ 0.    1.   -0.    0.    0.8 ]\n",
      " [ 0.   -0.    0.    0.   -0.  ]\n",
      " [ 0.    0.    0.    0.    0.  ]]\n",
      "[[ 0.    -1.    -0.     0.655  0.   ]\n",
      " [ 0.     0.     0.     0.    -0.   ]\n",
      " [ 0.     1.    -0.     0.     0.7  ]\n",
      " [ 0.    -0.     0.     0.    -0.   ]\n",
      " [ 0.     0.     0.     0.     0.   ]]\n",
      "[[ 0.         -1.         -0.          0.6         0.        ]\n",
      " [ 0.          0.          0.          0.         -0.        ]\n",
      " [ 0.          1.         -0.          0.          0.62679492]\n",
      " [ 0.         -0.          0.          0.         -0.        ]\n",
      " [ 0.          0.          0.          0.          0.        ]]\n",
      "[[ 0.    -1.    -0.     0.555  0.   ]\n",
      " [ 0.     0.     0.     0.    -0.   ]\n",
      " [ 0.     1.    -0.     0.     0.6  ]\n",
      " [ 0.    -0.     0.     0.    -0.   ]\n",
      " [ 0.     0.     0.     0.     0.   ]]\n",
      "[[ 0.         -1.         -0.          0.52        0.        ]\n",
      " [ 0.          0.          0.          0.         -0.        ]\n",
      " [ 0.          1.         -0.          0.          0.62679492]\n",
      " [ 0.         -0.          0.          0.         -0.        ]\n",
      " [ 0.          0.          0.          0.          0.        ]]\n",
      "[[ 0.    -1.    -0.     0.495  0.   ]\n",
      " [ 0.     0.     0.     0.    -0.   ]\n",
      " [ 0.     1.    -0.     0.     0.7  ]\n",
      " [ 0.    -0.     0.     0.    -0.   ]\n",
      " [ 0.     0.     0.     0.     0.   ]]\n",
      "[[ 0.   -1.   -0.    0.48  0.  ]\n",
      " [ 0.    0.    0.    0.   -0.  ]\n",
      " [ 0.    1.   -0.    0.    0.8 ]\n",
      " [ 0.   -0.    0.    0.   -0.  ]\n",
      " [ 0.    0.    0.    0.    0.  ]]\n",
      "(300, 35, 1)\n",
      "Best ELBO Loss : 0.00047267107886537265\n",
      "Best NLL Loss : 5.134825953737372e-07\n",
      "Best MSE Loss : 2.9341862592784985e-08\n",
      "21\n",
      "[[ 0.         -1.         -0.          0.88        0.        ]\n",
      " [ 0.          0.          0.          0.         -0.        ]\n",
      " [ 0.          1.         -0.          0.          0.97320508]\n",
      " [ 0.         -0.          0.          0.         -0.        ]\n",
      " [ 0.          0.          0.          0.          0.        ]]\n",
      "[[ 0.    -1.    -0.     0.795  0.   ]\n",
      " [ 0.     0.     0.     0.    -0.   ]\n",
      " [ 0.     1.    -0.     0.     0.9  ]\n",
      " [ 0.    -0.     0.     0.    -0.   ]\n",
      " [ 0.     0.     0.     0.     0.   ]]\n",
      "[[ 0.   -1.   -0.    0.72  0.  ]\n",
      " [ 0.    0.    0.    0.   -0.  ]\n",
      " [ 0.    1.   -0.    0.    0.8 ]\n",
      " [ 0.   -0.    0.    0.   -0.  ]\n",
      " [ 0.    0.    0.    0.    0.  ]]\n",
      "[[ 0.    -1.    -0.     0.655  0.   ]\n",
      " [ 0.     0.     0.     0.    -0.   ]\n",
      " [ 0.     1.    -0.     0.     0.7  ]\n",
      " [ 0.    -0.     0.     0.    -0.   ]\n",
      " [ 0.     0.     0.     0.     0.   ]]\n",
      "[[ 0.         -1.         -0.          0.6         0.        ]\n",
      " [ 0.          0.          0.          0.         -0.        ]\n",
      " [ 0.          1.         -0.          0.          0.62679492]\n",
      " [ 0.         -0.          0.          0.         -0.        ]\n",
      " [ 0.          0.          0.          0.          0.        ]]\n",
      "[[ 0.    -1.    -0.     0.555  0.   ]\n",
      " [ 0.     0.     0.     0.    -0.   ]\n",
      " [ 0.     1.    -0.     0.     0.6  ]\n",
      " [ 0.    -0.     0.     0.    -0.   ]\n",
      " [ 0.     0.     0.     0.     0.   ]]\n",
      "[[ 0.         -1.         -0.          0.52        0.        ]\n",
      " [ 0.          0.          0.          0.         -0.        ]\n",
      " [ 0.          1.         -0.          0.          0.62679492]\n",
      " [ 0.         -0.          0.          0.         -0.        ]\n",
      " [ 0.          0.          0.          0.          0.        ]]\n",
      "[[ 0.    -1.    -0.     0.495  0.   ]\n",
      " [ 0.     0.     0.     0.    -0.   ]\n",
      " [ 0.     1.    -0.     0.     0.7  ]\n",
      " [ 0.    -0.     0.     0.    -0.   ]\n",
      " [ 0.     0.     0.     0.     0.   ]]\n",
      "[[ 0.   -1.   -0.    0.48  0.  ]\n",
      " [ 0.    0.    0.    0.   -0.  ]\n",
      " [ 0.    1.   -0.    0.    0.8 ]\n",
      " [ 0.   -0.    0.    0.   -0.  ]\n",
      " [ 0.    0.    0.    0.    0.  ]]\n",
      "(300, 35, 1)\n",
      "Best ELBO Loss : 0.0004608258579519729\n",
      "Best NLL Loss : 2.0873685989042442e-07\n",
      "Best MSE Loss : 1.1927820565167118e-08\n",
      "22\n",
      "[[ 0.         -1.         -0.          0.88        0.        ]\n",
      " [ 0.          0.          0.          0.         -0.        ]\n",
      " [ 0.          1.         -0.          0.          0.97320508]\n",
      " [ 0.         -0.          0.          0.         -0.        ]\n",
      " [ 0.          0.          0.          0.          0.        ]]\n",
      "[[ 0.    -1.    -0.     0.795  0.   ]\n",
      " [ 0.     0.     0.     0.    -0.   ]\n",
      " [ 0.     1.    -0.     0.     0.9  ]\n",
      " [ 0.    -0.     0.     0.    -0.   ]\n",
      " [ 0.     0.     0.     0.     0.   ]]\n",
      "[[ 0.   -1.   -0.    0.72  0.  ]\n",
      " [ 0.    0.    0.    0.   -0.  ]\n",
      " [ 0.    1.   -0.    0.    0.8 ]\n",
      " [ 0.   -0.    0.    0.   -0.  ]\n",
      " [ 0.    0.    0.    0.    0.  ]]\n",
      "[[ 0.    -1.    -0.     0.655  0.   ]\n",
      " [ 0.     0.     0.     0.    -0.   ]\n",
      " [ 0.     1.    -0.     0.     0.7  ]\n",
      " [ 0.    -0.     0.     0.    -0.   ]\n",
      " [ 0.     0.     0.     0.     0.   ]]\n",
      "[[ 0.         -1.         -0.          0.6         0.        ]\n",
      " [ 0.          0.          0.          0.         -0.        ]\n",
      " [ 0.          1.         -0.          0.          0.62679492]\n",
      " [ 0.         -0.          0.          0.         -0.        ]\n",
      " [ 0.          0.          0.          0.          0.        ]]\n",
      "[[ 0.    -1.    -0.     0.555  0.   ]\n",
      " [ 0.     0.     0.     0.    -0.   ]\n",
      " [ 0.     1.    -0.     0.     0.6  ]\n",
      " [ 0.    -0.     0.     0.    -0.   ]\n",
      " [ 0.     0.     0.     0.     0.   ]]\n",
      "[[ 0.         -1.         -0.          0.52        0.        ]\n",
      " [ 0.          0.          0.          0.         -0.        ]\n",
      " [ 0.          1.         -0.          0.          0.62679492]\n",
      " [ 0.         -0.          0.          0.         -0.        ]\n",
      " [ 0.          0.          0.          0.          0.        ]]\n",
      "[[ 0.    -1.    -0.     0.495  0.   ]\n",
      " [ 0.     0.     0.     0.    -0.   ]\n",
      " [ 0.     1.    -0.     0.     0.7  ]\n",
      " [ 0.    -0.     0.     0.    -0.   ]\n",
      " [ 0.     0.     0.     0.     0.   ]]\n",
      "[[ 0.   -1.   -0.    0.48  0.  ]\n",
      " [ 0.    0.    0.    0.   -0.  ]\n",
      " [ 0.    1.   -0.    0.    0.8 ]\n",
      " [ 0.   -0.    0.    0.   -0.  ]\n",
      " [ 0.    0.    0.    0.    0.  ]]\n",
      "(300, 35, 1)\n",
      "Best ELBO Loss : 0.0006081390823406789\n",
      "Best NLL Loss : 2.1686335407081275e-05\n",
      "Best MSE Loss : 1.23921916611893e-06\n",
      "23\n",
      "[[ 0.         -1.         -0.          0.88        0.        ]\n",
      " [ 0.          0.          0.          0.         -0.        ]\n",
      " [ 0.          1.         -0.          0.          0.97320508]\n",
      " [ 0.         -0.          0.          0.         -0.        ]\n",
      " [ 0.          0.          0.          0.          0.        ]]\n",
      "[[ 0.    -1.    -0.     0.795  0.   ]\n",
      " [ 0.     0.     0.     0.    -0.   ]\n",
      " [ 0.     1.    -0.     0.     0.9  ]\n",
      " [ 0.    -0.     0.     0.    -0.   ]\n",
      " [ 0.     0.     0.     0.     0.   ]]\n",
      "[[ 0.   -1.   -0.    0.72  0.  ]\n",
      " [ 0.    0.    0.    0.   -0.  ]\n",
      " [ 0.    1.   -0.    0.    0.8 ]\n",
      " [ 0.   -0.    0.    0.   -0.  ]\n",
      " [ 0.    0.    0.    0.    0.  ]]\n",
      "[[ 0.    -1.    -0.     0.655  0.   ]\n",
      " [ 0.     0.     0.     0.    -0.   ]\n",
      " [ 0.     1.    -0.     0.     0.7  ]\n",
      " [ 0.    -0.     0.     0.    -0.   ]\n",
      " [ 0.     0.     0.     0.     0.   ]]\n",
      "[[ 0.         -1.         -0.          0.6         0.        ]\n",
      " [ 0.          0.          0.          0.         -0.        ]\n",
      " [ 0.          1.         -0.          0.          0.62679492]\n",
      " [ 0.         -0.          0.          0.         -0.        ]\n",
      " [ 0.          0.          0.          0.          0.        ]]\n",
      "[[ 0.    -1.    -0.     0.555  0.   ]\n",
      " [ 0.     0.     0.     0.    -0.   ]\n",
      " [ 0.     1.    -0.     0.     0.6  ]\n",
      " [ 0.    -0.     0.     0.    -0.   ]\n",
      " [ 0.     0.     0.     0.     0.   ]]\n",
      "[[ 0.         -1.         -0.          0.52        0.        ]\n",
      " [ 0.          0.          0.          0.         -0.        ]\n",
      " [ 0.          1.         -0.          0.          0.62679492]\n",
      " [ 0.         -0.          0.          0.         -0.        ]\n",
      " [ 0.          0.          0.          0.          0.        ]]\n",
      "[[ 0.    -1.    -0.     0.495  0.   ]\n",
      " [ 0.     0.     0.     0.    -0.   ]\n",
      " [ 0.     1.    -0.     0.     0.7  ]\n",
      " [ 0.    -0.     0.     0.    -0.   ]\n",
      " [ 0.     0.     0.     0.     0.   ]]\n",
      "[[ 0.   -1.   -0.    0.48  0.  ]\n",
      " [ 0.    0.    0.    0.   -0.  ]\n",
      " [ 0.    1.   -0.    0.    0.8 ]\n",
      " [ 0.   -0.    0.    0.   -0.  ]\n",
      " [ 0.    0.    0.    0.    0.  ]]\n",
      "(300, 35, 1)\n"
     ]
    },
    {
     "name": "stdout",
     "output_type": "stream",
     "text": [
      "Best ELBO Loss : 0.0005676777683500656\n",
      "Best NLL Loss : 3.2273471420171475e-06\n",
      "Best MSE Loss : 1.8441983668669413e-07\n",
      "24\n",
      "[[ 0.         -1.         -0.          0.88        0.        ]\n",
      " [ 0.          0.          0.          0.         -0.        ]\n",
      " [ 0.          1.         -0.          0.          0.97320508]\n",
      " [ 0.         -0.          0.          0.         -0.        ]\n",
      " [ 0.          0.          0.          0.          0.        ]]\n",
      "[[ 0.    -1.    -0.     0.795  0.   ]\n",
      " [ 0.     0.     0.     0.    -0.   ]\n",
      " [ 0.     1.    -0.     0.     0.9  ]\n",
      " [ 0.    -0.     0.     0.    -0.   ]\n",
      " [ 0.     0.     0.     0.     0.   ]]\n",
      "[[ 0.   -1.   -0.    0.72  0.  ]\n",
      " [ 0.    0.    0.    0.   -0.  ]\n",
      " [ 0.    1.   -0.    0.    0.8 ]\n",
      " [ 0.   -0.    0.    0.   -0.  ]\n",
      " [ 0.    0.    0.    0.    0.  ]]\n",
      "[[ 0.    -1.    -0.     0.655  0.   ]\n",
      " [ 0.     0.     0.     0.    -0.   ]\n",
      " [ 0.     1.    -0.     0.     0.7  ]\n",
      " [ 0.    -0.     0.     0.    -0.   ]\n",
      " [ 0.     0.     0.     0.     0.   ]]\n",
      "[[ 0.         -1.         -0.          0.6         0.        ]\n",
      " [ 0.          0.          0.          0.         -0.        ]\n",
      " [ 0.          1.         -0.          0.          0.62679492]\n",
      " [ 0.         -0.          0.          0.         -0.        ]\n",
      " [ 0.          0.          0.          0.          0.        ]]\n",
      "[[ 0.    -1.    -0.     0.555  0.   ]\n",
      " [ 0.     0.     0.     0.    -0.   ]\n",
      " [ 0.     1.    -0.     0.     0.6  ]\n",
      " [ 0.    -0.     0.     0.    -0.   ]\n",
      " [ 0.     0.     0.     0.     0.   ]]\n",
      "[[ 0.         -1.         -0.          0.52        0.        ]\n",
      " [ 0.          0.          0.          0.         -0.        ]\n",
      " [ 0.          1.         -0.          0.          0.62679492]\n",
      " [ 0.         -0.          0.          0.         -0.        ]\n",
      " [ 0.          0.          0.          0.          0.        ]]\n",
      "[[ 0.    -1.    -0.     0.495  0.   ]\n",
      " [ 0.     0.     0.     0.    -0.   ]\n",
      " [ 0.     1.    -0.     0.     0.7  ]\n",
      " [ 0.    -0.     0.     0.    -0.   ]\n",
      " [ 0.     0.     0.     0.     0.   ]]\n",
      "[[ 0.   -1.   -0.    0.48  0.  ]\n",
      " [ 0.    0.    0.    0.   -0.  ]\n",
      " [ 0.    1.   -0.    0.    0.8 ]\n",
      " [ 0.   -0.    0.    0.   -0.  ]\n",
      " [ 0.    0.    0.    0.    0.  ]]\n",
      "(300, 35, 1)\n",
      "Best ELBO Loss : 0.0007648045921908191\n",
      "Best NLL Loss : 1.0186727387365552e-05\n",
      "Best MSE Loss : 5.820987078494599e-07\n",
      "25\n",
      "[[ 0.         -1.         -0.          0.88        0.        ]\n",
      " [ 0.          0.          0.          0.         -0.        ]\n",
      " [ 0.          1.         -0.          0.          0.97320508]\n",
      " [ 0.         -0.          0.          0.         -0.        ]\n",
      " [ 0.          0.          0.          0.          0.        ]]\n",
      "[[ 0.    -1.    -0.     0.795  0.   ]\n",
      " [ 0.     0.     0.     0.    -0.   ]\n",
      " [ 0.     1.    -0.     0.     0.9  ]\n",
      " [ 0.    -0.     0.     0.    -0.   ]\n",
      " [ 0.     0.     0.     0.     0.   ]]\n",
      "[[ 0.   -1.   -0.    0.72  0.  ]\n",
      " [ 0.    0.    0.    0.   -0.  ]\n",
      " [ 0.    1.   -0.    0.    0.8 ]\n",
      " [ 0.   -0.    0.    0.   -0.  ]\n",
      " [ 0.    0.    0.    0.    0.  ]]\n",
      "[[ 0.    -1.    -0.     0.655  0.   ]\n",
      " [ 0.     0.     0.     0.    -0.   ]\n",
      " [ 0.     1.    -0.     0.     0.7  ]\n",
      " [ 0.    -0.     0.     0.    -0.   ]\n",
      " [ 0.     0.     0.     0.     0.   ]]\n",
      "[[ 0.         -1.         -0.          0.6         0.        ]\n",
      " [ 0.          0.          0.          0.         -0.        ]\n",
      " [ 0.          1.         -0.          0.          0.62679492]\n",
      " [ 0.         -0.          0.          0.         -0.        ]\n",
      " [ 0.          0.          0.          0.          0.        ]]\n",
      "[[ 0.    -1.    -0.     0.555  0.   ]\n",
      " [ 0.     0.     0.     0.    -0.   ]\n",
      " [ 0.     1.    -0.     0.     0.6  ]\n",
      " [ 0.    -0.     0.     0.    -0.   ]\n",
      " [ 0.     0.     0.     0.     0.   ]]\n",
      "[[ 0.         -1.         -0.          0.52        0.        ]\n",
      " [ 0.          0.          0.          0.         -0.        ]\n",
      " [ 0.          1.         -0.          0.          0.62679492]\n",
      " [ 0.         -0.          0.          0.         -0.        ]\n",
      " [ 0.          0.          0.          0.          0.        ]]\n",
      "[[ 0.    -1.    -0.     0.495  0.   ]\n",
      " [ 0.     0.     0.     0.    -0.   ]\n",
      " [ 0.     1.    -0.     0.     0.7  ]\n",
      " [ 0.    -0.     0.     0.    -0.   ]\n",
      " [ 0.     0.     0.     0.     0.   ]]\n",
      "[[ 0.   -1.   -0.    0.48  0.  ]\n",
      " [ 0.    0.    0.    0.   -0.  ]\n",
      " [ 0.    1.   -0.    0.    0.8 ]\n",
      " [ 0.   -0.    0.    0.   -0.  ]\n",
      " [ 0.    0.    0.    0.    0.  ]]\n",
      "(300, 35, 1)\n",
      "Best ELBO Loss : 0.000562365096114381\n",
      "Best NLL Loss : 2.7191876924778396e-06\n",
      "Best MSE Loss : 1.5538215385587656e-07\n",
      "26\n",
      "[[ 0.         -1.         -0.          0.88        0.        ]\n",
      " [ 0.          0.          0.          0.         -0.        ]\n",
      " [ 0.          1.         -0.          0.          0.97320508]\n",
      " [ 0.         -0.          0.          0.         -0.        ]\n",
      " [ 0.          0.          0.          0.          0.        ]]\n",
      "[[ 0.    -1.    -0.     0.795  0.   ]\n",
      " [ 0.     0.     0.     0.    -0.   ]\n",
      " [ 0.     1.    -0.     0.     0.9  ]\n",
      " [ 0.    -0.     0.     0.    -0.   ]\n",
      " [ 0.     0.     0.     0.     0.   ]]\n",
      "[[ 0.   -1.   -0.    0.72  0.  ]\n",
      " [ 0.    0.    0.    0.   -0.  ]\n",
      " [ 0.    1.   -0.    0.    0.8 ]\n",
      " [ 0.   -0.    0.    0.   -0.  ]\n",
      " [ 0.    0.    0.    0.    0.  ]]\n",
      "[[ 0.    -1.    -0.     0.655  0.   ]\n",
      " [ 0.     0.     0.     0.    -0.   ]\n",
      " [ 0.     1.    -0.     0.     0.7  ]\n",
      " [ 0.    -0.     0.     0.    -0.   ]\n",
      " [ 0.     0.     0.     0.     0.   ]]\n",
      "[[ 0.         -1.         -0.          0.6         0.        ]\n",
      " [ 0.          0.          0.          0.         -0.        ]\n",
      " [ 0.          1.         -0.          0.          0.62679492]\n",
      " [ 0.         -0.          0.          0.         -0.        ]\n",
      " [ 0.          0.          0.          0.          0.        ]]\n",
      "[[ 0.    -1.    -0.     0.555  0.   ]\n",
      " [ 0.     0.     0.     0.    -0.   ]\n",
      " [ 0.     1.    -0.     0.     0.6  ]\n",
      " [ 0.    -0.     0.     0.    -0.   ]\n",
      " [ 0.     0.     0.     0.     0.   ]]\n",
      "[[ 0.         -1.         -0.          0.52        0.        ]\n",
      " [ 0.          0.          0.          0.         -0.        ]\n",
      " [ 0.          1.         -0.          0.          0.62679492]\n",
      " [ 0.         -0.          0.          0.         -0.        ]\n",
      " [ 0.          0.          0.          0.          0.        ]]\n",
      "[[ 0.    -1.    -0.     0.495  0.   ]\n",
      " [ 0.     0.     0.     0.    -0.   ]\n",
      " [ 0.     1.    -0.     0.     0.7  ]\n",
      " [ 0.    -0.     0.     0.    -0.   ]\n",
      " [ 0.     0.     0.     0.     0.   ]]\n",
      "[[ 0.   -1.   -0.    0.48  0.  ]\n",
      " [ 0.    0.    0.    0.   -0.  ]\n",
      " [ 0.    1.   -0.    0.    0.8 ]\n",
      " [ 0.   -0.    0.    0.   -0.  ]\n",
      " [ 0.    0.    0.    0.    0.  ]]\n",
      "(300, 35, 1)\n",
      "Best ELBO Loss : 0.0005113649098826295\n",
      "Best NLL Loss : 5.324672823762066e-07\n",
      "Best MSE Loss : 3.042670185006894e-08\n",
      "27\n",
      "[[ 0.         -1.         -0.          0.88        0.        ]\n",
      " [ 0.          0.          0.          0.         -0.        ]\n",
      " [ 0.          1.         -0.          0.          0.97320508]\n",
      " [ 0.         -0.          0.          0.         -0.        ]\n",
      " [ 0.          0.          0.          0.          0.        ]]\n",
      "[[ 0.    -1.    -0.     0.795  0.   ]\n",
      " [ 0.     0.     0.     0.    -0.   ]\n",
      " [ 0.     1.    -0.     0.     0.9  ]\n",
      " [ 0.    -0.     0.     0.    -0.   ]\n",
      " [ 0.     0.     0.     0.     0.   ]]\n",
      "[[ 0.   -1.   -0.    0.72  0.  ]\n",
      " [ 0.    0.    0.    0.   -0.  ]\n",
      " [ 0.    1.   -0.    0.    0.8 ]\n",
      " [ 0.   -0.    0.    0.   -0.  ]\n",
      " [ 0.    0.    0.    0.    0.  ]]\n",
      "[[ 0.    -1.    -0.     0.655  0.   ]\n",
      " [ 0.     0.     0.     0.    -0.   ]\n",
      " [ 0.     1.    -0.     0.     0.7  ]\n",
      " [ 0.    -0.     0.     0.    -0.   ]\n",
      " [ 0.     0.     0.     0.     0.   ]]\n",
      "[[ 0.         -1.         -0.          0.6         0.        ]\n",
      " [ 0.          0.          0.          0.         -0.        ]\n",
      " [ 0.          1.         -0.          0.          0.62679492]\n",
      " [ 0.         -0.          0.          0.         -0.        ]\n",
      " [ 0.          0.          0.          0.          0.        ]]\n",
      "[[ 0.    -1.    -0.     0.555  0.   ]\n",
      " [ 0.     0.     0.     0.    -0.   ]\n",
      " [ 0.     1.    -0.     0.     0.6  ]\n",
      " [ 0.    -0.     0.     0.    -0.   ]\n",
      " [ 0.     0.     0.     0.     0.   ]]\n",
      "[[ 0.         -1.         -0.          0.52        0.        ]\n",
      " [ 0.          0.          0.          0.         -0.        ]\n",
      " [ 0.          1.         -0.          0.          0.62679492]\n",
      " [ 0.         -0.          0.          0.         -0.        ]\n",
      " [ 0.          0.          0.          0.          0.        ]]\n",
      "[[ 0.    -1.    -0.     0.495  0.   ]\n",
      " [ 0.     0.     0.     0.    -0.   ]\n",
      " [ 0.     1.    -0.     0.     0.7  ]\n",
      " [ 0.    -0.     0.     0.    -0.   ]\n",
      " [ 0.     0.     0.     0.     0.   ]]\n",
      "[[ 0.   -1.   -0.    0.48  0.  ]\n",
      " [ 0.    0.    0.    0.   -0.  ]\n",
      " [ 0.    1.   -0.    0.    0.8 ]\n",
      " [ 0.   -0.    0.    0.   -0.  ]\n",
      " [ 0.    0.    0.    0.    0.  ]]\n",
      "(300, 35, 1)\n"
     ]
    },
    {
     "name": "stdout",
     "output_type": "stream",
     "text": [
      "Best ELBO Loss : 0.0005162463817446125\n",
      "Best NLL Loss : 1.56559297583284e-06\n",
      "Best MSE Loss : 8.946245576187656e-08\n",
      "28\n",
      "[[ 0.         -1.         -0.          0.88        0.        ]\n",
      " [ 0.          0.          0.          0.         -0.        ]\n",
      " [ 0.          1.         -0.          0.          0.97320508]\n",
      " [ 0.         -0.          0.          0.         -0.        ]\n",
      " [ 0.          0.          0.          0.          0.        ]]\n",
      "[[ 0.    -1.    -0.     0.795  0.   ]\n",
      " [ 0.     0.     0.     0.    -0.   ]\n",
      " [ 0.     1.    -0.     0.     0.9  ]\n",
      " [ 0.    -0.     0.     0.    -0.   ]\n",
      " [ 0.     0.     0.     0.     0.   ]]\n",
      "[[ 0.   -1.   -0.    0.72  0.  ]\n",
      " [ 0.    0.    0.    0.   -0.  ]\n",
      " [ 0.    1.   -0.    0.    0.8 ]\n",
      " [ 0.   -0.    0.    0.   -0.  ]\n",
      " [ 0.    0.    0.    0.    0.  ]]\n",
      "[[ 0.    -1.    -0.     0.655  0.   ]\n",
      " [ 0.     0.     0.     0.    -0.   ]\n",
      " [ 0.     1.    -0.     0.     0.7  ]\n",
      " [ 0.    -0.     0.     0.    -0.   ]\n",
      " [ 0.     0.     0.     0.     0.   ]]\n",
      "[[ 0.         -1.         -0.          0.6         0.        ]\n",
      " [ 0.          0.          0.          0.         -0.        ]\n",
      " [ 0.          1.         -0.          0.          0.62679492]\n",
      " [ 0.         -0.          0.          0.         -0.        ]\n",
      " [ 0.          0.          0.          0.          0.        ]]\n",
      "[[ 0.    -1.    -0.     0.555  0.   ]\n",
      " [ 0.     0.     0.     0.    -0.   ]\n",
      " [ 0.     1.    -0.     0.     0.6  ]\n",
      " [ 0.    -0.     0.     0.    -0.   ]\n",
      " [ 0.     0.     0.     0.     0.   ]]\n",
      "[[ 0.         -1.         -0.          0.52        0.        ]\n",
      " [ 0.          0.          0.          0.         -0.        ]\n",
      " [ 0.          1.         -0.          0.          0.62679492]\n",
      " [ 0.         -0.          0.          0.         -0.        ]\n",
      " [ 0.          0.          0.          0.          0.        ]]\n",
      "[[ 0.    -1.    -0.     0.495  0.   ]\n",
      " [ 0.     0.     0.     0.    -0.   ]\n",
      " [ 0.     1.    -0.     0.     0.7  ]\n",
      " [ 0.    -0.     0.     0.    -0.   ]\n",
      " [ 0.     0.     0.     0.     0.   ]]\n",
      "[[ 0.   -1.   -0.    0.48  0.  ]\n",
      " [ 0.    0.    0.    0.   -0.  ]\n",
      " [ 0.    1.   -0.    0.    0.8 ]\n",
      " [ 0.   -0.    0.    0.   -0.  ]\n",
      " [ 0.    0.    0.    0.    0.  ]]\n",
      "(300, 35, 1)\n",
      "Best ELBO Loss : 0.00040685210825626824\n",
      "Best NLL Loss : 2.7643917304145706e-06\n",
      "Best MSE Loss : 1.5796524173797547e-07\n",
      "29\n"
     ]
    }
   ],
   "source": [
    "n_var=5\n",
    "n_times=30 #no. of replicates\n",
    "time_stamp=10 #no. of timestamp\n",
    "np.random.seed(1234567) #Random seed\n",
    "#seed_list=np.random.randint(1, 1000000, size=n_times)\n",
    "average_coef_list_new=np.zeros((n_times,time_stamp,n_var,n_var))\n",
    "FDR_total_new=[]\n",
    "TPR_total_new=[]\n",
    "SHD_total_new=[]\n",
    "time_list_new=[]\n",
    "for replicate in range(n_times):\n",
    "  seed=seed_list[replicate]\n",
    "  X_all=data_create(seed,time_stamp,base_DAG) #create data\n",
    "  D=create_D(X_all,spline_list)\n",
    "  data_all=np.append(X_all,D, axis=1)\n",
    "  print(np.shape(data_all))\n",
    "  average_list=np.zeros((time_stamp,n_var, n_var))\n",
    "  ####estimate at each time_stamp####\n",
    "  timestart_new=time.time()\n",
    "    # ----------- Configurations:\n",
    "  # ----------- Configurations:\n",
    "  n = 30*time_stamp # The number of samples of data.\n",
    "  d = 36 # The number of variables in data after basis.\n",
    "  x_dims = 1 # The number of input dimensions: default 1.\n",
    "  z_dims = d # The number of latent variable dimensions: default the same as variable size.\n",
    "  epochs = 200 # Number of epochs to train.\n",
    "  batch_size = 10 # Number of samples per batch. note: should be divisible by sample size, otherwise throw an error.\n",
    "  k_max_iter = int(1e2) # The max iteration number for searching parameters.\n",
    "  original_lr = 3e-3  # Initial learning rate.\n",
    "  encoder_hidden = d^2 # Number of hidden units, adaptive to dimension of nodes (d^2).\n",
    "  decoder_hidden = d^2 # Number of hidden units, adaptive to dimension of nodes (d^2).\n",
    "  temp = 0.5 # Temperature for Gumbel softmax.\n",
    "  factor = True # Factor graph model.\n",
    "  encoder_dropout = 0.0 # Dropout rate (1 - keep probability).\n",
    "  decoder_dropout = 0.0 # Dropout rate (1 - keep probability).\n",
    "  tau_B = 0. # Coefficient for L-1 norm of matrix B.\n",
    "  lambda1 = 0. # Coefficient for DAG constraint h1(B).\n",
    "  lambda2 = 0. # Coefficient for identification constraint h2(B).\n",
    "  c_B = 1 # Coefficient for absolute value h1(B).\n",
    "  d_B = 1 # Coefficient for absolute value h2(B).\n",
    "  e_B = 1 # Coefficient for absolute value h3(B)\n",
    "  h1_tol = 1e-8 # The tolerance of error of h1(B) to zero.\n",
    "  h2_tol = 1e-8 # The tolerance of error of h2(B) to zero.\n",
    "  h3_tol = 1e-8 # The tolerance of error of h2(B) to zero.\n",
    "  lr_decay = 200 # After how many epochs to decay LR by a factor of gamma. \n",
    "  gamma = 1.0 # LR decay factor.  \n",
    "    ######################\n",
    "  p=5\n",
    "  k=6 #no.of basis\n",
    "  np.random.seed(seed)\n",
    "  random.seed(seed)\n",
    "  torch.manual_seed(seed)\n",
    "  feat_train = torch.FloatTensor(data_all)\n",
    "  feat_valid = torch.FloatTensor(data_all)\n",
    "  feat_test = torch.FloatTensor(data_all)\n",
    "\n",
    "  # Reconstruct itself\n",
    "  train_data = TensorDataset(feat_train, feat_train)\n",
    "  valid_data = TensorDataset(feat_valid, feat_train)\n",
    "  test_data = TensorDataset(feat_test, feat_train)\n",
    "\n",
    "  train_loader = DataLoader(train_data, batch_size = batch_size)\n",
    "  valid_loader = DataLoader(valid_data, batch_size = batch_size)\n",
    "  test_loader = DataLoader(test_data, batch_size = batch_size)\n",
    "\n",
    "  # ----------- Load modules:\n",
    "  d1=p+p*k\n",
    "  off_diag = np.ones([d1, d1]) - np.eye(d1) # Generate off-diagonal interaction graph\n",
    "  rel_rec = np.array(encode_onehot(np.where(off_diag)[1]), dtype = np.float64)\n",
    "  rel_send = np.array(encode_onehot(np.where(off_diag)[0]), dtype = np.float64)\n",
    "  rel_rec = torch.DoubleTensor(rel_rec)\n",
    "  rel_send = torch.DoubleTensor(rel_send)\n",
    "  adj_A = np.zeros((d1, d1)) # Add adjacency matrix\n",
    "\n",
    "  encoder = MLPEncoder(d1 * x_dims, x_dims, encoder_hidden,\n",
    "                          int(z_dims), adj_A,\n",
    "                          batch_size = batch_size,\n",
    "                          do_prob = encoder_dropout, factor = factor).double()\n",
    "  decoder = MLPDecoder(d1 * x_dims,\n",
    "                          z_dims, x_dims, encoder,\n",
    "                          data_variable_size = d1,\n",
    "                          batch_size = batch_size,\n",
    "                          n_hid=decoder_hidden,\n",
    "                          do_prob=decoder_dropout).double()\n",
    "\n",
    "  # ----------- Set up optimizer:\n",
    "  optimizer = optim.Adam(list(encoder.parameters()) + list(decoder.parameters()), lr = original_lr)\n",
    "  scheduler = lr_scheduler.StepLR(optimizer, step_size = lr_decay,\n",
    "                                  gamma = gamma)\n",
    "\n",
    "  rel_rec = Variable(rel_rec)\n",
    "  rel_send = Variable(rel_send)\n",
    "\n",
    "  # ----------- Main:\n",
    "  best_ELBO_loss = np.inf\n",
    "  best_NLL_loss = np.inf\n",
    "  best_MSE_loss = np.inf\n",
    "  h1_B_new = 1 #torch.tensor(1.)\n",
    "  h2_B_new = 1\n",
    "  h1_B_old = np.inf\n",
    "  h2_B_old = np.inf\n",
    "  lr = original_lr\n",
    "\n",
    "  try:\n",
    "      for step_k in range(k_max_iter):\n",
    "          while c_B * d_B < 1e+20:\n",
    "              for epoch in range(epochs):\n",
    "                  old_lr = lr \n",
    "                  ELBO_loss, NLL_loss, MSE_loss, origin_B, optimizer, lr = train_new(epoch, lambda1, c_B, lambda2, d_B, optimizer, old_lr,p=p,k=k)\n",
    "\n",
    "                  if ELBO_loss < best_ELBO_loss:\n",
    "                      best_ELBO_loss = ELBO_loss\n",
    "\n",
    "                  if NLL_loss < best_NLL_loss:\n",
    "                      best_NLL_loss = NLL_loss\n",
    "\n",
    "                  if MSE_loss < best_MSE_loss:\n",
    "                      best_MSE_loss = MSE_loss\n",
    "\n",
    "              if ELBO_loss > 2 * best_ELBO_loss:\n",
    "                  break\n",
    "\n",
    "              # Update parameters\n",
    "              B_new = origin_B.data.clone()\n",
    "              #h1_B = fun_h1_B(B_new[p:,p:]) #acyclity on G\n",
    "              h1_B=0 \n",
    "              for i in range(n_timestamp):\n",
    "                  #aa=h1_B+fun_h1_B(torch.matmul(spl_consraint(spline_list,i,p),B_new[p:,:p]))#acyclity on Gamma\n",
    "                  #print(aa)\n",
    "                  output, identity=spl_consraint(spline_list,i,p)\n",
    "                  h1_B=h1_B+fun_h1_B(torch.matmul(identity.type(torch.FloatTensor),(output.type(torch.FloatTensor)*B_new[p:,:p].type(torch.FloatTensor))))\n",
    "                  #h1_B=h1_B+fun_h1_B(torch.matmul(spl_consraint(spline_list,i,p).type(torch.FloatTensor),B_new[p:,:p].type(torch.FloatTensor)))#acyclity on Gamma\n",
    "              h2_B = fun_h2_B_new(B_new) ##handle the zero on gamma and top\n",
    "              #B_trans_new=torch.transpose(B_new, 0, 1)\n",
    "              #h1_B = fun_h1_B(B_trans_new[p:,p:]) #acyclity on G\n",
    "              #h1_B = fun_h1_B(B_new[p:,:p]) #edited acyclity on G\n",
    "              #h2_B = fun_h3_B(B_new) ##handle the zero\n",
    "\n",
    "              if h1_B_new > 0.25 * h1_B_old and h2_B_new > 0.25 * h2_B_old:\n",
    "                  c_B *= 10\n",
    "                  d_B *= 10\n",
    "              elif h1_B_new > 0.25 * h1_B_old and h2_B_new < 0.25 * h2_B_old:\n",
    "                  c_B *= 10\n",
    "              elif h1_B_new < 0.25 * h1_B_old and h2_B_new > 0.25 * h2_B_old:\n",
    "                  d_B *= 10\n",
    "              else:\n",
    "                  break\n",
    "\n",
    "          # Update parameters    \n",
    "          h1_B_old = h1_B_new\n",
    "          h2_B_old = h2_B_new\n",
    "          lambda1 += c_B * h1_B_new\n",
    "          lambda2 += d_B * h2_B_new\n",
    "\n",
    "          if h1_B_new <= h1_tol and h2_B_new <= h2_tol:\n",
    "              break\n",
    "\n",
    "  except KeyboardInterrupt:\n",
    "      print('KeyboardInterrupt')\n",
    "\n",
    "  predB = np.matrix(origin_B.data.clone().numpy())\n",
    "  print('Best ELBO Loss :', best_ELBO_loss)\n",
    "  print('Best NLL Loss :', best_NLL_loss)\n",
    "  print('Best MSE Loss :', best_MSE_loss)\n",
    "  #calculate_effect(predB)\n",
    "  pred_gamma=predB[p:,:(p)]\n",
    "  def matrix_gen(t):\n",
    "    output,identity=spl_consraint(spline_list,t,p)\n",
    "    return torch.matmul(identity.type(torch.FloatTensor),torch.from_numpy((np.multiply(output.numpy(),pred_gamma))).type(torch.FloatTensor)).T\n",
    "  #estimated_coefficient=[matrix_gen(i)[4,0].item() for i in range(time_stamp)]\n",
    "  #average_coef_list_new[replicate,:]=estimated_coefficient\n",
    "\n",
    "  ## FDR, TPR, SHD for  new method\n",
    "  FDR_list_piece_new=[]\n",
    "  TPR_list_piece_new=[]\n",
    "  SHD_list_piece_new=[]\n",
    "  #base_DAG=np.zeros((5, 5))\n",
    "  for i in range(time_stamp):\n",
    "      #base_DAG[0,4]=cos(i)\n",
    "      #base_DAG[2,3]=quadratic(j)\n",
    "      #base_DAG[3,4]=-1 ###constant\n",
    "      #base_DAG[2,4]=-1\n",
    "      #base_DAG[base_DAG<0.4]=0##change base_DAG\n",
    "     #FDR, TPR, SHD\n",
    "      #base_DAG[base_DAG<0.4] = 0 ##edited to remove the effect\n",
    "      base_graph=nx.from_numpy_matrix(base_DAG,create_using=nx.DiGraph)\n",
    "      average_coef_list_new[replicate,i,:,:]=matrix_gen(i).numpy()\n",
    "      a=matrix_gen(i).numpy()\n",
    "      a[abs(a)<0.3] = 0\n",
    "      base_estimate=nx.from_numpy_matrix(a.T,create_using=nx.DiGraph)\n",
    "    \n",
    "      FDR,TPR,SHD=count_accuracy(base_graph,base_estimate)\n",
    "      FDR_list_piece_new.append(FDR)\n",
    "      TPR_list_piece_new.append(TPR)\n",
    "      SHD_list_piece_new.append(SHD)\n",
    "  np.save(\"full_20_30\",average_coef_list_new)\n",
    "  FDR_total_new.append(mean(FDR_list_piece_new))\n",
    "  TPR_total_new.append(mean(TPR_list_piece_new))\n",
    "  SHD_total_new.append(mean(SHD_list_piece_new))\n",
    "  timeend_new=time.time()\n",
    "  time_list_new.append(timeend_new-timestart_new)\n",
    "  ###write csv\n",
    "  df_new = pd.DataFrame(columns=('FDR', 'TPR',\"SHD\",\"time\"))\n",
    "  df_new[\"FDR\"]=FDR_total_new\n",
    "  df_new[\"TPR\"]=TPR_total_new\n",
    "  df_new[\"SHD\"]=SHD_total_new\n",
    "  df_new[\"time\"]=time_list_new\n",
    "  #df_new.to_csv(\"cos_new_5.csv\")\n",
    "  print(replicate)\n"
   ]
  },
  {
   "cell_type": "code",
   "execution_count": 39,
   "id": "a47f85e1",
   "metadata": {},
   "outputs": [
    {
     "data": {
      "text/plain": [
       "array([913812, 374400, 343669, 289095, 235846, 432099, 448097, 384097,\n",
       "       134030, 454991, 401627,  97188, 615884, 585262, 902641, 897795,\n",
       "       678150, 361884, 928159, 446640,  26580, 865407, 789523, 704840,\n",
       "       359269,  38248, 809111, 137636, 698530, 230177])"
      ]
     },
     "execution_count": 39,
     "metadata": {},
     "output_type": "execute_result"
    }
   ],
   "source": [
    "seed_list"
   ]
  },
  {
   "cell_type": "code",
   "execution_count": 40,
   "id": "acd28256",
   "metadata": {},
   "outputs": [
    {
     "data": {
      "text/plain": [
       "(30, 10, 5, 5)"
      ]
     },
     "execution_count": 40,
     "metadata": {},
     "output_type": "execute_result"
    }
   ],
   "source": [
    "average_coef_list_new.shape"
   ]
  },
  {
   "cell_type": "code",
   "execution_count": 94,
   "id": "b4b52598",
   "metadata": {},
   "outputs": [
    {
     "data": {
      "text/plain": [
       "array([[ 0.  , -1.  , -0.  ,  0.48,  0.  ],\n",
       "       [ 0.  ,  0.  ,  0.  ,  0.  , -0.  ],\n",
       "       [ 0.  ,  1.  , -0.  ,  0.  ,  0.8 ],\n",
       "       [ 0.  , -0.  ,  0.  ,  0.  , -0.  ],\n",
       "       [ 0.  ,  0.  ,  0.  ,  0.  ,  0.  ]])"
      ]
     },
     "execution_count": 94,
     "metadata": {},
     "output_type": "execute_result"
    }
   ],
   "source": [
    "base_DAG"
   ]
  },
  {
   "cell_type": "code",
   "execution_count": 34,
   "id": "ef1d5c67",
   "metadata": {
    "scrolled": true
   },
   "outputs": [
    {
     "data": {
      "text/html": [
       "<div>\n",
       "<style scoped>\n",
       "    .dataframe tbody tr th:only-of-type {\n",
       "        vertical-align: middle;\n",
       "    }\n",
       "\n",
       "    .dataframe tbody tr th {\n",
       "        vertical-align: top;\n",
       "    }\n",
       "\n",
       "    .dataframe thead th {\n",
       "        text-align: right;\n",
       "    }\n",
       "</style>\n",
       "<table border=\"1\" class=\"dataframe\">\n",
       "  <thead>\n",
       "    <tr style=\"text-align: right;\">\n",
       "      <th></th>\n",
       "      <th>FDR</th>\n",
       "      <th>TPR</th>\n",
       "      <th>SHD</th>\n",
       "      <th>time</th>\n",
       "    </tr>\n",
       "  </thead>\n",
       "  <tbody>\n",
       "    <tr>\n",
       "      <th>0</th>\n",
       "      <td>0.050000</td>\n",
       "      <td>0.700</td>\n",
       "      <td>1.4</td>\n",
       "      <td>3258.330431</td>\n",
       "    </tr>\n",
       "    <tr>\n",
       "      <th>1</th>\n",
       "      <td>0.020000</td>\n",
       "      <td>0.825</td>\n",
       "      <td>0.8</td>\n",
       "      <td>3326.005435</td>\n",
       "    </tr>\n",
       "    <tr>\n",
       "      <th>2</th>\n",
       "      <td>0.000000</td>\n",
       "      <td>0.775</td>\n",
       "      <td>0.9</td>\n",
       "      <td>3513.402346</td>\n",
       "    </tr>\n",
       "    <tr>\n",
       "      <th>3</th>\n",
       "      <td>0.000000</td>\n",
       "      <td>0.650</td>\n",
       "      <td>1.4</td>\n",
       "      <td>4169.488957</td>\n",
       "    </tr>\n",
       "    <tr>\n",
       "      <th>4</th>\n",
       "      <td>0.158333</td>\n",
       "      <td>0.525</td>\n",
       "      <td>2.4</td>\n",
       "      <td>3877.003762</td>\n",
       "    </tr>\n",
       "    <tr>\n",
       "      <th>5</th>\n",
       "      <td>0.125000</td>\n",
       "      <td>0.475</td>\n",
       "      <td>2.5</td>\n",
       "      <td>3563.864658</td>\n",
       "    </tr>\n",
       "    <tr>\n",
       "      <th>6</th>\n",
       "      <td>0.000000</td>\n",
       "      <td>0.675</td>\n",
       "      <td>1.3</td>\n",
       "      <td>3894.198721</td>\n",
       "    </tr>\n",
       "    <tr>\n",
       "      <th>7</th>\n",
       "      <td>0.116667</td>\n",
       "      <td>0.450</td>\n",
       "      <td>2.5</td>\n",
       "      <td>4116.859723</td>\n",
       "    </tr>\n",
       "    <tr>\n",
       "      <th>8</th>\n",
       "      <td>0.000000</td>\n",
       "      <td>0.800</td>\n",
       "      <td>0.8</td>\n",
       "      <td>3770.608342</td>\n",
       "    </tr>\n",
       "    <tr>\n",
       "      <th>9</th>\n",
       "      <td>0.000000</td>\n",
       "      <td>0.425</td>\n",
       "      <td>2.3</td>\n",
       "      <td>3720.932009</td>\n",
       "    </tr>\n",
       "    <tr>\n",
       "      <th>10</th>\n",
       "      <td>0.000000</td>\n",
       "      <td>0.625</td>\n",
       "      <td>1.5</td>\n",
       "      <td>3424.223121</td>\n",
       "    </tr>\n",
       "    <tr>\n",
       "      <th>11</th>\n",
       "      <td>0.085000</td>\n",
       "      <td>0.850</td>\n",
       "      <td>1.0</td>\n",
       "      <td>3739.044957</td>\n",
       "    </tr>\n",
       "    <tr>\n",
       "      <th>12</th>\n",
       "      <td>0.025000</td>\n",
       "      <td>0.725</td>\n",
       "      <td>1.2</td>\n",
       "      <td>3422.535276</td>\n",
       "    </tr>\n",
       "    <tr>\n",
       "      <th>13</th>\n",
       "      <td>0.020000</td>\n",
       "      <td>0.875</td>\n",
       "      <td>0.6</td>\n",
       "      <td>3431.669997</td>\n",
       "    </tr>\n",
       "    <tr>\n",
       "      <th>14</th>\n",
       "      <td>0.000000</td>\n",
       "      <td>0.850</td>\n",
       "      <td>0.6</td>\n",
       "      <td>3747.574828</td>\n",
       "    </tr>\n",
       "    <tr>\n",
       "      <th>15</th>\n",
       "      <td>0.085000</td>\n",
       "      <td>0.800</td>\n",
       "      <td>1.2</td>\n",
       "      <td>4034.962995</td>\n",
       "    </tr>\n",
       "    <tr>\n",
       "      <th>16</th>\n",
       "      <td>0.040000</td>\n",
       "      <td>0.825</td>\n",
       "      <td>0.9</td>\n",
       "      <td>3751.720391</td>\n",
       "    </tr>\n",
       "    <tr>\n",
       "      <th>17</th>\n",
       "      <td>0.045000</td>\n",
       "      <td>0.750</td>\n",
       "      <td>1.2</td>\n",
       "      <td>3447.882591</td>\n",
       "    </tr>\n",
       "    <tr>\n",
       "      <th>18</th>\n",
       "      <td>0.050000</td>\n",
       "      <td>0.625</td>\n",
       "      <td>1.7</td>\n",
       "      <td>3459.637051</td>\n",
       "    </tr>\n",
       "    <tr>\n",
       "      <th>19</th>\n",
       "      <td>0.000000</td>\n",
       "      <td>0.900</td>\n",
       "      <td>0.4</td>\n",
       "      <td>3605.758408</td>\n",
       "    </tr>\n",
       "    <tr>\n",
       "      <th>20</th>\n",
       "      <td>0.020000</td>\n",
       "      <td>0.900</td>\n",
       "      <td>0.5</td>\n",
       "      <td>3627.625778</td>\n",
       "    </tr>\n",
       "    <tr>\n",
       "      <th>21</th>\n",
       "      <td>0.000000</td>\n",
       "      <td>0.725</td>\n",
       "      <td>1.1</td>\n",
       "      <td>3588.648622</td>\n",
       "    </tr>\n",
       "    <tr>\n",
       "      <th>22</th>\n",
       "      <td>0.066667</td>\n",
       "      <td>0.400</td>\n",
       "      <td>2.6</td>\n",
       "      <td>3808.533686</td>\n",
       "    </tr>\n",
       "    <tr>\n",
       "      <th>23</th>\n",
       "      <td>0.000000</td>\n",
       "      <td>0.850</td>\n",
       "      <td>0.6</td>\n",
       "      <td>3760.148748</td>\n",
       "    </tr>\n",
       "    <tr>\n",
       "      <th>24</th>\n",
       "      <td>0.000000</td>\n",
       "      <td>0.700</td>\n",
       "      <td>1.2</td>\n",
       "      <td>3428.540013</td>\n",
       "    </tr>\n",
       "    <tr>\n",
       "      <th>25</th>\n",
       "      <td>0.000000</td>\n",
       "      <td>0.825</td>\n",
       "      <td>0.7</td>\n",
       "      <td>3284.113357</td>\n",
       "    </tr>\n",
       "    <tr>\n",
       "      <th>26</th>\n",
       "      <td>0.025000</td>\n",
       "      <td>0.675</td>\n",
       "      <td>1.4</td>\n",
       "      <td>3179.393076</td>\n",
       "    </tr>\n",
       "    <tr>\n",
       "      <th>27</th>\n",
       "      <td>0.000000</td>\n",
       "      <td>0.750</td>\n",
       "      <td>1.0</td>\n",
       "      <td>3102.638072</td>\n",
       "    </tr>\n",
       "    <tr>\n",
       "      <th>28</th>\n",
       "      <td>0.025000</td>\n",
       "      <td>0.775</td>\n",
       "      <td>1.0</td>\n",
       "      <td>3716.544600</td>\n",
       "    </tr>\n",
       "    <tr>\n",
       "      <th>29</th>\n",
       "      <td>0.040000</td>\n",
       "      <td>0.875</td>\n",
       "      <td>0.7</td>\n",
       "      <td>3146.493970</td>\n",
       "    </tr>\n",
       "  </tbody>\n",
       "</table>\n",
       "</div>"
      ],
      "text/plain": [
       "         FDR    TPR  SHD         time\n",
       "0   0.050000  0.700  1.4  3258.330431\n",
       "1   0.020000  0.825  0.8  3326.005435\n",
       "2   0.000000  0.775  0.9  3513.402346\n",
       "3   0.000000  0.650  1.4  4169.488957\n",
       "4   0.158333  0.525  2.4  3877.003762\n",
       "5   0.125000  0.475  2.5  3563.864658\n",
       "6   0.000000  0.675  1.3  3894.198721\n",
       "7   0.116667  0.450  2.5  4116.859723\n",
       "8   0.000000  0.800  0.8  3770.608342\n",
       "9   0.000000  0.425  2.3  3720.932009\n",
       "10  0.000000  0.625  1.5  3424.223121\n",
       "11  0.085000  0.850  1.0  3739.044957\n",
       "12  0.025000  0.725  1.2  3422.535276\n",
       "13  0.020000  0.875  0.6  3431.669997\n",
       "14  0.000000  0.850  0.6  3747.574828\n",
       "15  0.085000  0.800  1.2  4034.962995\n",
       "16  0.040000  0.825  0.9  3751.720391\n",
       "17  0.045000  0.750  1.2  3447.882591\n",
       "18  0.050000  0.625  1.7  3459.637051\n",
       "19  0.000000  0.900  0.4  3605.758408\n",
       "20  0.020000  0.900  0.5  3627.625778\n",
       "21  0.000000  0.725  1.1  3588.648622\n",
       "22  0.066667  0.400  2.6  3808.533686\n",
       "23  0.000000  0.850  0.6  3760.148748\n",
       "24  0.000000  0.700  1.2  3428.540013\n",
       "25  0.000000  0.825  0.7  3284.113357\n",
       "26  0.025000  0.675  1.4  3179.393076\n",
       "27  0.000000  0.750  1.0  3102.638072\n",
       "28  0.025000  0.775  1.0  3716.544600\n",
       "29  0.040000  0.875  0.7  3146.493970"
      ]
     },
     "execution_count": 34,
     "metadata": {},
     "output_type": "execute_result"
    }
   ],
   "source": [
    "df_new = pd.DataFrame(columns=('FDR', 'TPR',\"SHD\",\"time\"))\n",
    "df_new[\"FDR\"]=FDR_total_new\n",
    "df_new[\"TPR\"]=TPR_total_new\n",
    "df_new[\"SHD\"]=SHD_total_new\n",
    "df_new[\"time\"]=time_list_new\n",
    "\n",
    "df_new"
   ]
  },
  {
   "cell_type": "code",
   "execution_count": 23,
   "id": "74c5dd7b",
   "metadata": {},
   "outputs": [],
   "source": [
    "result_new=np.load(\"full_20_30.npy\") #0 axis is the number of replicates\n",
    "result_ANOCA=np.load(\"full_20_30_ANOCA.npy\")\n",
    "result_NOTEARS=np.load(\"full_10_30_NOTEARS.npy\")"
   ]
  },
  {
   "cell_type": "code",
   "execution_count": 17,
   "id": "30777fb8",
   "metadata": {},
   "outputs": [],
   "source": [
    "time_stamp=10"
   ]
  },
  {
   "cell_type": "code",
   "execution_count": 24,
   "id": "84d73849",
   "metadata": {},
   "outputs": [
    {
     "data": {
      "text/plain": [
       "array([[ 0.  , -1.  ,  0.  ,  0.48,  0.  ],\n",
       "       [ 0.  ,  0.  ,  0.  ,  0.  ,  0.  ],\n",
       "       [ 0.  ,  1.  ,  0.  ,  0.  ,  0.8 ],\n",
       "       [ 0.  ,  0.  ,  0.  ,  0.  ,  0.  ],\n",
       "       [ 0.  ,  0.  ,  0.  ,  0.  ,  0.  ]])"
      ]
     },
     "execution_count": 24,
     "metadata": {},
     "output_type": "execute_result"
    }
   ],
   "source": [
    "base_DAG"
   ]
  },
  {
   "cell_type": "code",
   "execution_count": 19,
   "id": "942c02c6",
   "metadata": {},
   "outputs": [
    {
     "data": {
      "text/plain": [
       "array([[ 0., -1., -0.,  1.,  0.],\n",
       "       [ 0.,  0.,  0.,  0., -0.],\n",
       "       [ 0.,  1., -0.,  0.,  1.],\n",
       "       [ 0., -0.,  0.,  0., -0.],\n",
       "       [ 0.,  0.,  0.,  0.,  0.]])"
      ]
     },
     "execution_count": 19,
     "metadata": {},
     "output_type": "execute_result"
    }
   ],
   "source": [
    "base_DAG"
   ]
  },
  {
   "cell_type": "code",
   "execution_count": 20,
   "id": "cece8df5",
   "metadata": {},
   "outputs": [
    {
     "name": "stdout",
     "output_type": "stream",
     "text": [
      "The total effect (TE): 0.0\n",
      "The natural direct effect (DE): 0.0\n",
      "The natural indirect effect (IE): 0.0\n",
      "The natural direct effect for mediators (DM): [ 0.  0. -0.]\n",
      "The natural direct effect for mediators (IM): [0. 0. 0.]\n"
     ]
    },
    {
     "data": {
      "text/plain": [
       "FDR    0.119389\n",
       "TPR    0.850833\n",
       "SHD    1.120000\n",
       "dtype: float64"
      ]
     },
     "execution_count": 20,
     "metadata": {},
     "output_type": "execute_result"
    }
   ],
   "source": [
    "np.random.seed(123456)\n",
    "base_DAG=simulate_random_dag(5,4)\n",
    "random.seed(1234567)\n",
    "pick_1=np.nonzero(base_DAG)[0][pick_element[0]],np.nonzero(base_DAG)[1][pick_element[0]]\n",
    "pick_2=np.nonzero(base_DAG)[0][pick_element[1]],np.nonzero(base_DAG)[1][pick_element[1]]\n",
    "FDR_total_new=[]\n",
    "TPR_total_new=[]\n",
    "SHD_total_new=[]\n",
    "for replicate in range(30):\n",
    "    FDR_list_piece_new=[]\n",
    "    TPR_list_piece_new=[]\n",
    "    SHD_list_piece_new=[]\n",
    "    for i in range(time_stamp):\n",
    "        base_DAG[pick_1]=cos(i)##edited to be coeffcient with error\n",
    "        base_DAG[pick_2]=quadratic(i)###multiple\n",
    "        base_DAG[abs(base_DAG)<0.2] = 0\n",
    "        base_graph=nx.from_numpy_matrix(base_DAG,create_using=nx.DiGraph)\n",
    "        a=result_new[replicate,i,:,:]\n",
    "        a[abs(a)<0.2] = 0\n",
    "        base_estimate=nx.from_numpy_matrix(a.T,create_using=nx.DiGraph)\n",
    "\n",
    "        FDR,TPR,SHD=count_accuracy(base_graph,base_estimate)\n",
    "        FDR_list_piece_new.append(FDR)\n",
    "        TPR_list_piece_new.append(TPR)\n",
    "        SHD_list_piece_new.append(SHD)\n",
    "    FDR_total_new.append(mean(FDR_list_piece_new))\n",
    "    TPR_total_new.append(mean(TPR_list_piece_new))\n",
    "    SHD_total_new.append(mean(SHD_list_piece_new))\n",
    "df_new = pd.DataFrame(columns=('FDR', 'TPR',\"SHD\"))\n",
    "df_new[\"FDR\"]=FDR_total_new\n",
    "df_new[\"TPR\"]=TPR_total_new\n",
    "df_new[\"SHD\"]=SHD_total_new\n",
    "#df_new[\"time\"]=time_list_new\n",
    "df_new.mean()"
   ]
  },
  {
   "cell_type": "code",
   "execution_count": 21,
   "id": "a36d734d",
   "metadata": {},
   "outputs": [
    {
     "data": {
      "text/plain": [
       "FDR    0.010758\n",
       "TPR    0.021425\n",
       "SHD    0.106501\n",
       "dtype: float64"
      ]
     },
     "execution_count": 21,
     "metadata": {},
     "output_type": "execute_result"
    }
   ],
   "source": [
    "df_new.std()/np.sqrt(30)"
   ]
  },
  {
   "cell_type": "code",
   "execution_count": 22,
   "id": "4778de53",
   "metadata": {},
   "outputs": [
    {
     "name": "stdout",
     "output_type": "stream",
     "text": [
      "The total effect (TE): 0.0\n",
      "The natural direct effect (DE): 0.0\n",
      "The natural indirect effect (IE): 0.0\n",
      "The natural direct effect for mediators (DM): [ 0.  0. -0.]\n",
      "The natural direct effect for mediators (IM): [0. 0. 0.]\n"
     ]
    },
    {
     "data": {
      "text/plain": [
       "FDR    0.358009\n",
       "TPR    0.835833\n",
       "SHD    2.826667\n",
       "dtype: float64"
      ]
     },
     "execution_count": 22,
     "metadata": {},
     "output_type": "execute_result"
    }
   ],
   "source": [
    "np.random.seed(123456)\n",
    "base_DAG=simulate_random_dag(5,4)\n",
    "random.seed(1234567)\n",
    "pick_1=np.nonzero(base_DAG)[0][pick_element[0]],np.nonzero(base_DAG)[1][pick_element[0]]\n",
    "pick_2=np.nonzero(base_DAG)[0][pick_element[1]],np.nonzero(base_DAG)[1][pick_element[1]]\n",
    "FDR_total=[]\n",
    "TPR_total=[]\n",
    "SHD_total=[]\n",
    "for replicate in range(30):\n",
    "    FDR_list_piece=[]\n",
    "    TPR_list_piece=[]\n",
    "    SHD_list_piece=[]\n",
    "    for i in range(time_stamp):\n",
    "      base_DAG[pick_1]=cos(i)##edited to be coeffcient with error\n",
    "      base_DAG[pick_2]=quadratic(i)###multiple\n",
    "      base_DAG[abs(base_DAG)<0.2]=0\n",
    "      base_graph=nx.from_numpy_matrix(base_DAG,create_using=nx.DiGraph)\n",
    "      a=result_ANOCA[replicate,i,:,:]\n",
    "      a[abs(a)<0.2] = 0\n",
    "      base_estimate=nx.from_numpy_matrix(a,create_using=nx.DiGraph)\n",
    "\n",
    "      FDR,TPR,SHD=count_accuracy(base_graph,base_estimate)\n",
    "      FDR_list_piece.append(FDR)\n",
    "      TPR_list_piece.append(TPR)\n",
    "      SHD_list_piece.append(SHD)\n",
    "    FDR_total.append(mean(FDR_list_piece))\n",
    "    TPR_total.append(mean(TPR_list_piece))\n",
    "    SHD_total.append(mean(SHD_list_piece))\n",
    "df = pd.DataFrame(columns=('FDR', 'TPR',\"SHD\"))\n",
    "df[\"FDR\"]=FDR_total\n",
    "df[\"TPR\"]=TPR_total\n",
    "df[\"SHD\"]=SHD_total\n",
    "#df_new[\"time\"]=time_list_new\n",
    "df.mean()"
   ]
  },
  {
   "cell_type": "code",
   "execution_count": 23,
   "id": "993cb791",
   "metadata": {},
   "outputs": [
    {
     "data": {
      "text/plain": [
       "FDR    0.021153\n",
       "TPR    0.033513\n",
       "SHD    0.165045\n",
       "dtype: float64"
      ]
     },
     "execution_count": 23,
     "metadata": {},
     "output_type": "execute_result"
    }
   ],
   "source": [
    "df.std()/np.sqrt(30)"
   ]
  },
  {
   "cell_type": "code",
   "execution_count": 24,
   "id": "c232de9c",
   "metadata": {},
   "outputs": [
    {
     "name": "stdout",
     "output_type": "stream",
     "text": [
      "The total effect (TE): 0.0\n",
      "The natural direct effect (DE): 0.0\n",
      "The natural indirect effect (IE): 0.0\n",
      "The natural direct effect for mediators (DM): [ 0.  0. -0.]\n",
      "The natural direct effect for mediators (IM): [0. 0. 0.]\n"
     ]
    },
    {
     "data": {
      "text/plain": [
       "FDR    0.501111\n",
       "TPR    0.251667\n",
       "SHD    3.026667\n",
       "dtype: float64"
      ]
     },
     "execution_count": 24,
     "metadata": {},
     "output_type": "execute_result"
    }
   ],
   "source": [
    "np.random.seed(123456)\n",
    "base_DAG=simulate_random_dag(5,4)\n",
    "random.seed(1234567)\n",
    "pick_1=np.nonzero(base_DAG)[0][pick_element[0]],np.nonzero(base_DAG)[1][pick_element[0]]\n",
    "pick_2=np.nonzero(base_DAG)[0][pick_element[1]],np.nonzero(base_DAG)[1][pick_element[1]]\n",
    "FDR_total_new=[]\n",
    "TPR_total_new=[]\n",
    "SHD_total_new=[]\n",
    "for replicate in range(30):\n",
    "    FDR_list_piece_new=[]\n",
    "    TPR_list_piece_new=[]\n",
    "    SHD_list_piece_new=[]\n",
    "    for i in range(time_stamp):\n",
    "        base_DAG[pick_1]=cos(i)##edited to be coeffcient with error\n",
    "        base_DAG[pick_2]=quadratic(i)###multiple\n",
    "        base_DAG[abs(base_DAG)<0.2] = 0\n",
    "        base_graph=nx.from_numpy_matrix(base_DAG,create_using=nx.DiGraph)\n",
    "        a=result_NOTEARS[replicate,i,:,:]\n",
    "        a[abs(a)<0.2] = 0\n",
    "        base_estimate=nx.from_numpy_matrix(a.T,create_using=nx.DiGraph)\n",
    "\n",
    "        FDR,TPR,SHD=count_accuracy(base_graph,base_estimate)\n",
    "        FDR_list_piece_new.append(FDR)\n",
    "        TPR_list_piece_new.append(TPR)\n",
    "        SHD_list_piece_new.append(SHD)\n",
    "    FDR_total_new.append(mean(FDR_list_piece_new))\n",
    "    TPR_total_new.append(mean(TPR_list_piece_new))\n",
    "    SHD_total_new.append(mean(SHD_list_piece_new))\n",
    "df_new = pd.DataFrame(columns=('FDR', 'TPR',\"SHD\"))\n",
    "df_new[\"FDR\"]=FDR_total_new\n",
    "df_new[\"TPR\"]=TPR_total_new\n",
    "df_new[\"SHD\"]=SHD_total_new\n",
    "#df_new[\"time\"]=time_list_new\n",
    "df_new.mean()"
   ]
  },
  {
   "cell_type": "code",
   "execution_count": 25,
   "id": "ff32ab53",
   "metadata": {},
   "outputs": [
    {
     "data": {
      "text/plain": [
       "FDR    0.021153\n",
       "TPR    0.033513\n",
       "SHD    0.165045\n",
       "dtype: float64"
      ]
     },
     "execution_count": 25,
     "metadata": {},
     "output_type": "execute_result"
    }
   ],
   "source": [
    "df.std()/np.sqrt(30)"
   ]
  },
  {
   "cell_type": "code",
   "execution_count": 14,
   "id": "6936b882",
   "metadata": {},
   "outputs": [],
   "source": [
    "result_dynotears=np.load(\"C:/Users/Jianian Wang/Desktop/dynotears/dynotears_implementation/result/dynotears_full_w_noA.npy\")"
   ]
  },
  {
   "cell_type": "code",
   "execution_count": 15,
   "id": "30d59081",
   "metadata": {},
   "outputs": [],
   "source": [
    "time_stamp=10"
   ]
  },
  {
   "cell_type": "code",
   "execution_count": 16,
   "id": "6e913899",
   "metadata": {},
   "outputs": [
    {
     "name": "stdout",
     "output_type": "stream",
     "text": [
      "The total effect (TE): 0.0\n",
      "The natural direct effect (DE): 0.0\n",
      "The natural indirect effect (IE): 0.0\n",
      "The natural direct effect for mediators (DM): [ 0.  0. -0.]\n",
      "The natural direct effect for mediators (IM): [0. 0. 0.]\n"
     ]
    },
    {
     "data": {
      "text/plain": [
       "FDR    0.502469\n",
       "TPR    0.250000\n",
       "SHD    3.029630\n",
       "dtype: float64"
      ]
     },
     "execution_count": 16,
     "metadata": {},
     "output_type": "execute_result"
    }
   ],
   "source": [
    "np.random.seed(123456)\n",
    "base_DAG=simulate_random_dag(5,4)\n",
    "random.seed(1234567)\n",
    "pick_1=np.nonzero(base_DAG)[0][pick_element[0]],np.nonzero(base_DAG)[1][pick_element[0]]\n",
    "pick_2=np.nonzero(base_DAG)[0][pick_element[1]],np.nonzero(base_DAG)[1][pick_element[1]]\n",
    "FDR_total_new=[]\n",
    "TPR_total_new=[]\n",
    "SHD_total_new=[]\n",
    "for replicate in range(30):\n",
    "    FDR_list_piece_new=[]\n",
    "    TPR_list_piece_new=[]\n",
    "    SHD_list_piece_new=[]\n",
    "    for i in range(time_stamp-1):\n",
    "        base_DAG[pick_1]=cos(i+1)##edited to be coeffcient with error\n",
    "        base_DAG[pick_2]=quadratic(i+1)###multiple\n",
    "        base_DAG[abs(base_DAG)<0.2] = 0\n",
    "        base_graph=nx.from_numpy_matrix(base_DAG,create_using=nx.DiGraph)\n",
    "        a=result_dynotears[replicate,i,:,:]\n",
    "        a[abs(a)<0.2] = 0\n",
    "        base_estimate=nx.from_numpy_matrix(a.T,create_using=nx.DiGraph)\n",
    "\n",
    "        FDR,TPR,SHD=count_accuracy(base_graph,base_estimate)\n",
    "        FDR_list_piece_new.append(FDR)\n",
    "        TPR_list_piece_new.append(TPR)\n",
    "        SHD_list_piece_new.append(SHD)\n",
    "    FDR_total_new.append(mean(FDR_list_piece_new))\n",
    "    TPR_total_new.append(mean(TPR_list_piece_new))\n",
    "    SHD_total_new.append(mean(SHD_list_piece_new))\n",
    "df_new = pd.DataFrame(columns=('FDR', 'TPR',\"SHD\"))\n",
    "df_new[\"FDR\"]=FDR_total_new\n",
    "df_new[\"TPR\"]=TPR_total_new\n",
    "df_new[\"SHD\"]=SHD_total_new\n",
    "#df_new[\"time\"]=time_list_new\n",
    "df_new.mean()"
   ]
  },
  {
   "cell_type": "code",
   "execution_count": 17,
   "id": "96bdc4cb",
   "metadata": {},
   "outputs": [
    {
     "data": {
      "text/plain": [
       "FDR    0.001169\n",
       "TPR    0.000000\n",
       "SHD    0.009124\n",
       "dtype: float64"
      ]
     },
     "execution_count": 17,
     "metadata": {},
     "output_type": "execute_result"
    }
   ],
   "source": [
    "df_new.std()/np.sqrt(30)"
   ]
  },
  {
   "cell_type": "code",
   "execution_count": 19,
   "id": "42731125",
   "metadata": {},
   "outputs": [
    {
     "data": {
      "text/plain": [
       "0.5001341543141491"
      ]
     },
     "execution_count": 19,
     "metadata": {},
     "output_type": "execute_result"
    }
   ],
   "source": [
    "diff_list_dynotears=result_dynotears[:,:,3,0]-[quadratic(i) for i in range(time_stamp)]\n",
    "np.square(diff_list_dynotears).mean() ##ANOCA"
   ]
  },
  {
   "cell_type": "code",
   "execution_count": 20,
   "id": "a14c5ccb",
   "metadata": {},
   "outputs": [
    {
     "data": {
      "text/plain": [
       "0.007271977653803061"
      ]
     },
     "execution_count": 20,
     "metadata": {},
     "output_type": "execute_result"
    }
   ],
   "source": [
    "np.square(diff_list_dynotears).mean(axis=1).std()/math.sqrt(10)"
   ]
  },
  {
   "cell_type": "code",
   "execution_count": 69,
   "id": "1a2113af",
   "metadata": {},
   "outputs": [
    {
     "data": {
      "text/plain": [
       "(2, 4)"
      ]
     },
     "execution_count": 69,
     "metadata": {},
     "output_type": "execute_result"
    }
   ],
   "source": [
    "pick_1"
   ]
  },
  {
   "cell_type": "code",
   "execution_count": 70,
   "id": "42e53d65",
   "metadata": {},
   "outputs": [
    {
     "data": {
      "text/plain": [
       "(0, 3)"
      ]
     },
     "execution_count": 70,
     "metadata": {},
     "output_type": "execute_result"
    }
   ],
   "source": [
    "pick_2"
   ]
  },
  {
   "cell_type": "code",
   "execution_count": 9,
   "id": "26f0a362",
   "metadata": {},
   "outputs": [],
   "source": [
    "time_stamp=10"
   ]
  },
  {
   "cell_type": "code",
   "execution_count": 10,
   "id": "c63bea78",
   "metadata": {},
   "outputs": [
    {
     "data": {
      "text/plain": [
       "0.13670268803928293"
      ]
     },
     "execution_count": 10,
     "metadata": {},
     "output_type": "execute_result"
    }
   ],
   "source": [
    "diff_list_ANOCA=result_ANOCA[:,:,0,3]-[quadratic(i) for i in range(time_stamp)]\n",
    "np.square(diff_list_ANOCA).mean() ##ANOCA\n"
   ]
  },
  {
   "cell_type": "code",
   "execution_count": 14,
   "id": "547c9dd7",
   "metadata": {},
   "outputs": [
    {
     "data": {
      "text/plain": [
       "0.02159848586913757"
      ]
     },
     "execution_count": 14,
     "metadata": {},
     "output_type": "execute_result"
    }
   ],
   "source": [
    "np.square(diff_list_ANOCA).mean(axis=1).std()/math.sqrt(10)"
   ]
  },
  {
   "cell_type": "code",
   "execution_count": 11,
   "id": "1da69f3e",
   "metadata": {},
   "outputs": [
    {
     "data": {
      "text/plain": [
       "0.07667476610504044"
      ]
     },
     "execution_count": 11,
     "metadata": {},
     "output_type": "execute_result"
    }
   ],
   "source": [
    "diff_list_new=result_new[:,:,3,0]-[quadratic(i) for i in range(time_stamp)]\n",
    "np.square(diff_list_new).mean() ##MSE"
   ]
  },
  {
   "cell_type": "code",
   "execution_count": 12,
   "id": "033a7f18",
   "metadata": {},
   "outputs": [
    {
     "data": {
      "text/plain": [
       "0.009342036235181364"
      ]
     },
     "execution_count": 12,
     "metadata": {},
     "output_type": "execute_result"
    }
   ],
   "source": [
    "np.square(diff_list_new).mean(axis=1).std()/math.sqrt(10)"
   ]
  },
  {
   "cell_type": "code",
   "execution_count": 26,
   "id": "f15ef248",
   "metadata": {},
   "outputs": [
    {
     "data": {
      "text/plain": [
       "0.5223846539176822"
      ]
     },
     "execution_count": 26,
     "metadata": {},
     "output_type": "execute_result"
    }
   ],
   "source": [
    "diff_list_NOTEARS=result_NOTEARS[:,:,3,0]-[quadratic(i) for i in range(time_stamp)]\n",
    "np.square(diff_list_NOTEARS).mean() ##MSE"
   ]
  },
  {
   "cell_type": "code",
   "execution_count": 27,
   "id": "168298c8",
   "metadata": {},
   "outputs": [
    {
     "data": {
      "text/plain": [
       "0.010328362881942405"
      ]
     },
     "execution_count": 27,
     "metadata": {},
     "output_type": "execute_result"
    }
   ],
   "source": [
    "np.square(diff_list_NOTEARS).mean(axis=1).std()/math.sqrt(10)"
   ]
  },
  {
   "cell_type": "code",
   "execution_count": 99,
   "id": "3de7d54d",
   "metadata": {},
   "outputs": [
    {
     "data": {
      "text/plain": [
       "array([[ 0.  , -1.  , -0.  ,  0.48,  0.  ],\n",
       "       [ 0.  ,  0.  ,  0.  ,  0.  , -0.  ],\n",
       "       [ 0.  ,  1.  , -0.  ,  0.  ,  0.8 ],\n",
       "       [ 0.  , -0.  ,  0.  ,  0.  , -0.  ],\n",
       "       [ 0.  ,  0.  ,  0.  ,  0.  ,  0.  ]])"
      ]
     },
     "execution_count": 99,
     "metadata": {},
     "output_type": "execute_result"
    }
   ],
   "source": [
    "base_DAG"
   ]
  },
  {
   "cell_type": "code",
   "execution_count": 15,
   "id": "bc77725d",
   "metadata": {},
   "outputs": [],
   "source": [
    "result_new=np.load(\"full_20_30.npy\") #0 axis is the number of replicates\n",
    "result_ANOCA=np.load(\"full_20_30_ANOCA.npy\")\n",
    "result_NOTEARS=np.load(\"full_10_30_NOTEARS.npy\")\n",
    "result_dynotears=np.load(\"C:/Users/Jianian Wang/Desktop/dynotears/dynotears_implementation/result/dynotears_full_w_noA.npy\")"
   ]
  },
  {
   "cell_type": "code",
   "execution_count": 23,
   "id": "3632422f",
   "metadata": {
    "scrolled": true
   },
   "outputs": [
    {
     "name": "stdout",
     "output_type": "stream",
     "text": [
      "The total effect (TE): 0.0\n",
      "The natural direct effect (DE): 0.0\n",
      "The natural indirect effect (IE): 0.0\n",
      "The natural direct effect for mediators (DM): [ 0.  0. -0.]\n",
      "The natural direct effect for mediators (IM): [0. 0. 0.]\n",
      "The total effect (TE): 0.0\n",
      "The natural direct effect (DE): 0.0\n",
      "The natural indirect effect (IE): 0.0\n",
      "The natural direct effect for mediators (DM): [ 0.  0. -0.]\n",
      "The natural direct effect for mediators (IM): [0. 0. 0.]\n",
      "The total effect (TE): 0.0\n",
      "The natural direct effect (DE): 0.0\n",
      "The natural indirect effect (IE): 0.0\n",
      "The natural direct effect for mediators (DM): [ 0.  0. -0.]\n",
      "The natural direct effect for mediators (IM): [0. 0. 0.]\n",
      "The total effect (TE): 0.0\n",
      "The natural direct effect (DE): 0.0\n",
      "The natural indirect effect (IE): 0.0\n",
      "The natural direct effect for mediators (DM): [ 0.  0. -0.]\n",
      "The natural direct effect for mediators (IM): [0. 0. 0.]\n"
     ]
    },
    {
     "data": {
      "image/png": "[encoded data removed]",
      "text/plain": [
       "<Figure size 864x1152 with 21 Axes>"
      ]
     },
     "metadata": {
      "needs_background": "light"
     },
     "output_type": "display_data"
    }
   ],
   "source": [
    "select_time=[0,3,6,9]\n",
    "methods=[\"ANOCA\",\"NOTEARS\",\"DYNOTEARS\",\"proposed\",\"true\"]\n",
    "figure, axs = plt.subplots(nrows=5, ncols=4, figsize=(12, 16))\n",
    "for i in range(len(select_time)):\n",
    "    actual_time=select_time[i]\n",
    "    ANOCA_graph=result_ANOCA[:,actual_time,:,:].mean(axis=0)\n",
    "    ANOCA_graph[abs(ANOCA_graph)<0.2]=0\n",
    "    im=axs[0, i].matshow(ANOCA_graph, cmap = 'bwr', vmin = -1, vmax = 1)\n",
    "    axs[0, i].set_title(str((select_time[i])),fontdict={'fontsize': 20})\n",
    "    ##NOTEARS plot\n",
    "    NOTEARS_graph=result_NOTEARS[:,actual_time,:,:].mean(axis=0).T\n",
    "    NOTEARS_graph[abs(NOTEARS_graph)<0.2]=0\n",
    "    axs[1, i].matshow(NOTEARS_graph, cmap = 'bwr', vmin = -1, vmax = 1)\n",
    "    ##DYNOTEARS plot\n",
    "    DYNOTEARS_graph=result_dynotears[:,actual_time,:,:].mean(axis=0).T\n",
    "    DYNOTEARS_graph[abs(DYNOTEARS_graph)<0.2]=0\n",
    "    axs[2, i].matshow(DYNOTEARS_graph, cmap = 'bwr', vmin = -1, vmax = 1)\n",
    "    ##proposed plot\n",
    "    proposed_graph=result_new[:,actual_time,:,:].mean(axis=0).T\n",
    "    proposed_graph[abs(proposed_graph)<0.2]=0\n",
    "    axs[3, i].matshow(proposed_graph, cmap = 'bwr', vmin = -1, vmax = 1)\n",
    "    ##True plot\n",
    "    np.random.seed(123456)\n",
    "    base_DAG=simulate_random_dag(5,4)\n",
    "    base_DAG[pick_1]=cos(i+1)##edited to be coeffcient with error\n",
    "    base_DAG[pick_2]=quadratic(i+1)###multiple\n",
    "    base_DAG[abs(base_DAG)<0.2] = 0\n",
    "    axs[4, i].matshow(base_DAG, cmap = 'bwr', vmin = -1, vmax = 1)\n",
    "for j in range(len(methods)):\n",
    "    axs[j, 0].set(ylabel=methods[j])\n",
    "    axs[j, 0].yaxis.label.set_size(20)\n",
    "for i in range(5):\n",
    "    for j in range(4):\n",
    "        axs[i][j].get_xaxis().set_ticks([])\n",
    "        axs[i][j].get_yaxis().set_ticks([])\n",
    "cbar_ax = figure.add_axes([0.93, 0.30, 0.02, 0.3])\n",
    "figure.colorbar(im, cax=cbar_ax)\n",
    "plt.savefig(\"S2_nolag_graph.pdf\")"
   ]
  },
  {
   "cell_type": "code",
   "execution_count": 38,
   "id": "3dc29c80",
   "metadata": {},
   "outputs": [
    {
     "data": {
      "image/png": "[encoded data removed]",
      "text/plain": [
       "<Figure size 432x288 with 1 Axes>"
      ]
     },
     "metadata": {
      "needs_background": "light"
     },
     "output_type": "display_data"
    }
   ],
   "source": [
    "plt.plot(range(time_stamp),np.mean(average_coef_list_new[:,:,1,2],0))\n",
    "plt.plot(range(time_stamp),[1]*time_stamp)\n",
    "#plt.plot(range(time_stamp),np.mean(average_coef_list[:,:,2,1],0))#ANOCA\n",
    "# Function add a legend  \n",
    "plt.legend([\"Our method\", \"True coefficient\", \"Piece-wise ANOCA\"])\n",
    "# Function add a legend  \n",
    "#plt.legend([\"Estimated coeffcient\", \"True coefficient\"])\n",
    "  \n",
    "# function to show the plot\n",
    "plt.show()"
   ]
  },
  {
   "cell_type": "code",
   "execution_count": 71,
   "id": "fa694810",
   "metadata": {},
   "outputs": [
    {
     "data": {
      "text/plain": [
       "0.6162901731670378"
      ]
     },
     "execution_count": 71,
     "metadata": {},
     "output_type": "execute_result"
    }
   ],
   "source": [
    "diff_list=result_new[:,:,2,4]-[cos(i) for i in range(time_stamp)]\n",
    "np.square(diff_list).mean()"
   ]
  },
  {
   "cell_type": "code",
   "execution_count": 72,
   "id": "21894164",
   "metadata": {},
   "outputs": [
    {
     "data": {
      "text/plain": [
       "0.6162851620909204"
      ]
     },
     "execution_count": 72,
     "metadata": {},
     "output_type": "execute_result"
    }
   ],
   "source": [
    "diff_list_new=result_ANOCA[:,:,4,2]-[cos(i) for i in range(time_stamp)]\n",
    "np.square(diff_list_new).mean() ##MSE slightly smaller for cos(i)"
   ]
  },
  {
   "cell_type": "code",
   "execution_count": 212,
   "id": "538a0a25",
   "metadata": {},
   "outputs": [
    {
     "data": {
      "text/plain": [
       "0.07144666741911947"
      ]
     },
     "execution_count": 212,
     "metadata": {},
     "output_type": "execute_result"
    }
   ],
   "source": [
    "np.square(diff_list).std()/math.sqrt(30)"
   ]
  },
  {
   "cell_type": "code",
   "execution_count": 213,
   "id": "edeb889f",
   "metadata": {},
   "outputs": [
    {
     "data": {
      "text/plain": [
       "0.03668993480278108"
      ]
     },
     "execution_count": 213,
     "metadata": {},
     "output_type": "execute_result"
    }
   ],
   "source": [
    "np.square(diff_list_new).std()/math.sqrt(30)"
   ]
  },
  {
   "cell_type": "code",
   "execution_count": 218,
   "id": "7dbbf7fd",
   "metadata": {},
   "outputs": [
    {
     "data": {
      "text/plain": [
       "0.47182894369325085"
      ]
     },
     "execution_count": 218,
     "metadata": {},
     "output_type": "execute_result"
    }
   ],
   "source": [
    "diff_list_2=average_coef_list[:,:,3,0]-[quadratic(i) for i in range(time_stamp)]\n",
    "np.square(diff_list_2).mean() ##similar"
   ]
  },
  {
   "cell_type": "code",
   "execution_count": 219,
   "id": "a026f452",
   "metadata": {},
   "outputs": [
    {
     "data": {
      "text/plain": [
       "0.4718281289467952"
      ]
     },
     "execution_count": 219,
     "metadata": {},
     "output_type": "execute_result"
    }
   ],
   "source": [
    "diff_list_new_2=average_coef_list_new[:,:,0,3]-[quadratic(i) for i in range(time_stamp)]\n",
    "np.square(diff_list_new_2).mean()"
   ]
  },
  {
   "cell_type": "code",
   "execution_count": 119,
   "id": "JwP1owSqII_6",
   "metadata": {
    "colab": {
     "base_uri": "https://localhost:8080/"
    },
    "id": "JwP1owSqII_6",
    "outputId": "50f94619-2f21-4d01-8f8a-475db31870c4"
   },
   "outputs": [
    {
     "data": {
      "text/plain": [
       "FDR        0.200000\n",
       "TPR        0.625000\n",
       "SHD        2.200000\n",
       "time    4547.330279\n",
       "dtype: float64"
      ]
     },
     "execution_count": 119,
     "metadata": {},
     "output_type": "execute_result"
    }
   ],
   "source": [
    "df_new.mean()##new method"
   ]
  },
  {
   "cell_type": "code",
   "execution_count": 256,
   "id": "GUR54HC-dpD1",
   "metadata": {
    "colab": {
     "base_uri": "https://localhost:8080/"
    },
    "id": "GUR54HC-dpD1",
    "outputId": "1aa4f7b6-514c-4001-9ede-56f31018e055"
   },
   "outputs": [
    {
     "data": {
      "text/plain": [
       "FDR       0.254159\n",
       "TPR       0.714167\n",
       "SHD       2.353333\n",
       "time    374.736947\n",
       "dtype: float64"
      ]
     },
     "execution_count": 256,
     "metadata": {},
     "output_type": "execute_result"
    }
   ],
   "source": [
    "df.mean() ## ANOCA"
   ]
  },
  {
   "cell_type": "code",
   "execution_count": 192,
   "id": "74426543",
   "metadata": {},
   "outputs": [
    {
     "data": {
      "text/plain": [
       "FDR     0.013355\n",
       "TPR     0.008190\n",
       "SHD     0.064804\n",
       "time    5.241719\n",
       "dtype: float64"
      ]
     },
     "execution_count": 192,
     "metadata": {},
     "output_type": "execute_result"
    }
   ],
   "source": [
    "df_new.std()/np.sqrt(30)"
   ]
  },
  {
   "cell_type": "code",
   "execution_count": 193,
   "id": "0cd0f96b",
   "metadata": {},
   "outputs": [
    {
     "data": {
      "text/plain": [
       "FDR     0.020488\n",
       "TPR     0.018363\n",
       "SHD     0.121365\n",
       "time    1.506442\n",
       "dtype: float64"
      ]
     },
     "execution_count": 193,
     "metadata": {},
     "output_type": "execute_result"
    }
   ],
   "source": [
    "df.std()/np.sqrt(30)"
   ]
  },
  {
   "cell_type": "code",
   "execution_count": 247,
   "id": "0db192a9",
   "metadata": {},
   "outputs": [],
   "source": [
    "y = np.array([cos(i) for i in x])\n",
    "#y = np.array([1 for i in x])\n",
    "z= np.array([quadratic(i) for i in x])"
   ]
  },
  {
   "cell_type": "code",
   "execution_count": 25,
   "id": "1a0292f0",
   "metadata": {
    "scrolled": true
   },
   "outputs": [
    {
     "data": {
      "image/png": "[encoded data removed]",
      "text/plain": [
       "<Figure size 288x288 with 2 Axes>"
      ]
     },
     "metadata": {
      "needs_background": "light"
     },
     "output_type": "display_data"
    }
   ],
   "source": [
    "##True ##time 0\n",
    "aa=base_DAG\n",
    "\n",
    "plt.matshow(aa.T, cmap = 'bwr', vmin = -1, vmax = 1)\n",
    "fig1 = plt.gcf()\n",
    "plt.colorbar()\n",
    "plt.show()"
   ]
  },
  {
   "cell_type": "code",
   "execution_count": 26,
   "id": "d53d991e",
   "metadata": {},
   "outputs": [
    {
     "data": {
      "image/png": "[encoded data removed]",
      "text/plain": [
       "<Figure size 288x288 with 2 Axes>"
      ]
     },
     "metadata": {
      "needs_background": "light"
     },
     "output_type": "display_data"
    }
   ],
   "source": [
    "graph=result_ANOCA.mean(axis=0)[0].T\n",
    "graph[abs(graph)<0.2]=0\n",
    "plt.matshow(graph, cmap = 'bwr', vmin = -1, vmax = 1)\n",
    "fig1 = plt.gcf()\n",
    "plt.colorbar()\n",
    "plt.show()"
   ]
  },
  {
   "cell_type": "code",
   "execution_count": 27,
   "id": "93e34807",
   "metadata": {},
   "outputs": [
    {
     "data": {
      "image/png": "[encoded data removed]",
      "text/plain": [
       "<Figure size 288x288 with 2 Axes>"
      ]
     },
     "metadata": {
      "needs_background": "light"
     },
     "output_type": "display_data"
    }
   ],
   "source": [
    "graph=result_new.mean(axis=0)[0]\n",
    "graph[abs(graph)<0.2]=0\n",
    "plt.matshow(graph, cmap = 'bwr', vmin = -1, vmax = 1)\n",
    "fig1 = plt.gcf()\n",
    "plt.colorbar()\n",
    "plt.show()"
   ]
  },
  {
   "cell_type": "code",
   "execution_count": 58,
   "id": "0a28e448",
   "metadata": {},
   "outputs": [
    {
     "data": {
      "image/png": "[encoded data removed]",
      "text/plain": [
       "<Figure size 288x288 with 2 Axes>"
      ]
     },
     "metadata": {
      "needs_background": "light"
     },
     "output_type": "display_data"
    }
   ],
   "source": [
    "graph=result_NOTEARS.mean(axis=0)[0]\n",
    "graph[abs(graph)<0.2]=0\n",
    "plt.matshow(graph, cmap = 'bwr', vmin = -1, vmax = 1)\n",
    "fig1 = plt.gcf()\n",
    "plt.colorbar()\n",
    "plt.show()"
   ]
  },
  {
   "cell_type": "code",
   "execution_count": 29,
   "id": "d989d9f1",
   "metadata": {},
   "outputs": [
    {
     "data": {
      "image/png": "[encoded data removed]",
      "text/plain": [
       "<Figure size 288x288 with 2 Axes>"
      ]
     },
     "metadata": {
      "needs_background": "light"
     },
     "output_type": "display_data"
    }
   ],
   "source": [
    "graph=result_dynotears.mean(axis=0)[0]\n",
    "graph[abs(graph)<0.2]=0\n",
    "plt.matshow(graph, cmap = 'bwr', vmin = -1, vmax = 1)\n",
    "fig1 = plt.gcf()\n",
    "plt.colorbar()\n",
    "plt.show()"
   ]
  },
  {
   "cell_type": "code",
   "execution_count": 77,
   "id": "9920b6cb",
   "metadata": {},
   "outputs": [
    {
     "data": {
      "image/png": "[encoded data removed]",
      "text/plain": [
       "<Figure size 288x288 with 2 Axes>"
      ]
     },
     "metadata": {
      "needs_background": "light"
     },
     "output_type": "display_data"
    }
   ],
   "source": [
    "##True ##time 5\n",
    "aa=base_DAG\n",
    "aa[2,4]=y[5]##edited to be coeffcient with error\n",
    "aa[0,3]=z[5]###multiple\n",
    "\n",
    "plt.matshow(aa.T, cmap = 'bwr', vmin = -1, vmax = 1)\n",
    "fig1 = plt.gcf()\n",
    "plt.colorbar()\n",
    "plt.show()"
   ]
  },
  {
   "cell_type": "code",
   "execution_count": 42,
   "id": "83a6253c",
   "metadata": {
    "scrolled": true
   },
   "outputs": [
    {
     "data": {
      "image/png": "[encoded data removed]",
      "text/plain": [
       "<Figure size 288x288 with 2 Axes>"
      ]
     },
     "metadata": {
      "needs_background": "light"
     },
     "output_type": "display_data"
    }
   ],
   "source": [
    "graph=result_ANOCA.mean(axis=0)[5].T\n",
    "graph[abs(graph)<0.2]=0\n",
    "plt.matshow(graph, cmap = 'bwr', vmin = -1, vmax = 1)\n",
    "fig1 = plt.gcf()\n",
    "plt.colorbar()\n",
    "plt.show()"
   ]
  },
  {
   "cell_type": "code",
   "execution_count": 43,
   "id": "774365b0",
   "metadata": {},
   "outputs": [
    {
     "data": {
      "image/png": "[encoded data removed]",
      "text/plain": [
       "<Figure size 288x288 with 2 Axes>"
      ]
     },
     "metadata": {
      "needs_background": "light"
     },
     "output_type": "display_data"
    }
   ],
   "source": [
    "graph=result_new.mean(axis=0)[5]\n",
    "graph[abs(graph)<0.2]=0\n",
    "plt.matshow(graph, cmap = 'bwr', vmin = -1, vmax = 1)\n",
    "fig1 = plt.gcf()\n",
    "plt.colorbar()\n",
    "plt.show()"
   ]
  },
  {
   "cell_type": "code",
   "execution_count": 51,
   "id": "6506a7f5",
   "metadata": {},
   "outputs": [
    {
     "data": {
      "text/plain": [
       "array([[ 0.        , -0.68855884,  0.        ,  0.05162448,  0.        ],\n",
       "       [-0.06141036,  0.        ,  0.        , -0.14273371,  0.        ],\n",
       "       [ 0.        ,  0.        ,  0.        ,  0.        ,  0.        ],\n",
       "       [ 0.76602072, -0.02837682,  0.        ,  0.        ,  0.        ],\n",
       "       [ 0.        ,  0.        ,  0.        ,  0.        ,  0.        ]])"
      ]
     },
     "execution_count": 51,
     "metadata": {},
     "output_type": "execute_result"
    }
   ],
   "source": [
    "result_NOTEARS.mean(axis=0)[0]"
   ]
  },
  {
   "cell_type": "code",
   "execution_count": 44,
   "id": "7da95586",
   "metadata": {},
   "outputs": [
    {
     "data": {
      "image/png": "[encoded data removed]",
      "text/plain": [
       "<Figure size 288x288 with 2 Axes>"
      ]
     },
     "metadata": {
      "needs_background": "light"
     },
     "output_type": "display_data"
    }
   ],
   "source": [
    "graph=result_NOTEARS.mean(axis=0)[5]\n",
    "graph[abs(graph)<0.2]=0\n",
    "plt.matshow(graph, cmap = 'bwr', vmin = -1, vmax = 1)\n",
    "fig1 = plt.gcf()\n",
    "plt.colorbar()\n",
    "plt.show()"
   ]
  },
  {
   "cell_type": "code",
   "execution_count": 45,
   "id": "00b95ed7",
   "metadata": {},
   "outputs": [
    {
     "data": {
      "image/png": "[encoded data removed]",
      "text/plain": [
       "<Figure size 288x288 with 2 Axes>"
      ]
     },
     "metadata": {
      "needs_background": "light"
     },
     "output_type": "display_data"
    }
   ],
   "source": [
    "graph=result_dynotears.mean(axis=0)[4]\n",
    "graph[abs(graph)<0.2]=0\n",
    "plt.matshow(graph, cmap = 'bwr', vmin = -1, vmax = 1)\n",
    "fig1 = plt.gcf()\n",
    "plt.colorbar()\n",
    "plt.show()"
   ]
  },
  {
   "cell_type": "code",
   "execution_count": 30,
   "id": "95b6667a",
   "metadata": {},
   "outputs": [
    {
     "data": {
      "image/png": "[encoded data removed]",
      "text/plain": [
       "<Figure size 288x288 with 2 Axes>"
      ]
     },
     "metadata": {
      "needs_background": "light"
     },
     "output_type": "display_data"
    }
   ],
   "source": [
    "##True ##time 9\n",
    "aa=base_DAG\n",
    "aa[2,4]=y[9]##edited to be coeffcient with error\n",
    "aa[0,3]=z[9]###multiple\n",
    "\n",
    "plt.matshow(aa.T, cmap = 'bwr', vmin = -1, vmax = 1)\n",
    "fig1 = plt.gcf()\n",
    "plt.colorbar()\n",
    "plt.show()"
   ]
  },
  {
   "cell_type": "code",
   "execution_count": 31,
   "id": "fa6c4847",
   "metadata": {},
   "outputs": [
    {
     "data": {
      "image/png": "[encoded data removed]",
      "text/plain": [
       "<Figure size 288x288 with 2 Axes>"
      ]
     },
     "metadata": {
      "needs_background": "light"
     },
     "output_type": "display_data"
    }
   ],
   "source": [
    "graph=result_ANOCA.mean(axis=0)[9].T\n",
    "graph[abs(graph)<0.2]=0\n",
    "plt.matshow(graph, cmap = 'bwr', vmin = -1, vmax = 1)\n",
    "fig1 = plt.gcf()\n",
    "plt.colorbar()\n",
    "plt.show()"
   ]
  },
  {
   "cell_type": "code",
   "execution_count": 32,
   "id": "3ff54e82",
   "metadata": {},
   "outputs": [
    {
     "data": {
      "image/png": "[encoded data removed]",
      "text/plain": [
       "<Figure size 288x288 with 2 Axes>"
      ]
     },
     "metadata": {
      "needs_background": "light"
     },
     "output_type": "display_data"
    }
   ],
   "source": [
    "graph=result_new.mean(axis=0)[9]\n",
    "graph[abs(graph)<0.2]=0\n",
    "plt.matshow(graph, cmap = 'bwr', vmin = -1, vmax = 1)\n",
    "fig1 = plt.gcf()\n",
    "plt.colorbar()\n",
    "plt.show()"
   ]
  },
  {
   "cell_type": "code",
   "execution_count": 33,
   "id": "42298031",
   "metadata": {},
   "outputs": [
    {
     "data": {
      "image/png": "[encoded data removed]",
      "text/plain": [
       "<Figure size 288x288 with 2 Axes>"
      ]
     },
     "metadata": {
      "needs_background": "light"
     },
     "output_type": "display_data"
    }
   ],
   "source": [
    "graph=result_NOTEARS.mean(axis=0)[9]\n",
    "graph[abs(graph)<0.2]=0\n",
    "plt.matshow(graph, cmap = 'bwr', vmin = -1, vmax = 1)\n",
    "fig1 = plt.gcf()\n",
    "plt.colorbar()\n",
    "plt.show()"
   ]
  },
  {
   "cell_type": "code",
   "execution_count": 41,
   "id": "4af7a545",
   "metadata": {},
   "outputs": [
    {
     "data": {
      "image/png": "[encoded data removed]",
      "text/plain": [
       "<Figure size 288x288 with 2 Axes>"
      ]
     },
     "metadata": {
      "needs_background": "light"
     },
     "output_type": "display_data"
    }
   ],
   "source": [
    "graph=result_dynotears.mean(axis=0)[8]\n",
    "graph[abs(graph)<0.2]=0\n",
    "plt.matshow(graph, cmap = 'bwr', vmin = -1, vmax = 1)\n",
    "fig1 = plt.gcf()\n",
    "plt.colorbar()\n",
    "plt.show()"
   ]
  },
  {
   "cell_type": "code",
   "execution_count": 249,
   "id": "b2b8dd2b",
   "metadata": {},
   "outputs": [
    {
     "data": {
      "image/png": "[encoded data removed]",
      "text/plain": [
       "<Figure size 288x288 with 2 Axes>"
      ]
     },
     "metadata": {
      "needs_background": "light"
     },
     "output_type": "display_data"
    }
   ],
   "source": [
    "##True ##time 9\n",
    "aa=base_DAG\n",
    "aa[2,4]=y[9]##edited to be coeffcient with error\n",
    "aa[0,3]=z[9]###multiple\n",
    "\n",
    "plt.matshow(aa.T, cmap = 'bwr', vmin = -1, vmax = 1)\n",
    "fig1 = plt.gcf()\n",
    "plt.colorbar()\n",
    "plt.show()"
   ]
  },
  {
   "cell_type": "code",
   "execution_count": 117,
   "id": "adc2ede9",
   "metadata": {},
   "outputs": [
    {
     "ename": "NameError",
     "evalue": "name 'average_coef_list' is not defined",
     "output_type": "error",
     "traceback": [
      "\u001b[1;31m---------------------------------------------------------------------------\u001b[0m",
      "\u001b[1;31mNameError\u001b[0m                                 Traceback (most recent call last)",
      "\u001b[1;32m<ipython-input-117-b93469b78cb8>\u001b[0m in \u001b[0;36m<module>\u001b[1;34m\u001b[0m\n\u001b[0;32m      1\u001b[0m \u001b[1;31m##ANOCA, time9\u001b[0m\u001b[1;33m\u001b[0m\u001b[1;33m\u001b[0m\u001b[1;33m\u001b[0m\u001b[0m\n\u001b[1;32m----> 2\u001b[1;33m \u001b[0mbb\u001b[0m\u001b[1;33m=\u001b[0m\u001b[0maverage_coef_list\u001b[0m\u001b[1;33m[\u001b[0m\u001b[1;33m:\u001b[0m\u001b[1;33m,\u001b[0m\u001b[1;36m9\u001b[0m\u001b[1;33m,\u001b[0m\u001b[1;33m:\u001b[0m\u001b[1;33m,\u001b[0m\u001b[1;33m:\u001b[0m\u001b[1;33m]\u001b[0m\u001b[1;33m.\u001b[0m\u001b[0mmean\u001b[0m\u001b[1;33m(\u001b[0m\u001b[0maxis\u001b[0m\u001b[1;33m=\u001b[0m\u001b[1;36m0\u001b[0m\u001b[1;33m)\u001b[0m\u001b[1;33m.\u001b[0m\u001b[0mT\u001b[0m\u001b[1;33m\u001b[0m\u001b[1;33m\u001b[0m\u001b[0m\n\u001b[0m\u001b[0;32m      3\u001b[0m \u001b[0mbb\u001b[0m\u001b[1;33m[\u001b[0m\u001b[0mabs\u001b[0m\u001b[1;33m(\u001b[0m\u001b[0mbb\u001b[0m\u001b[1;33m)\u001b[0m\u001b[1;33m<\u001b[0m\u001b[1;36m0.3\u001b[0m\u001b[1;33m]\u001b[0m\u001b[1;33m=\u001b[0m\u001b[1;36m0\u001b[0m\u001b[1;33m\u001b[0m\u001b[1;33m\u001b[0m\u001b[0m\n\u001b[0;32m      4\u001b[0m \u001b[0mplt\u001b[0m\u001b[1;33m.\u001b[0m\u001b[0mmatshow\u001b[0m\u001b[1;33m(\u001b[0m\u001b[0mbb\u001b[0m\u001b[1;33m,\u001b[0m \u001b[0mcmap\u001b[0m \u001b[1;33m=\u001b[0m \u001b[1;34m'bwr'\u001b[0m\u001b[1;33m,\u001b[0m \u001b[0mvmin\u001b[0m \u001b[1;33m=\u001b[0m \u001b[1;33m-\u001b[0m\u001b[1;36m1\u001b[0m\u001b[1;33m,\u001b[0m \u001b[0mvmax\u001b[0m \u001b[1;33m=\u001b[0m \u001b[1;36m1\u001b[0m\u001b[1;33m)\u001b[0m\u001b[1;33m\u001b[0m\u001b[1;33m\u001b[0m\u001b[0m\n\u001b[0;32m      5\u001b[0m \u001b[0mfig1\u001b[0m \u001b[1;33m=\u001b[0m \u001b[0mplt\u001b[0m\u001b[1;33m.\u001b[0m\u001b[0mgcf\u001b[0m\u001b[1;33m(\u001b[0m\u001b[1;33m)\u001b[0m\u001b[1;33m\u001b[0m\u001b[1;33m\u001b[0m\u001b[0m\n",
      "\u001b[1;31mNameError\u001b[0m: name 'average_coef_list' is not defined"
     ]
    }
   ],
   "source": [
    "##ANOCA, time9\n",
    "bb=average_coef_list[:,9,:,:].mean(axis=0).T\n",
    "bb[abs(bb)<0.3]=0\n",
    "plt.matshow(bb, cmap = 'bwr', vmin = -1, vmax = 1)\n",
    "fig1 = plt.gcf()\n",
    "plt.colorbar()\n",
    "plt.show()"
   ]
  },
  {
   "cell_type": "code",
   "execution_count": 118,
   "id": "ba01e443",
   "metadata": {},
   "outputs": [
    {
     "data": {
      "image/png": "[encoded data removed]",
      "text/plain": [
       "<Figure size 288x288 with 2 Axes>"
      ]
     },
     "metadata": {
      "needs_background": "light"
     },
     "output_type": "display_data"
    }
   ],
   "source": [
    "##new, time9\n",
    "bb=average_coef_list_new[:,9,:,:].mean(axis=0)\n",
    "bb[abs(bb)<0.3]=0\n",
    "plt.matshow(bb, cmap = 'bwr', vmin = -1, vmax = 1)\n",
    "fig1 = plt.gcf()\n",
    "plt.colorbar()\n",
    "plt.show()"
   ]
  },
  {
   "cell_type": "code",
   "execution_count": 71,
   "id": "c609aa67",
   "metadata": {},
   "outputs": [],
   "source": [
    "true_value=([abs(cos(i))>0.4 for i in x])\n",
    "estimated=abs(average_coef_list_new)>0.4\n",
    "count_new=[]\n",
    "for replicate in range(len(estimated)):\n",
    "    count_each=0\n",
    "    for i in range(len(true_value)):\n",
    "        if true_value[i]==1 and estimated[replicate][i]==1:\n",
    "            count_each+=1\n",
    "    count_new.append(count_each)"
   ]
  },
  {
   "cell_type": "code",
   "execution_count": 75,
   "id": "34bea5f7",
   "metadata": {},
   "outputs": [
    {
     "data": {
      "text/plain": [
       "13"
      ]
     },
     "execution_count": 75,
     "metadata": {},
     "output_type": "execute_result"
    }
   ],
   "source": [
    "mean(count)"
   ]
  },
  {
   "cell_type": "code",
   "execution_count": 74,
   "id": "e5da2a29",
   "metadata": {},
   "outputs": [
    {
     "data": {
      "text/plain": [
       "11.133333333333333"
      ]
     },
     "execution_count": 74,
     "metadata": {},
     "output_type": "execute_result"
    }
   ],
   "source": [
    "mean(count_new)"
   ]
  }
 ],
 "metadata": {
  "colab": {
   "name": "Copy of 100_rep_simulation_dim_5-cos_error.ipynb",
   "provenance": [],
   "toc_visible": true
  },
  "kernelspec": {
   "display_name": "Python 3",
   "language": "python",
   "name": "python3"
  },
  "language_info": {
   "codemirror_mode": {
    "name": "ipython",
    "version": 3
   },
   "file_extension": ".py",
   "mimetype": "text/x-python",
   "name": "python",
   "nbconvert_exporter": "python",
   "pygments_lexer": "ipython3",
   "version": "3.7.3"
  }
 },
 "nbformat": 4,
 "nbformat_minor": 5
}
